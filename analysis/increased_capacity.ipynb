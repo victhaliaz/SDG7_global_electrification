{
 "cells": [
  {
   "cell_type": "code",
   "execution_count": 1,
   "metadata": {},
   "outputs": [],
   "source": [
    "# %%\n",
    "# %%\n",
    "# -*- coding: utf-8 -*-\n",
    "\"\"\"\n",
    "Created on Fri Mar  4 13:59:24 2022\n",
    "\n",
    "@author: zapatacasv\n",
    "\"\"\"\n",
    "\n",
    "import pandas as pd\n",
    "import numpy as np\n",
    "import os\n",
    "import xarray as xr \n",
    "import plotly.express as px\n",
    "\n",
    "os.getcwd()\n",
    "DIR = \"X:\\\\user\\\\zapatacasv\\\\sdg7\\\\scripts\"   # Set the running directory here\n",
    "os.chdir(DIR)\n",
    "\n"
   ]
  },
  {
   "cell_type": "code",
   "execution_count": 50,
   "metadata": {},
   "outputs": [],
   "source": [
    "a = xr.open_dataset('..\\\\output\\\\PEP-2C-AdvPE-DLS\\\\ec_a_world.nc') #The capacities required per tech only vary for DLS or not DLS scenarios\n",
    "a = a.sel(year = 2030)\n",
    "\n"
   ]
  },
  {
   "cell_type": "code",
   "execution_count": 51,
   "metadata": {},
   "outputs": [],
   "source": [
    "#Calculating capacity for Stand-alone because I forgot to export it\n",
    "import data_import as dat\n",
    "\n",
    "import test as gph\n",
    "gph.Elecuseg = xr.open_dataarray('..\\\\output\\\\gph_SSP2_DLS\\\\gph_Elecuseg_world_SSP2.nc').sel(year = 2030)\n",
    "gph.hhnumberg = xr.open_dataset('..\\\\output\\\\gph_SSP2_DLS\\\\gph_hhnumberg_world_SSP2.nc').sel(year = 2030)\n",
    "gph.popg = xr.open_dataset('..\\\\output\\\\gph_SSP2_DLS\\\\gph_popg_world_SSP2.nc').sel(year = 2030)\n",
    "\n",
    "# !******************** PV STANDALONE ***********************\n",
    "\n",
    "MG2SA\t=\t1.2\t\t\t#! Multiplication factor from mini-gridSAl_SystemCapacity0 to standalone price\n",
    "\n",
    "\n",
    "elec_use_perhh = dat.elec_use_perhh.sel( turq = 1, year = 2030)\n",
    "a['SAl_SystemCapacity0'] = xr.full_like(gph.Elecuseg, np.nan)\n",
    "for r in dat.nrc:\n",
    "        a['SAl_SystemCapacity0'] = xr.where((a.imager == r) ,elec_use_perhh.sel(region = r), a['SAl_SystemCapacity0'])   # (kWh-use per hh) \n",
    "\n",
    "\n",
    "a['SAl_SystemCapacity'] = a['SAl_SystemCapacity0'].expand_dims({'dos':['PV', 'diesel']}).copy().transpose('y', 'x',  'dos')  #\t\t\n",
    "\n",
    "\n",
    "\n",
    "##!************************* STANDALONE DIESEL GENSET ***********************\n",
    "DG_HoursOperation = 24*365\n",
    "DGStAl_LoadFactor\t\t=\t0.5 \n",
    "\n",
    "a['SAl_SystemCapacity'][dict(dos= 1)] = xr.where((gph.hhnumberg.hhnumberg.sel(turq = 1) > 1e-6), a['SAl_SystemCapacity0']*1.7/(DG_HoursOperation*DGStAl_LoadFactor), 0 ). transpose('y', 'x')  # (kW) capcity per TURQ total ---- The 1.7 is the peak versus middle load ratio from my paper"
   ]
  },
  {
   "cell_type": "code",
   "execution_count": 47,
   "metadata": {},
   "outputs": [],
   "source": [
    "#list of scenarios\n",
    "scen = ['SSP2','SSP2-DLS',  'PEP-2C-AdvPE', 'PEP-2C-AdvPE-DLS']\n",
    "fn = ['techid_univ', 'techid_bl']\n",
    "path = []\n",
    "fn2 = []\n",
    "for s in scen:\n",
    "    for f in fn:\n",
    "        arr = '..\\\\output\\\\%s\\\\%s.nc' %(s, f)\n",
    "        path.append(arr)\n",
    "        arr = f + '-' + s #s #\n",
    "        fn2.append(arr)\n",
    "techid1 = xr.combine_by_coords([xr.open_dataarray(path[i]).to_dataset(name = fn2[i] ) for i in range(len(path))], combine_attrs = \"override\")\n",
    "\n"
   ]
  },
  {
   "cell_type": "code",
   "execution_count": 52,
   "metadata": {},
   "outputs": [],
   "source": [
    "\n",
    "fn2 = [#'techid_univ-SSP2',\n",
    " #'techid_bl-SSP2',\n",
    " 'techid_univ-SSP2-DLS',\n",
    " #'techid_univ-PEP-2C-AdvPE']#,\n",
    " 'techid_univ-PEP-2C-AdvPE-DLS']\n",
    "\n",
    "scen = {'techid_univ-SSP2' : 'SSP2-UA',\n",
    " 'techid_bl-SSP2' :  'SSP2-BL',\n",
    " 'techid_univ-SSP2-DLS' :  'SSP2-UA-DLS',\n",
    " 'techid_univ-PEP-2C-AdvPE' :  'SSP2-2C-UA', #} #,\n",
    " #'techid_bl-PEP-2C-AdvPE' : 'SSP2-2C-BL',\n",
    " 'techid_univ-PEP-2C-AdvPE-DLS' : 'SSP2-2C-UA-DLS'}\n",
    "\n",
    "techid = techid1[fn2]"
   ]
  },
  {
   "cell_type": "code",
   "execution_count": 53,
   "metadata": {},
   "outputs": [],
   "source": [
    "\n",
    "capacity = techid\n",
    "\n",
    "for f in fn2:\n",
    "    capacity[scen[f]] = techid[f]\n",
    "    #capacity =  xr.where(techid == 1, np.nan, capacity)   #! Grid cell already has access to central grid\n",
    "    #capacity = xr.where(techid == 2, np.nan, capacity) #! Distribution network plus generation cost  \n",
    "    capacity[scen[f]] = xr.where(techid[f] <= 3, np.nan, capacity[scen[f]])    #! Transmission and Distribution network plus generation cost  \n",
    "    capacity[scen[f]] = xr.where(techid[f] == 4, a.MiniG_ActualSyscap.sel(seis ='PV' ), capacity[scen[f]]) #Mini grid\n",
    "    capacity[scen[f]] = xr.where(techid[f] == 5, a.MiniG_ActualSyscap.sel(seis = 'diesel'), capacity[scen[f]])\n",
    "    capacity[scen[f]] = xr.where(techid[f] == 6, a.MiniG_ActualSyscap.sel(seis = 'wind'), capacity[scen[f]])\n",
    "    capacity[scen[f]] = xr.where(techid[f] == 7, a.MiniG_ActualSyscap.sel(seis = 'hydro'), capacity[scen[f]])\n",
    "    capacity[scen[f]] = xr.where(techid[f] == 8, a['PVHybSystemCapacity']+a[ 'DGHybSystemCapacity'], capacity[scen[f]]) # #Mini grid hybrid PV\n",
    "    capacity[scen[f]] = xr.where(techid[f] == 9, a['WindHybSystemCapacity']+a[ 'DGHybSystemCapacity2'], capacity[scen[f]])\n",
    "    capacity[scen[f]] = xr.where(techid[f] == 10,a['SAl_SystemCapacity'].sel( dos = 'PV'), capacity[scen[f]])     # Standalone turq = 1,\n",
    "    capacity[scen[f]] = xr.where(techid[f] == 11,a['SAl_SystemCapacity'].sel( dos = 'diesel'), capacity[scen[f]]) #turq = 1,\n",
    "    capacity[f] = techid[f]\n",
    "\n",
    "\n",
    "capacity.to_netcdf('..\\\\output\\\\analysis\\\\ec_system_capacities_SSP2_DLS.nc')"
   ]
  },
  {
   "cell_type": "code",
   "execution_count": 54,
   "metadata": {},
   "outputs": [],
   "source": [
    "#Preparing data for Plotting distribution of least cost options in the population for achieving universal access for WORLD for offgrid\n",
    "arr = capacity\n",
    "#nrc = techid.imager.where(techid['techid_univ-SSP2-DLS']>0, drop = True).groupby('imager')\n",
    "df1 = pd.DataFrame([])\n",
    "for r in dat.nrc-1: #[3,4,6, 8.0, 9.0,10,21,22,24,25,26, 18, 3]:\n",
    "    for f in fn2:\n",
    "        df = arr.where(arr.imager == r)\n",
    "        df.coords[f] = df[f]\n",
    "        if np.isnan(np.min(df[f])):\n",
    "            pass\n",
    "        else:\n",
    "            df2 = df[scen[f]].groupby(df[f]).sum().drop(['spatial_ref',  'dos', 'year', 'seis', 'tres', 'turq']).to_dataframe(name = ('capacity_kW'))\n",
    "            df2['region'] = r\n",
    "            df2['scenario'] = scen[f]\n",
    "            df1 = pd.concat([df1,df2])#df1.append(df)\n",
    "#df1\n",
    "\n",
    "df2 = df1\n",
    "df2 = df2.reset_index(names = 'techid')\n",
    "df2 = df2.drop(df2[df2.techid<4].index)\n",
    "df2 = df2[df2[\"scenario\"].isin(scen.values())]\n",
    "df2 = df2.replace({'techid': {  4: 'MG-PV', 5: 'MG-diesel', 6: 'MG-wind', 7:'MG-hydro' , 8:'MG-PV-diesel', 9:'MG-wind-diesel', 10:'SA-PV', 11: \"SA-diesel\"}}) #1: 'already access',\n",
    "#df2 = df2.replace({'region':  {4: 'Rest Central America', 6:'Rest South America', 8:'Western Africa', 9: 'Eastern Africa', 10: 'South Africa', 21: 'Southeastern Asia', 22: 'Indonesia +', 24:'Oceania' , 25:'Rest South Asia', 26:'Rest South Africa', 18: 'India', 3: 'Mexico'}})  #{ 8:'Western Africa', 9: 'Eastern Africa', 10: 'South Africa', 26:'Rest SSA'}}) #{6:'Rest South America', 8:'Western Africa', 9: 'Eastern Africa', 10: 'South Africa', 21: 'Southeastern Asia', 22: 'Indonesia +', 24:'Oceania' , 25:'Rest S.Asia', 26:'Rest S.Africa'}})\n",
    "df2['capacity_GW'] = df2['capacity_kW']*1e-6\n",
    "df2.to_csv('..\\\\output\\\\analysis\\\\capacity_pertech_scenario_world_SSP2_DLS.csv')"
   ]
  },
  {
   "cell_type": "code",
   "execution_count": 55,
   "metadata": {},
   "outputs": [],
   "source": [
    "#Asessment for central gid connection\n",
    "Elecuseg = gph.Elecuseg# xr.open_dataarray('..\\\\output\\\\SSP2-DLS\\\\gph_Elecuseg_world_SSP2.nc')\n",
    "\n",
    "arr = techid\n",
    "arr = xr.where((arr ==2) | (arr==3), arr, np.nan)\n",
    "arr['Elecuseg'] = Elecuseg#.sel(year = 2030)  \n",
    "\n",
    "cg = pd.DataFrame([])\n",
    "for f in fn2:\n",
    "        df = arr[[f, 'Elecuseg']]\n",
    "        df = df.Elecuseg.where(arr[f]>0).groupby('imager').sum().drop(['spatial_ref',  'dos', 'year', 'seis', 'tres', 'turq', 'region']).to_dataframe(name = ('Elecuseg'))\n",
    "        df['scenario'] = scen[f]\n",
    "        cg = pd.concat([cg,df])#df1.append(df)\n",
    "\n",
    "cg2 = cg\n",
    "cg2 = cg2.reset_index(names = 'region')\n",
    "#df2 = df2.drop(df2[df2.techid<4].index)\n",
    "cg2 = cg2[cg2[\"scenario\"].isin(scen.values())]\n",
    "#cg2 = cg2.replace({'techid': { 2:'CG-densification', 3: 'CG-extension',}}) #1: 'already access',\n",
    "#cg2 = cg2.replace({'region':  {4: 'Rest Central America', 6:'Rest South America', 8:'Western Africa', 9: 'Eastern Africa', 10: 'South Africa', 21: 'Southeastern Asia', 22: 'Indonesia +', 24:'Oceania' , 25:'Rest South Asia', 26:'Rest South Africa', 18: 'India', 3: 'Mexico'}})  #{ 8:'Western Africa', 9: 'Eastern Africa', 10: 'South Africa', 26:'Rest SSA'}}) #{6:'Rest South America', 8:'Western Africa', 9: 'Eastern Africa', 10: 'South Africa', 21: 'Southeastern Asia', 22: 'Indonesia +', 24:'Oceania' , 25:'Rest S.Asia', 26:'Rest S.Africa'}})\n",
    "\n",
    "cg2.to_csv('..\\\\output\\\\analysis\\\\elec_use_CGextension_scenario_DLS.csv')"
   ]
  },
  {
   "attachments": {},
   "cell_type": "markdown",
   "metadata": {},
   "source": [
    "Concatenate in excel dls and non dls for cg and off-grid. Also calculate from cg elecuse the capacities using regional capacity factors"
   ]
  },
  {
   "cell_type": "code",
   "execution_count": null,
   "metadata": {},
   "outputs": [],
   "source": [
    "#preparing data for global map array([ 3,  4,  6,  7,  8,  9, 10, 17, 18, 19, 20, 21, 22, 24, 25, 26])\n",
    "df2 = pd.read_csv('..\\\\output\\\\analysis\\\\capacity_pertech_scenario_world.csv')  #concatanated in excel the dls and non dls scenarios\n",
    "df2 = df2.replace({'region':  {3: 'Mexico', 4: 'Rest Central America', 6:'Rest South America',  7:'Northern Africa',8:'Western Africa', 9: 'Eastern Africa', 10: 'South Africa',17:'Middle East', 18:'India +', 19: 'Korea', 20:'China +', 21: 'Southeastern Asia', 22: 'Indonesia +', 24:'Oceania' , 25:'Rest South Asia', 26:'Rest South Africa'}}) \n",
    "# df2 = df2.replace({'region':  {3: 'Rest World', 4: 'Rest World', 6:'Rest World',  7:'Rest World',8:'Western Africa', 9: 'Eastern Africa',\n",
    "#                                 10: 'Rest World',17:'Rest World', 18:'Rest World', 19: 'Rest World', 20:'Rest World', 21: 'Rest World',\n",
    "#                                   22:'Rest World', 24:'Rest World', 25:'Rest South Asia', 26:'Rest South Africa'}}) \n",
    "df2 = df2.groupby(['region', 'scenario']).sum()\n",
    "df2 = df2.reset_index()\n",
    "df2['techid'] = 'Off-Grid'\n",
    "df2 = df2.sort_values(by='capacity_MW', ascending=False)\n",
    "\n",
    "df1 = pd.read_csv('..\\\\output\\\\analysis\\\\capacity_CGextension_allscenarios.csv')  #concatanated in excel the dls and non dls scenarios and converted to capacity \n",
    "df1 = df1[df1['region'].isin([ 3,  4,  6,  7,  8,  9, 10, 17, 18, 19, 20, 21, 22, 24, 25, 26])]\n",
    "#df1 = df1.replace({'region':  {3: 'Mexico', 4: 'Rest Central America', 6:'Rest South America',  7:'Northern Africa',8:'Western Africa', 9: 'Eastern Africa', 10: 'South Africa',17:'Middle East', 18:'India +', 19: 'Korea', 20:'China +', 21: 'Southeastern Asia', 22: 'Indonesia +', 24:'Oceania' , 25:'Rest South Asia', 26:'Rest South Africa'}}) \n",
    "df1 = df1.replace({'region':  {3: 'Rest World', 4: 'Rest World', 6:'Rest World',  7:'Rest World',8:'Western Africa', 9: 'Eastern Africa', 10: 'Rest World',17:'Rest World', 18:'Rest World', 19: 'Rest World', 20:'Rest World', 21: 'Rest World', 22:'Rest World', 24:'Rest World', 25:'Rest South Asia', 26:'Rest South Africa'}}) \n",
    "df1 = df1.reset_index()\n",
    "df1['techid'] = 'CG Extension T&D'\n",
    "df1 =df1.drop(columns = 'Elecuseg')\n",
    "df1 = df1.sort_values(by='capacity_MW', ascending=False)\n",
    "\n",
    "df3 = pd.concat([df1,df2])\n",
    "df3['capacity_GW'] = df3['capacity_MW']/1000"
   ]
  }
 ],
 "metadata": {
  "kernelspec": {
   "display_name": "mapenv",
   "language": "python",
   "name": "python3"
  },
  "language_info": {
   "codemirror_mode": {
    "name": "ipython",
    "version": 3
   },
   "file_extension": ".py",
   "mimetype": "text/x-python",
   "name": "python",
   "nbconvert_exporter": "python",
   "pygments_lexer": "ipython3",
   "version": "3.9.15"
  },
  "orig_nbformat": 4,
  "vscode": {
   "interpreter": {
    "hash": "f20823686ca0596b345df4e2ce6b4aaa4c049a4c51a5cd6368b00f8b23f53cf9"
   }
  }
 },
 "nbformat": 4,
 "nbformat_minor": 2
}
