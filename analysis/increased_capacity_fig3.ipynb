{
 "cells": [
  {
   "cell_type": "code",
   "execution_count": 1,
   "metadata": {},
   "outputs": [],
   "source": [
    "# %%\n",
    "# %%\n",
    "# -*- coding: utf-8 -*-\n",
    "\"\"\"\n",
    "Created on Fri Mar  4 13:59:24 2022\n",
    "\n",
    "@author: zapatacasv\n",
    "\"\"\"\n",
    "\n",
    "import pandas as pd\n",
    "import numpy as np\n",
    "import os\n",
    "import xarray as xr \n",
    "import plotly.express as px\n",
    "\n",
    "\n",
    "os.getcwd()\n",
    "DIR = \"X:\\\\user\\\\zapatacasv\\\\sdg7\\\\scripts\"   # Set the running directory here\n",
    "os.chdir(DIR)\n",
    "#import data_import as dat\n",
    "\n"
   ]
  },
  {
   "cell_type": "code",
   "execution_count": 2,
   "metadata": {},
   "outputs": [
    {
     "name": "stderr",
     "output_type": "stream",
     "text": [
      "C:\\Users\\zapatacasv\\AppData\\Local\\Temp\\2\\ipykernel_9612\\716527857.py:5: FutureWarning: The default value of numeric_only in DataFrameGroupBy.sum is deprecated. In a future version, numeric_only will default to False. Either specify numeric_only or select only columns which should be valid for the function.\n",
      "  df2 = df2.groupby(['region', 'scenario']).sum()\n"
     ]
    }
   ],
   "source": [
    "#preparing data for global map array([ 3,  4,  6,  7,  8,  9, 10, 17, 18, 19, 20, 21, 22, 24, 25, 26])\n",
    "df2 = pd.read_csv('..\\\\output\\\\analysis\\\\capacity_pertech_scenario_world.csv')  #concatanated in excel the dls and non dls scenarios\n",
    "#df2 = df2.replace({'region':  {3: 'Mexico', 4: 'Rest Central America', 6:'Rest South America',  7:'Northern Africa',8:'Western Africa', 9: 'Eastern Africa', 10: 'South Africa',17:'Middle East', 18:'India +', 19: 'Korea', 20:'China +', 21: 'Southeastern Asia', 22: 'Indonesia +', 24:'Oceania' , 25:'Rest South Asia', 26:'Rest South Africa'}}) \n",
    "df2 = df2.replace({'region':  {3: 'Rest World', 4: 'Rest World', 6:'Rest World',  7:'Rest World',8:'Western Africa', 9: 'Eastern Africa', 10: 'Rest World',17:'Rest World', 18:'Rest World', 19: 'Rest World', 20:'Rest World', 21: 'Rest World', 22:'Rest World', 24:'Rest World', 25:'Rest South Asia', 26:'Rest South Africa'}}) \n",
    "df2 = df2.groupby(['region', 'scenario']).sum()\n",
    "df2 = df2.reset_index()\n",
    "df2['techid'] = 'Off-Grid'\n",
    "df2 = df2.sort_values(by='capacity_MW', ascending=False)\n",
    "\n",
    "df1 = pd.read_csv('..\\\\output\\\\analysis\\\\capacity_CGextension_allscenarios.csv')  #concatanated in excel the dls and non dls scenarios\n",
    "df1 = df1[df1['region'].isin([ 3,  4,  6,  7,  8,  9, 10, 17, 18, 19, 20, 21, 22, 24, 25, 26])]\n",
    "#df1 = df1.replace({'region':  {3: 'Mexico', 4: 'Rest Central America', 6:'Rest South America',  7:'Northern Africa',8:'Western Africa', 9: 'Eastern Africa', 10: 'South Africa',17:'Middle East', 18:'India +', 19: 'Korea', 20:'China +', 21: 'Southeastern Asia', 22: 'Indonesia +', 24:'Oceania' , 25:'Rest South Asia', 26:'Rest South Africa'}}) \n",
    "df1 = df1.replace({'region':  {3: 'Rest World', 4: 'Rest World', 6:'Rest World',  7:'Rest World',8:'Western Africa', 9: 'Eastern Africa', 10: 'Rest World',17:'Rest World', 18:'Rest World', 19: 'Rest World', 20:'Rest World', 21: 'Rest World', 22:'Rest World', 24:'Rest World', 25:'Rest South Asia', 26:'Rest South Africa'}}) \n",
    "df1 = df1.groupby(['region', 'scenario']).sum()\n",
    "df1 = df1.reset_index()\n",
    "df1['techid'] = 'CG Extension T&D'\n",
    "df1 =df1.drop(columns = 'Elecuseg')\n",
    "df1 = df1.sort_values(by='capacity_MW', ascending=False)\n",
    "\n",
    "df3 = pd.concat([df1,df2])\n",
    "df3['capacity_GW'] = df3['capacity_MW']/1000"
   ]
  },
  {
   "cell_type": "code",
   "execution_count": null,
   "metadata": {},
   "outputs": [],
   "source": []
  },
  {
   "cell_type": "code",
   "execution_count": 20,
   "metadata": {},
   "outputs": [
    {
     "data": {
      "application/vnd.plotly.v1+json": {
       "config": {
        "plotlyServerURL": "https://plot.ly"
       },
       "data": [
        {
         "alignmentgroup": "True",
         "hovertemplate": "Legend:=Western Africa<br> =CG Extension T&D<br>Capacity [GW]=%{x}<br>=%{y}<extra></extra>",
         "legendgroup": "Western Africa",
         "marker": {
          "color": "#636efa",
          "pattern": {
           "shape": ""
          }
         },
         "name": "Western Africa",
         "offsetgroup": "Western Africa",
         "orientation": "h",
         "showlegend": true,
         "textposition": "auto",
         "type": "bar",
         "x": [
          19.84921948,
          19.47366686,
          4.238343894,
          4.1581532779999995,
          1.954092612
         ],
         "xaxis": "x2",
         "y": [
          "SSP2-2C-UA-DLS",
          "SSP2-UA-DLS",
          "SSP2-2C-UA",
          "SSP2-UA",
          "SSP2-BL"
         ],
         "yaxis": "y2"
        },
        {
         "alignmentgroup": "True",
         "hovertemplate": "Legend:=Western Africa<br> =Off-Grid<br>Capacity [GW]=%{x}<br>=%{y}<extra></extra>",
         "legendgroup": "Western Africa",
         "marker": {
          "color": "#636efa",
          "pattern": {
           "shape": ""
          }
         },
         "name": "Western Africa",
         "offsetgroup": "Western Africa",
         "orientation": "h",
         "showlegend": false,
         "textposition": "auto",
         "type": "bar",
         "x": [
          44.56558667259,
          42.50349173959,
          15.928844790524,
          15.590633167582002,
          0.71033196758
         ],
         "xaxis": "x",
         "y": [
          "SSP2-2C-UA-DLS",
          "SSP2-UA-DLS",
          "SSP2-2C-UA",
          "SSP2-UA",
          "SSP2-BL"
         ],
         "yaxis": "y"
        },
        {
         "alignmentgroup": "True",
         "hovertemplate": "Legend:=Rest South Africa<br> =CG Extension T&D<br>Capacity [GW]=%{x}<br>=%{y}<extra></extra>",
         "legendgroup": "Rest South Africa",
         "marker": {
          "color": "#EF553B",
          "pattern": {
           "shape": ""
          }
         },
         "name": "Rest South Africa",
         "offsetgroup": "Rest South Africa",
         "orientation": "h",
         "showlegend": true,
         "textposition": "auto",
         "type": "bar",
         "x": [
          12.36497488,
          12.21839157,
          2.579230699,
          2.548654597,
          0.9238454047
         ],
         "xaxis": "x2",
         "y": [
          "SSP2-2C-UA-DLS",
          "SSP2-UA-DLS",
          "SSP2-2C-UA",
          "SSP2-UA",
          "SSP2-BL"
         ],
         "yaxis": "y2"
        },
        {
         "alignmentgroup": "True",
         "hovertemplate": "Legend:=Rest South Africa<br> =Off-Grid<br>Capacity [GW]=%{x}<br>=%{y}<extra></extra>",
         "legendgroup": "Rest South Africa",
         "marker": {
          "color": "#EF553B",
          "pattern": {
           "shape": ""
          }
         },
         "name": "Rest South Africa",
         "offsetgroup": "Rest South Africa",
         "orientation": "h",
         "showlegend": false,
         "textposition": "auto",
         "type": "bar",
         "x": [
          12.711979873259999,
          12.35199065526,
          5.224931062642,
          5.212010739554,
          0.18152112433
         ],
         "xaxis": "x",
         "y": [
          "SSP2-2C-UA-DLS",
          "SSP2-UA-DLS",
          "SSP2-2C-UA",
          "SSP2-UA",
          "SSP2-BL"
         ],
         "yaxis": "y"
        },
        {
         "alignmentgroup": "True",
         "hovertemplate": "Legend:=Rest South Asia<br> =CG Extension T&D<br>Capacity [GW]=%{x}<br>=%{y}<extra></extra>",
         "legendgroup": "Rest South Asia",
         "marker": {
          "color": "#00cc96",
          "pattern": {
           "shape": ""
          }
         },
         "name": "Rest South Asia",
         "offsetgroup": "Rest South Asia",
         "orientation": "h",
         "showlegend": true,
         "textposition": "auto",
         "type": "bar",
         "x": [
          11.775418680000001,
          11.066066269999999,
          4.148628302,
          3.898714514,
          3.3574361290000003
         ],
         "xaxis": "x2",
         "y": [
          "SSP2-2C-UA-DLS",
          "SSP2-UA-DLS",
          "SSP2-2C-UA",
          "SSP2-UA",
          "SSP2-BL"
         ],
         "yaxis": "y2"
        },
        {
         "alignmentgroup": "True",
         "hovertemplate": "Legend:=Rest South Asia<br> =Off-Grid<br>Capacity [GW]=%{x}<br>=%{y}<extra></extra>",
         "legendgroup": "Rest South Asia",
         "marker": {
          "color": "#00cc96",
          "pattern": {
           "shape": ""
          }
         },
         "name": "Rest South Asia",
         "offsetgroup": "Rest South Asia",
         "orientation": "h",
         "showlegend": false,
         "textposition": "auto",
         "type": "bar",
         "x": [
          8.7846381078,
          8.207897715200001,
          4.24987637902,
          3.966815683511,
          2.0211751162800002
         ],
         "xaxis": "x",
         "y": [
          "SSP2-2C-UA-DLS",
          "SSP2-UA-DLS",
          "SSP2-2C-UA",
          "SSP2-UA",
          "SSP2-BL"
         ],
         "yaxis": "y"
        },
        {
         "alignmentgroup": "True",
         "hovertemplate": "Legend:=Eastern Africa<br> =CG Extension T&D<br>Capacity [GW]=%{x}<br>=%{y}<extra></extra>",
         "legendgroup": "Eastern Africa",
         "marker": {
          "color": "#ab63fa",
          "pattern": {
           "shape": ""
          }
         },
         "name": "Eastern Africa",
         "offsetgroup": "Eastern Africa",
         "orientation": "h",
         "showlegend": true,
         "textposition": "auto",
         "type": "bar",
         "x": [
          10.051608889999999,
          7.924539676999999,
          1.257090913,
          0.9910718692,
          0.2011479058
         ],
         "xaxis": "x2",
         "y": [
          "SSP2-UA-DLS",
          "SSP2-2C-UA-DLS",
          "SSP2-UA",
          "SSP2-2C-UA",
          "SSP2-BL"
         ],
         "yaxis": "y2"
        },
        {
         "alignmentgroup": "True",
         "hovertemplate": "Legend:=Eastern Africa<br> =Off-Grid<br>Capacity [GW]=%{x}<br>=%{y}<extra></extra>",
         "legendgroup": "Eastern Africa",
         "marker": {
          "color": "#ab63fa",
          "pattern": {
           "shape": ""
          }
         },
         "name": "Eastern Africa",
         "offsetgroup": "Eastern Africa",
         "orientation": "h",
         "showlegend": false,
         "textposition": "auto",
         "type": "bar",
         "x": [
          33.551084793809004,
          32.994576632091,
          7.786314479672,
          7.68624470721,
          3.422288942101
         ],
         "xaxis": "x",
         "y": [
          "SSP2-2C-UA-DLS",
          "SSP2-UA-DLS",
          "SSP2-2C-UA",
          "SSP2-UA",
          "SSP2-BL"
         ],
         "yaxis": "y"
        },
        {
         "alignmentgroup": "True",
         "hovertemplate": "Legend:=Rest World<br> =CG Extension T&D<br>Capacity [GW]=%{x}<br>=%{y}<extra></extra>",
         "legendgroup": "Rest World",
         "marker": {
          "color": "#FFA15A",
          "pattern": {
           "shape": ""
          }
         },
         "name": "Rest World",
         "offsetgroup": "Rest World",
         "orientation": "h",
         "showlegend": true,
         "textposition": "auto",
         "type": "bar",
         "x": [
          7.207438867,
          7.0529194969999995,
          4.9943621827,
          4.8898807962,
          3.0707014893999998
         ],
         "xaxis": "x2",
         "y": [
          "SSP2-2C-UA-DLS",
          "SSP2-UA-DLS",
          "SSP2-2C-UA",
          "SSP2-UA",
          "SSP2-BL"
         ],
         "yaxis": "y2"
        },
        {
         "alignmentgroup": "True",
         "hovertemplate": "Legend:=Rest World<br> =Off-Grid<br>Capacity [GW]=%{x}<br>=%{y}<extra></extra>",
         "legendgroup": "Rest World",
         "marker": {
          "color": "#FFA15A",
          "pattern": {
           "shape": ""
          }
         },
         "name": "Rest World",
         "offsetgroup": "Rest World",
         "orientation": "h",
         "showlegend": false,
         "textposition": "auto",
         "type": "bar",
         "x": [
          39.642315363882,
          36.928694051121,
          32.450460479035,
          29.928149989490002,
          9.674618775462001
         ],
         "xaxis": "x",
         "y": [
          "SSP2-2C-UA-DLS",
          "SSP2-UA-DLS",
          "SSP2-2C-UA",
          "SSP2-UA",
          "SSP2-BL"
         ],
         "yaxis": "y"
        }
       ],
       "layout": {
        "annotations": [
         {
          "font": {},
          "showarrow": false,
          "text": "Off-Grid",
          "x": 0.5,
          "xanchor": "center",
          "xref": "paper",
          "y": 0.35,
          "yanchor": "bottom",
          "yref": "paper"
         },
         {
          "font": {},
          "showarrow": false,
          "text": "CG Extension T&D",
          "x": 0.5,
          "xanchor": "center",
          "xref": "paper",
          "y": 0.9999999999999999,
          "yanchor": "bottom",
          "yref": "paper"
         }
        ],
        "barmode": "relative",
        "font": {
         "size": 12
        },
        "height": 500,
        "legend": {
         "orientation": "h",
         "title": {
          "text": "Legend:"
         },
         "tracegroupgap": 0,
         "xanchor": "left",
         "yanchor": "top"
        },
        "margin": {
         "t": 60
        },
        "paper_bgcolor": "white",
        "plot_bgcolor": "rgba(0,0,0,0)",
        "template": {
         "data": {
          "bar": [
           {
            "error_x": {
             "color": "#2a3f5f"
            },
            "error_y": {
             "color": "#2a3f5f"
            },
            "marker": {
             "line": {
              "color": "#E5ECF6",
              "width": 0.5
             },
             "pattern": {
              "fillmode": "overlay",
              "size": 10,
              "solidity": 0.2
             }
            },
            "type": "bar"
           }
          ],
          "barpolar": [
           {
            "marker": {
             "line": {
              "color": "#E5ECF6",
              "width": 0.5
             },
             "pattern": {
              "fillmode": "overlay",
              "size": 10,
              "solidity": 0.2
             }
            },
            "type": "barpolar"
           }
          ],
          "carpet": [
           {
            "aaxis": {
             "endlinecolor": "#2a3f5f",
             "gridcolor": "white",
             "linecolor": "white",
             "minorgridcolor": "white",
             "startlinecolor": "#2a3f5f"
            },
            "baxis": {
             "endlinecolor": "#2a3f5f",
             "gridcolor": "white",
             "linecolor": "white",
             "minorgridcolor": "white",
             "startlinecolor": "#2a3f5f"
            },
            "type": "carpet"
           }
          ],
          "choropleth": [
           {
            "colorbar": {
             "outlinewidth": 0,
             "ticks": ""
            },
            "type": "choropleth"
           }
          ],
          "contour": [
           {
            "colorbar": {
             "outlinewidth": 0,
             "ticks": ""
            },
            "colorscale": [
             [
              0,
              "#0d0887"
             ],
             [
              0.1111111111111111,
              "#46039f"
             ],
             [
              0.2222222222222222,
              "#7201a8"
             ],
             [
              0.3333333333333333,
              "#9c179e"
             ],
             [
              0.4444444444444444,
              "#bd3786"
             ],
             [
              0.5555555555555556,
              "#d8576b"
             ],
             [
              0.6666666666666666,
              "#ed7953"
             ],
             [
              0.7777777777777778,
              "#fb9f3a"
             ],
             [
              0.8888888888888888,
              "#fdca26"
             ],
             [
              1,
              "#f0f921"
             ]
            ],
            "type": "contour"
           }
          ],
          "contourcarpet": [
           {
            "colorbar": {
             "outlinewidth": 0,
             "ticks": ""
            },
            "type": "contourcarpet"
           }
          ],
          "heatmap": [
           {
            "colorbar": {
             "outlinewidth": 0,
             "ticks": ""
            },
            "colorscale": [
             [
              0,
              "#0d0887"
             ],
             [
              0.1111111111111111,
              "#46039f"
             ],
             [
              0.2222222222222222,
              "#7201a8"
             ],
             [
              0.3333333333333333,
              "#9c179e"
             ],
             [
              0.4444444444444444,
              "#bd3786"
             ],
             [
              0.5555555555555556,
              "#d8576b"
             ],
             [
              0.6666666666666666,
              "#ed7953"
             ],
             [
              0.7777777777777778,
              "#fb9f3a"
             ],
             [
              0.8888888888888888,
              "#fdca26"
             ],
             [
              1,
              "#f0f921"
             ]
            ],
            "type": "heatmap"
           }
          ],
          "heatmapgl": [
           {
            "colorbar": {
             "outlinewidth": 0,
             "ticks": ""
            },
            "colorscale": [
             [
              0,
              "#0d0887"
             ],
             [
              0.1111111111111111,
              "#46039f"
             ],
             [
              0.2222222222222222,
              "#7201a8"
             ],
             [
              0.3333333333333333,
              "#9c179e"
             ],
             [
              0.4444444444444444,
              "#bd3786"
             ],
             [
              0.5555555555555556,
              "#d8576b"
             ],
             [
              0.6666666666666666,
              "#ed7953"
             ],
             [
              0.7777777777777778,
              "#fb9f3a"
             ],
             [
              0.8888888888888888,
              "#fdca26"
             ],
             [
              1,
              "#f0f921"
             ]
            ],
            "type": "heatmapgl"
           }
          ],
          "histogram": [
           {
            "marker": {
             "pattern": {
              "fillmode": "overlay",
              "size": 10,
              "solidity": 0.2
             }
            },
            "type": "histogram"
           }
          ],
          "histogram2d": [
           {
            "colorbar": {
             "outlinewidth": 0,
             "ticks": ""
            },
            "colorscale": [
             [
              0,
              "#0d0887"
             ],
             [
              0.1111111111111111,
              "#46039f"
             ],
             [
              0.2222222222222222,
              "#7201a8"
             ],
             [
              0.3333333333333333,
              "#9c179e"
             ],
             [
              0.4444444444444444,
              "#bd3786"
             ],
             [
              0.5555555555555556,
              "#d8576b"
             ],
             [
              0.6666666666666666,
              "#ed7953"
             ],
             [
              0.7777777777777778,
              "#fb9f3a"
             ],
             [
              0.8888888888888888,
              "#fdca26"
             ],
             [
              1,
              "#f0f921"
             ]
            ],
            "type": "histogram2d"
           }
          ],
          "histogram2dcontour": [
           {
            "colorbar": {
             "outlinewidth": 0,
             "ticks": ""
            },
            "colorscale": [
             [
              0,
              "#0d0887"
             ],
             [
              0.1111111111111111,
              "#46039f"
             ],
             [
              0.2222222222222222,
              "#7201a8"
             ],
             [
              0.3333333333333333,
              "#9c179e"
             ],
             [
              0.4444444444444444,
              "#bd3786"
             ],
             [
              0.5555555555555556,
              "#d8576b"
             ],
             [
              0.6666666666666666,
              "#ed7953"
             ],
             [
              0.7777777777777778,
              "#fb9f3a"
             ],
             [
              0.8888888888888888,
              "#fdca26"
             ],
             [
              1,
              "#f0f921"
             ]
            ],
            "type": "histogram2dcontour"
           }
          ],
          "mesh3d": [
           {
            "colorbar": {
             "outlinewidth": 0,
             "ticks": ""
            },
            "type": "mesh3d"
           }
          ],
          "parcoords": [
           {
            "line": {
             "colorbar": {
              "outlinewidth": 0,
              "ticks": ""
             }
            },
            "type": "parcoords"
           }
          ],
          "pie": [
           {
            "automargin": true,
            "type": "pie"
           }
          ],
          "scatter": [
           {
            "fillpattern": {
             "fillmode": "overlay",
             "size": 10,
             "solidity": 0.2
            },
            "type": "scatter"
           }
          ],
          "scatter3d": [
           {
            "line": {
             "colorbar": {
              "outlinewidth": 0,
              "ticks": ""
             }
            },
            "marker": {
             "colorbar": {
              "outlinewidth": 0,
              "ticks": ""
             }
            },
            "type": "scatter3d"
           }
          ],
          "scattercarpet": [
           {
            "marker": {
             "colorbar": {
              "outlinewidth": 0,
              "ticks": ""
             }
            },
            "type": "scattercarpet"
           }
          ],
          "scattergeo": [
           {
            "marker": {
             "colorbar": {
              "outlinewidth": 0,
              "ticks": ""
             }
            },
            "type": "scattergeo"
           }
          ],
          "scattergl": [
           {
            "marker": {
             "colorbar": {
              "outlinewidth": 0,
              "ticks": ""
             }
            },
            "type": "scattergl"
           }
          ],
          "scattermapbox": [
           {
            "marker": {
             "colorbar": {
              "outlinewidth": 0,
              "ticks": ""
             }
            },
            "type": "scattermapbox"
           }
          ],
          "scatterpolar": [
           {
            "marker": {
             "colorbar": {
              "outlinewidth": 0,
              "ticks": ""
             }
            },
            "type": "scatterpolar"
           }
          ],
          "scatterpolargl": [
           {
            "marker": {
             "colorbar": {
              "outlinewidth": 0,
              "ticks": ""
             }
            },
            "type": "scatterpolargl"
           }
          ],
          "scatterternary": [
           {
            "marker": {
             "colorbar": {
              "outlinewidth": 0,
              "ticks": ""
             }
            },
            "type": "scatterternary"
           }
          ],
          "surface": [
           {
            "colorbar": {
             "outlinewidth": 0,
             "ticks": ""
            },
            "colorscale": [
             [
              0,
              "#0d0887"
             ],
             [
              0.1111111111111111,
              "#46039f"
             ],
             [
              0.2222222222222222,
              "#7201a8"
             ],
             [
              0.3333333333333333,
              "#9c179e"
             ],
             [
              0.4444444444444444,
              "#bd3786"
             ],
             [
              0.5555555555555556,
              "#d8576b"
             ],
             [
              0.6666666666666666,
              "#ed7953"
             ],
             [
              0.7777777777777778,
              "#fb9f3a"
             ],
             [
              0.8888888888888888,
              "#fdca26"
             ],
             [
              1,
              "#f0f921"
             ]
            ],
            "type": "surface"
           }
          ],
          "table": [
           {
            "cells": {
             "fill": {
              "color": "#EBF0F8"
             },
             "line": {
              "color": "white"
             }
            },
            "header": {
             "fill": {
              "color": "#C8D4E3"
             },
             "line": {
              "color": "white"
             }
            },
            "type": "table"
           }
          ]
         },
         "layout": {
          "annotationdefaults": {
           "arrowcolor": "#2a3f5f",
           "arrowhead": 0,
           "arrowwidth": 1
          },
          "autotypenumbers": "strict",
          "coloraxis": {
           "colorbar": {
            "outlinewidth": 0,
            "ticks": ""
           }
          },
          "colorscale": {
           "diverging": [
            [
             0,
             "#8e0152"
            ],
            [
             0.1,
             "#c51b7d"
            ],
            [
             0.2,
             "#de77ae"
            ],
            [
             0.3,
             "#f1b6da"
            ],
            [
             0.4,
             "#fde0ef"
            ],
            [
             0.5,
             "#f7f7f7"
            ],
            [
             0.6,
             "#e6f5d0"
            ],
            [
             0.7,
             "#b8e186"
            ],
            [
             0.8,
             "#7fbc41"
            ],
            [
             0.9,
             "#4d9221"
            ],
            [
             1,
             "#276419"
            ]
           ],
           "sequential": [
            [
             0,
             "#0d0887"
            ],
            [
             0.1111111111111111,
             "#46039f"
            ],
            [
             0.2222222222222222,
             "#7201a8"
            ],
            [
             0.3333333333333333,
             "#9c179e"
            ],
            [
             0.4444444444444444,
             "#bd3786"
            ],
            [
             0.5555555555555556,
             "#d8576b"
            ],
            [
             0.6666666666666666,
             "#ed7953"
            ],
            [
             0.7777777777777778,
             "#fb9f3a"
            ],
            [
             0.8888888888888888,
             "#fdca26"
            ],
            [
             1,
             "#f0f921"
            ]
           ],
           "sequentialminus": [
            [
             0,
             "#0d0887"
            ],
            [
             0.1111111111111111,
             "#46039f"
            ],
            [
             0.2222222222222222,
             "#7201a8"
            ],
            [
             0.3333333333333333,
             "#9c179e"
            ],
            [
             0.4444444444444444,
             "#bd3786"
            ],
            [
             0.5555555555555556,
             "#d8576b"
            ],
            [
             0.6666666666666666,
             "#ed7953"
            ],
            [
             0.7777777777777778,
             "#fb9f3a"
            ],
            [
             0.8888888888888888,
             "#fdca26"
            ],
            [
             1,
             "#f0f921"
            ]
           ]
          },
          "colorway": [
           "#636efa",
           "#EF553B",
           "#00cc96",
           "#ab63fa",
           "#FFA15A",
           "#19d3f3",
           "#FF6692",
           "#B6E880",
           "#FF97FF",
           "#FECB52"
          ],
          "font": {
           "color": "#2a3f5f"
          },
          "geo": {
           "bgcolor": "white",
           "lakecolor": "white",
           "landcolor": "#E5ECF6",
           "showlakes": true,
           "showland": true,
           "subunitcolor": "white"
          },
          "hoverlabel": {
           "align": "left"
          },
          "hovermode": "closest",
          "mapbox": {
           "style": "light"
          },
          "paper_bgcolor": "white",
          "plot_bgcolor": "#E5ECF6",
          "polar": {
           "angularaxis": {
            "gridcolor": "white",
            "linecolor": "white",
            "ticks": ""
           },
           "bgcolor": "#E5ECF6",
           "radialaxis": {
            "gridcolor": "white",
            "linecolor": "white",
            "ticks": ""
           }
          },
          "scene": {
           "xaxis": {
            "backgroundcolor": "#E5ECF6",
            "gridcolor": "white",
            "gridwidth": 2,
            "linecolor": "white",
            "showbackground": true,
            "ticks": "",
            "zerolinecolor": "white"
           },
           "yaxis": {
            "backgroundcolor": "#E5ECF6",
            "gridcolor": "white",
            "gridwidth": 2,
            "linecolor": "white",
            "showbackground": true,
            "ticks": "",
            "zerolinecolor": "white"
           },
           "zaxis": {
            "backgroundcolor": "#E5ECF6",
            "gridcolor": "white",
            "gridwidth": 2,
            "linecolor": "white",
            "showbackground": true,
            "ticks": "",
            "zerolinecolor": "white"
           }
          },
          "shapedefaults": {
           "line": {
            "color": "#2a3f5f"
           }
          },
          "ternary": {
           "aaxis": {
            "gridcolor": "white",
            "linecolor": "white",
            "ticks": ""
           },
           "baxis": {
            "gridcolor": "white",
            "linecolor": "white",
            "ticks": ""
           },
           "bgcolor": "#E5ECF6",
           "caxis": {
            "gridcolor": "white",
            "linecolor": "white",
            "ticks": ""
           }
          },
          "title": {
           "x": 0.05
          },
          "xaxis": {
           "automargin": true,
           "gridcolor": "white",
           "linecolor": "white",
           "ticks": "",
           "title": {
            "standoff": 15
           },
           "zerolinecolor": "white",
           "zerolinewidth": 2
          },
          "yaxis": {
           "automargin": true,
           "gridcolor": "white",
           "linecolor": "white",
           "ticks": "",
           "title": {
            "standoff": 15
           },
           "zerolinecolor": "white",
           "zerolinewidth": 2
          }
         }
        },
        "width": 1000,
        "xaxis": {
         "anchor": "y",
         "domain": [
          0,
          1
         ],
         "showticklabels": true,
         "tickfont": {
          "size": 12
         },
         "title": {
          "text": "Capacity [GW]"
         }
        },
        "xaxis2": {
         "anchor": "y2",
         "domain": [
          0,
          1
         ],
         "matches": "x",
         "showticklabels": true,
         "tickfont": {
          "size": 12
         }
        },
        "yaxis": {
         "anchor": "x",
         "categoryarray": [
          "SSP2-2C-UA-DLS",
          "SSP2-UA-DLS",
          "SSP2-2C-UA",
          "SSP2-UA",
          "SSP2-BL"
         ],
         "categoryorder": "array",
         "domain": [
          0,
          0.35
         ],
         "showticklabels": true,
         "tickfont": {
          "size": 12
         },
         "title": {
          "text": ""
         }
        },
        "yaxis2": {
         "anchor": "x2",
         "categoryarray": [
          "SSP2-2C-UA-DLS",
          "SSP2-UA-DLS",
          "SSP2-2C-UA",
          "SSP2-UA",
          "SSP2-BL"
         ],
         "categoryorder": "array",
         "domain": [
          0.6499999999999999,
          0.9999999999999999
         ],
         "showticklabels": true,
         "tickfont": {
          "size": 12
         },
         "title": {
          "text": ""
         }
        }
       }
      }
     },
     "metadata": {},
     "output_type": "display_data"
    }
   ],
   "source": [
    "\n",
    "fig = px.bar(df3,y='scenario', x='capacity_GW',  color=\"region\", facet_col='techid', facet_col_wrap=1 , orientation='h',\n",
    "             category_orders={\"scenario\" : [ 'SSP2-BL', 'SSP2-UA', 'SSP2-2C-UA', 'SSP2-UA-DLS' , 'SSP2-2C-UA-DLS'] , \n",
    "                              #\"region\": [ 'Western Africa',  'Eastern Africa', 'Rest South Africa', 'South Africa','Rest South Asia', 'Southeastern Asia', 'India','Indonesia +', 'Oceania' ,      'Rest Central America', 'Rest South America','Mexico'],\n",
    "                              \"techid\" : ['CG Extension T&D', 'Off-Grid']},\n",
    "                              #color_discrete_sequence=['#636EFA', 'green'],\n",
    "             labels = {\"techid\" : \" \" , 'capacity_GW': 'Capacity [GW]', 'region': 'Legend:',  'scenario' : ''},\n",
    "             facet_row_spacing=0.3, facet_col_spacing=0.06) #'already access',#category_orders={\"region\": [ 8.0, 9.0,10,26]} )\n",
    "\n",
    "fig.for_each_annotation(lambda a: a.update(text=a.text.split(\"=\")[-1]))\n",
    "#fig.for_each_yaxis(lambda yaxis: yaxis.update(showtitle=True)) \n",
    "fig.update_layout(font = dict(size = 12), height = 500, width = 1000,  paper_bgcolor = \"white\", plot_bgcolor = \"rgba(0,0,0,0)\", legend=dict(orientation=\"h\", yanchor=\"top\", xanchor=\"left\" )) #, legend=dict(orientation=\"h\", yanchor=\"bottom\", xanchor=\"left\", ))\n",
    "fig.update_xaxes( showticklabels=True, tickfont =dict(size = 12))\n",
    "fig.update_yaxes( matches=None, showticklabels=True, tickfont =dict(size = 12)) "
   ]
  },
  {
   "cell_type": "code",
   "execution_count": 30,
   "metadata": {},
   "outputs": [
    {
     "name": "stderr",
     "output_type": "stream",
     "text": [
      "C:\\Users\\zapatacasv\\AppData\\Local\\Temp\\2\\ipykernel_9380\\565681215.py:3: FutureWarning:\n",
      "\n",
      "The default value of numeric_only in DataFrameGroupBy.sum is deprecated. In a future version, numeric_only will default to False. Either specify numeric_only or select only columns which should be valid for the function.\n",
      "\n"
     ]
    },
    {
     "data": {
      "application/vnd.plotly.v1+json": {
       "config": {
        "plotlyServerURL": "https://plot.ly"
       },
       "data": [
        {
         "domain": {
          "x": [
           0,
           1
          ],
          "y": [
           0,
           1
          ]
         },
         "hovertemplate": "region=%{label}<br>capacity_GW=%{value}<extra></extra>",
         "labels": [
          "Eastern Africa",
          "Rest South Africa",
          "Rest South Asia",
          "Rest World",
          "Western Africa"
         ],
         "legendgroup": "",
         "name": "",
         "showlegend": false,
         "textinfo": "label+text+percent",
         "type": "pie",
         "values": [
          43.046185522090994,
          24.570382225259998,
          19.273963985199998,
          43.981613548121,
          61.97715859959
         ]
        }
       ],
       "layout": {
        "font": {
         "size": 16
        },
        "height": 500,
        "legend": {
         "tracegroupgap": 0
        },
        "margin": {
         "t": 60
        },
        "paper_bgcolor": "white",
        "piecolorway": [
         "rgb(228, 241, 225)",
         "rgb(180, 217, 204)",
         "rgb(137, 192, 182)",
         "rgb(99, 166, 160)",
         "rgb(68, 140, 138)",
         "rgb(40, 114, 116)",
         "rgb(13, 88, 95)"
        ],
        "plot_bgcolor": "rgba(0,0,0,0)",
        "template": {
         "data": {
          "bar": [
           {
            "error_x": {
             "color": "#2a3f5f"
            },
            "error_y": {
             "color": "#2a3f5f"
            },
            "marker": {
             "line": {
              "color": "#E5ECF6",
              "width": 0.5
             },
             "pattern": {
              "fillmode": "overlay",
              "size": 10,
              "solidity": 0.2
             }
            },
            "type": "bar"
           }
          ],
          "barpolar": [
           {
            "marker": {
             "line": {
              "color": "#E5ECF6",
              "width": 0.5
             },
             "pattern": {
              "fillmode": "overlay",
              "size": 10,
              "solidity": 0.2
             }
            },
            "type": "barpolar"
           }
          ],
          "carpet": [
           {
            "aaxis": {
             "endlinecolor": "#2a3f5f",
             "gridcolor": "white",
             "linecolor": "white",
             "minorgridcolor": "white",
             "startlinecolor": "#2a3f5f"
            },
            "baxis": {
             "endlinecolor": "#2a3f5f",
             "gridcolor": "white",
             "linecolor": "white",
             "minorgridcolor": "white",
             "startlinecolor": "#2a3f5f"
            },
            "type": "carpet"
           }
          ],
          "choropleth": [
           {
            "colorbar": {
             "outlinewidth": 0,
             "ticks": ""
            },
            "type": "choropleth"
           }
          ],
          "contour": [
           {
            "colorbar": {
             "outlinewidth": 0,
             "ticks": ""
            },
            "colorscale": [
             [
              0,
              "#0d0887"
             ],
             [
              0.1111111111111111,
              "#46039f"
             ],
             [
              0.2222222222222222,
              "#7201a8"
             ],
             [
              0.3333333333333333,
              "#9c179e"
             ],
             [
              0.4444444444444444,
              "#bd3786"
             ],
             [
              0.5555555555555556,
              "#d8576b"
             ],
             [
              0.6666666666666666,
              "#ed7953"
             ],
             [
              0.7777777777777778,
              "#fb9f3a"
             ],
             [
              0.8888888888888888,
              "#fdca26"
             ],
             [
              1,
              "#f0f921"
             ]
            ],
            "type": "contour"
           }
          ],
          "contourcarpet": [
           {
            "colorbar": {
             "outlinewidth": 0,
             "ticks": ""
            },
            "type": "contourcarpet"
           }
          ],
          "heatmap": [
           {
            "colorbar": {
             "outlinewidth": 0,
             "ticks": ""
            },
            "colorscale": [
             [
              0,
              "#0d0887"
             ],
             [
              0.1111111111111111,
              "#46039f"
             ],
             [
              0.2222222222222222,
              "#7201a8"
             ],
             [
              0.3333333333333333,
              "#9c179e"
             ],
             [
              0.4444444444444444,
              "#bd3786"
             ],
             [
              0.5555555555555556,
              "#d8576b"
             ],
             [
              0.6666666666666666,
              "#ed7953"
             ],
             [
              0.7777777777777778,
              "#fb9f3a"
             ],
             [
              0.8888888888888888,
              "#fdca26"
             ],
             [
              1,
              "#f0f921"
             ]
            ],
            "type": "heatmap"
           }
          ],
          "heatmapgl": [
           {
            "colorbar": {
             "outlinewidth": 0,
             "ticks": ""
            },
            "colorscale": [
             [
              0,
              "#0d0887"
             ],
             [
              0.1111111111111111,
              "#46039f"
             ],
             [
              0.2222222222222222,
              "#7201a8"
             ],
             [
              0.3333333333333333,
              "#9c179e"
             ],
             [
              0.4444444444444444,
              "#bd3786"
             ],
             [
              0.5555555555555556,
              "#d8576b"
             ],
             [
              0.6666666666666666,
              "#ed7953"
             ],
             [
              0.7777777777777778,
              "#fb9f3a"
             ],
             [
              0.8888888888888888,
              "#fdca26"
             ],
             [
              1,
              "#f0f921"
             ]
            ],
            "type": "heatmapgl"
           }
          ],
          "histogram": [
           {
            "marker": {
             "pattern": {
              "fillmode": "overlay",
              "size": 10,
              "solidity": 0.2
             }
            },
            "type": "histogram"
           }
          ],
          "histogram2d": [
           {
            "colorbar": {
             "outlinewidth": 0,
             "ticks": ""
            },
            "colorscale": [
             [
              0,
              "#0d0887"
             ],
             [
              0.1111111111111111,
              "#46039f"
             ],
             [
              0.2222222222222222,
              "#7201a8"
             ],
             [
              0.3333333333333333,
              "#9c179e"
             ],
             [
              0.4444444444444444,
              "#bd3786"
             ],
             [
              0.5555555555555556,
              "#d8576b"
             ],
             [
              0.6666666666666666,
              "#ed7953"
             ],
             [
              0.7777777777777778,
              "#fb9f3a"
             ],
             [
              0.8888888888888888,
              "#fdca26"
             ],
             [
              1,
              "#f0f921"
             ]
            ],
            "type": "histogram2d"
           }
          ],
          "histogram2dcontour": [
           {
            "colorbar": {
             "outlinewidth": 0,
             "ticks": ""
            },
            "colorscale": [
             [
              0,
              "#0d0887"
             ],
             [
              0.1111111111111111,
              "#46039f"
             ],
             [
              0.2222222222222222,
              "#7201a8"
             ],
             [
              0.3333333333333333,
              "#9c179e"
             ],
             [
              0.4444444444444444,
              "#bd3786"
             ],
             [
              0.5555555555555556,
              "#d8576b"
             ],
             [
              0.6666666666666666,
              "#ed7953"
             ],
             [
              0.7777777777777778,
              "#fb9f3a"
             ],
             [
              0.8888888888888888,
              "#fdca26"
             ],
             [
              1,
              "#f0f921"
             ]
            ],
            "type": "histogram2dcontour"
           }
          ],
          "mesh3d": [
           {
            "colorbar": {
             "outlinewidth": 0,
             "ticks": ""
            },
            "type": "mesh3d"
           }
          ],
          "parcoords": [
           {
            "line": {
             "colorbar": {
              "outlinewidth": 0,
              "ticks": ""
             }
            },
            "type": "parcoords"
           }
          ],
          "pie": [
           {
            "automargin": true,
            "type": "pie"
           }
          ],
          "scatter": [
           {
            "fillpattern": {
             "fillmode": "overlay",
             "size": 10,
             "solidity": 0.2
            },
            "type": "scatter"
           }
          ],
          "scatter3d": [
           {
            "line": {
             "colorbar": {
              "outlinewidth": 0,
              "ticks": ""
             }
            },
            "marker": {
             "colorbar": {
              "outlinewidth": 0,
              "ticks": ""
             }
            },
            "type": "scatter3d"
           }
          ],
          "scattercarpet": [
           {
            "marker": {
             "colorbar": {
              "outlinewidth": 0,
              "ticks": ""
             }
            },
            "type": "scattercarpet"
           }
          ],
          "scattergeo": [
           {
            "marker": {
             "colorbar": {
              "outlinewidth": 0,
              "ticks": ""
             }
            },
            "type": "scattergeo"
           }
          ],
          "scattergl": [
           {
            "marker": {
             "colorbar": {
              "outlinewidth": 0,
              "ticks": ""
             }
            },
            "type": "scattergl"
           }
          ],
          "scattermapbox": [
           {
            "marker": {
             "colorbar": {
              "outlinewidth": 0,
              "ticks": ""
             }
            },
            "type": "scattermapbox"
           }
          ],
          "scatterpolar": [
           {
            "marker": {
             "colorbar": {
              "outlinewidth": 0,
              "ticks": ""
             }
            },
            "type": "scatterpolar"
           }
          ],
          "scatterpolargl": [
           {
            "marker": {
             "colorbar": {
              "outlinewidth": 0,
              "ticks": ""
             }
            },
            "type": "scatterpolargl"
           }
          ],
          "scatterternary": [
           {
            "marker": {
             "colorbar": {
              "outlinewidth": 0,
              "ticks": ""
             }
            },
            "type": "scatterternary"
           }
          ],
          "surface": [
           {
            "colorbar": {
             "outlinewidth": 0,
             "ticks": ""
            },
            "colorscale": [
             [
              0,
              "#0d0887"
             ],
             [
              0.1111111111111111,
              "#46039f"
             ],
             [
              0.2222222222222222,
              "#7201a8"
             ],
             [
              0.3333333333333333,
              "#9c179e"
             ],
             [
              0.4444444444444444,
              "#bd3786"
             ],
             [
              0.5555555555555556,
              "#d8576b"
             ],
             [
              0.6666666666666666,
              "#ed7953"
             ],
             [
              0.7777777777777778,
              "#fb9f3a"
             ],
             [
              0.8888888888888888,
              "#fdca26"
             ],
             [
              1,
              "#f0f921"
             ]
            ],
            "type": "surface"
           }
          ],
          "table": [
           {
            "cells": {
             "fill": {
              "color": "#EBF0F8"
             },
             "line": {
              "color": "white"
             }
            },
            "header": {
             "fill": {
              "color": "#C8D4E3"
             },
             "line": {
              "color": "white"
             }
            },
            "type": "table"
           }
          ]
         },
         "layout": {
          "annotationdefaults": {
           "arrowcolor": "#2a3f5f",
           "arrowhead": 0,
           "arrowwidth": 1
          },
          "autotypenumbers": "strict",
          "coloraxis": {
           "colorbar": {
            "outlinewidth": 0,
            "ticks": ""
           }
          },
          "colorscale": {
           "diverging": [
            [
             0,
             "#8e0152"
            ],
            [
             0.1,
             "#c51b7d"
            ],
            [
             0.2,
             "#de77ae"
            ],
            [
             0.3,
             "#f1b6da"
            ],
            [
             0.4,
             "#fde0ef"
            ],
            [
             0.5,
             "#f7f7f7"
            ],
            [
             0.6,
             "#e6f5d0"
            ],
            [
             0.7,
             "#b8e186"
            ],
            [
             0.8,
             "#7fbc41"
            ],
            [
             0.9,
             "#4d9221"
            ],
            [
             1,
             "#276419"
            ]
           ],
           "sequential": [
            [
             0,
             "#0d0887"
            ],
            [
             0.1111111111111111,
             "#46039f"
            ],
            [
             0.2222222222222222,
             "#7201a8"
            ],
            [
             0.3333333333333333,
             "#9c179e"
            ],
            [
             0.4444444444444444,
             "#bd3786"
            ],
            [
             0.5555555555555556,
             "#d8576b"
            ],
            [
             0.6666666666666666,
             "#ed7953"
            ],
            [
             0.7777777777777778,
             "#fb9f3a"
            ],
            [
             0.8888888888888888,
             "#fdca26"
            ],
            [
             1,
             "#f0f921"
            ]
           ],
           "sequentialminus": [
            [
             0,
             "#0d0887"
            ],
            [
             0.1111111111111111,
             "#46039f"
            ],
            [
             0.2222222222222222,
             "#7201a8"
            ],
            [
             0.3333333333333333,
             "#9c179e"
            ],
            [
             0.4444444444444444,
             "#bd3786"
            ],
            [
             0.5555555555555556,
             "#d8576b"
            ],
            [
             0.6666666666666666,
             "#ed7953"
            ],
            [
             0.7777777777777778,
             "#fb9f3a"
            ],
            [
             0.8888888888888888,
             "#fdca26"
            ],
            [
             1,
             "#f0f921"
            ]
           ]
          },
          "colorway": [
           "#636efa",
           "#EF553B",
           "#00cc96",
           "#ab63fa",
           "#FFA15A",
           "#19d3f3",
           "#FF6692",
           "#B6E880",
           "#FF97FF",
           "#FECB52"
          ],
          "font": {
           "color": "#2a3f5f"
          },
          "geo": {
           "bgcolor": "white",
           "lakecolor": "white",
           "landcolor": "#E5ECF6",
           "showlakes": true,
           "showland": true,
           "subunitcolor": "white"
          },
          "hoverlabel": {
           "align": "left"
          },
          "hovermode": "closest",
          "mapbox": {
           "style": "light"
          },
          "paper_bgcolor": "white",
          "plot_bgcolor": "#E5ECF6",
          "polar": {
           "angularaxis": {
            "gridcolor": "white",
            "linecolor": "white",
            "ticks": ""
           },
           "bgcolor": "#E5ECF6",
           "radialaxis": {
            "gridcolor": "white",
            "linecolor": "white",
            "ticks": ""
           }
          },
          "scene": {
           "xaxis": {
            "backgroundcolor": "#E5ECF6",
            "gridcolor": "white",
            "gridwidth": 2,
            "linecolor": "white",
            "showbackground": true,
            "ticks": "",
            "zerolinecolor": "white"
           },
           "yaxis": {
            "backgroundcolor": "#E5ECF6",
            "gridcolor": "white",
            "gridwidth": 2,
            "linecolor": "white",
            "showbackground": true,
            "ticks": "",
            "zerolinecolor": "white"
           },
           "zaxis": {
            "backgroundcolor": "#E5ECF6",
            "gridcolor": "white",
            "gridwidth": 2,
            "linecolor": "white",
            "showbackground": true,
            "ticks": "",
            "zerolinecolor": "white"
           }
          },
          "shapedefaults": {
           "line": {
            "color": "#2a3f5f"
           }
          },
          "ternary": {
           "aaxis": {
            "gridcolor": "white",
            "linecolor": "white",
            "ticks": ""
           },
           "baxis": {
            "gridcolor": "white",
            "linecolor": "white",
            "ticks": ""
           },
           "bgcolor": "#E5ECF6",
           "caxis": {
            "gridcolor": "white",
            "linecolor": "white",
            "ticks": ""
           }
          },
          "title": {
           "x": 0.05
          },
          "xaxis": {
           "automargin": true,
           "gridcolor": "white",
           "linecolor": "white",
           "ticks": "",
           "title": {
            "standoff": 15
           },
           "zerolinecolor": "white",
           "zerolinewidth": 2
          },
          "yaxis": {
           "automargin": true,
           "gridcolor": "white",
           "linecolor": "white",
           "ticks": "",
           "title": {
            "standoff": 15
           },
           "zerolinecolor": "white",
           "zerolinewidth": 2
          }
         }
        },
        "width": 500
       }
      }
     },
     "metadata": {},
     "output_type": "display_data"
    }
   ],
   "source": [
    "#fig3c\n",
    "df4 = df3[df3.scenario == 'SSP2-UA-DLS']\n",
    "df4 = df4.groupby(['region']).sum().reset_index()\n",
    "fig = px.pie(df4, values='capacity_GW', names='region',  color_discrete_sequence=px.colors.sequential.Mint)\n",
    "fig['data'][0].update({'textinfo' : 'label+text+percent',\n",
    "                      'showlegend' : False})\n",
    "\n",
    "fig.update_layout(font = dict(size = 16), height = 500, width = 500,  paper_bgcolor = \"white\", plot_bgcolor = \"rgba(0,0,0,0)\") #, legend=dict(orientation=\"h\", yanchor=\"top\", xanchor=\"left\", y = -0.25, x = -0.2  )"
   ]
  },
  {
   "cell_type": "code",
   "execution_count": 4,
   "metadata": {},
   "outputs": [
    {
     "data": {
      "text/html": [
       "<div>\n",
       "<style scoped>\n",
       "    .dataframe tbody tr th:only-of-type {\n",
       "        vertical-align: middle;\n",
       "    }\n",
       "\n",
       "    .dataframe tbody tr th {\n",
       "        vertical-align: top;\n",
       "    }\n",
       "\n",
       "    .dataframe thead th {\n",
       "        text-align: right;\n",
       "    }\n",
       "</style>\n",
       "<table border=\"1\" class=\"dataframe\">\n",
       "  <thead>\n",
       "    <tr style=\"text-align: right;\">\n",
       "      <th></th>\n",
       "      <th>scenario</th>\n",
       "      <th>techid</th>\n",
       "      <th>Load Factor</th>\n",
       "      <th>capacity_kw</th>\n",
       "      <th>capacity_MW</th>\n",
       "      <th>capacity_kW</th>\n",
       "      <th>capacity_GW</th>\n",
       "    </tr>\n",
       "  </thead>\n",
       "  <tbody>\n",
       "    <tr>\n",
       "      <th>0</th>\n",
       "      <td>SSP2-2C-UA</td>\n",
       "      <td>CG Extension T&amp;D</td>\n",
       "      <td>5.821938</td>\n",
       "      <td>1.695164e+07</td>\n",
       "      <td>16951.636947</td>\n",
       "      <td>0.000000e+00</td>\n",
       "      <td>16.951637</td>\n",
       "    </tr>\n",
       "    <tr>\n",
       "      <th>1</th>\n",
       "      <td>SSP2-2C-UA</td>\n",
       "      <td>Off-Grid</td>\n",
       "      <td>0.000000</td>\n",
       "      <td>0.000000e+00</td>\n",
       "      <td>65640.427191</td>\n",
       "      <td>6.564043e+07</td>\n",
       "      <td>65.640427</td>\n",
       "    </tr>\n",
       "    <tr>\n",
       "      <th>2</th>\n",
       "      <td>SSP2-2C-UA-DLS</td>\n",
       "      <td>CG Extension T&amp;D</td>\n",
       "      <td>5.821938</td>\n",
       "      <td>5.912159e+07</td>\n",
       "      <td>59121.591584</td>\n",
       "      <td>0.000000e+00</td>\n",
       "      <td>59.121592</td>\n",
       "    </tr>\n",
       "    <tr>\n",
       "      <th>3</th>\n",
       "      <td>SSP2-2C-UA-DLS</td>\n",
       "      <td>Off-Grid</td>\n",
       "      <td>0.000000</td>\n",
       "      <td>0.000000e+00</td>\n",
       "      <td>139255.604811</td>\n",
       "      <td>1.392556e+08</td>\n",
       "      <td>139.255605</td>\n",
       "    </tr>\n",
       "    <tr>\n",
       "      <th>4</th>\n",
       "      <td>SSP2-BL</td>\n",
       "      <td>CG Extension T&amp;D</td>\n",
       "      <td>6.136522</td>\n",
       "      <td>9.507224e+06</td>\n",
       "      <td>9507.223541</td>\n",
       "      <td>0.000000e+00</td>\n",
       "      <td>9.507224</td>\n",
       "    </tr>\n",
       "    <tr>\n",
       "      <th>5</th>\n",
       "      <td>SSP2-BL</td>\n",
       "      <td>Off-Grid</td>\n",
       "      <td>0.000000</td>\n",
       "      <td>0.000000e+00</td>\n",
       "      <td>16009.935926</td>\n",
       "      <td>1.600994e+07</td>\n",
       "      <td>16.009936</td>\n",
       "    </tr>\n",
       "    <tr>\n",
       "      <th>6</th>\n",
       "      <td>SSP2-UA</td>\n",
       "      <td>CG Extension T&amp;D</td>\n",
       "      <td>6.136522</td>\n",
       "      <td>1.675249e+07</td>\n",
       "      <td>16752.494098</td>\n",
       "      <td>0.000000e+00</td>\n",
       "      <td>16.752494</td>\n",
       "    </tr>\n",
       "    <tr>\n",
       "      <th>7</th>\n",
       "      <td>SSP2-UA</td>\n",
       "      <td>Off-Grid</td>\n",
       "      <td>0.000000</td>\n",
       "      <td>0.000000e+00</td>\n",
       "      <td>62383.854287</td>\n",
       "      <td>6.238385e+07</td>\n",
       "      <td>62.383854</td>\n",
       "    </tr>\n",
       "    <tr>\n",
       "      <th>8</th>\n",
       "      <td>SSP2-UA-DLS</td>\n",
       "      <td>CG Extension T&amp;D</td>\n",
       "      <td>6.136522</td>\n",
       "      <td>5.986265e+07</td>\n",
       "      <td>59862.653087</td>\n",
       "      <td>0.000000e+00</td>\n",
       "      <td>59.862653</td>\n",
       "    </tr>\n",
       "    <tr>\n",
       "      <th>9</th>\n",
       "      <td>SSP2-UA-DLS</td>\n",
       "      <td>Off-Grid</td>\n",
       "      <td>0.000000</td>\n",
       "      <td>0.000000e+00</td>\n",
       "      <td>132986.650793</td>\n",
       "      <td>1.329867e+08</td>\n",
       "      <td>132.986651</td>\n",
       "    </tr>\n",
       "  </tbody>\n",
       "</table>\n",
       "</div>"
      ],
      "text/plain": [
       "         scenario            techid  Load Factor   capacity_kw    capacity_MW  \\\n",
       "0      SSP2-2C-UA  CG Extension T&D     5.821938  1.695164e+07   16951.636947   \n",
       "1      SSP2-2C-UA          Off-Grid     0.000000  0.000000e+00   65640.427191   \n",
       "2  SSP2-2C-UA-DLS  CG Extension T&D     5.821938  5.912159e+07   59121.591584   \n",
       "3  SSP2-2C-UA-DLS          Off-Grid     0.000000  0.000000e+00  139255.604811   \n",
       "4         SSP2-BL  CG Extension T&D     6.136522  9.507224e+06    9507.223541   \n",
       "5         SSP2-BL          Off-Grid     0.000000  0.000000e+00   16009.935926   \n",
       "6         SSP2-UA  CG Extension T&D     6.136522  1.675249e+07   16752.494098   \n",
       "7         SSP2-UA          Off-Grid     0.000000  0.000000e+00   62383.854287   \n",
       "8     SSP2-UA-DLS  CG Extension T&D     6.136522  5.986265e+07   59862.653087   \n",
       "9     SSP2-UA-DLS          Off-Grid     0.000000  0.000000e+00  132986.650793   \n",
       "\n",
       "    capacity_kW  capacity_GW  \n",
       "0  0.000000e+00    16.951637  \n",
       "1  6.564043e+07    65.640427  \n",
       "2  0.000000e+00    59.121592  \n",
       "3  1.392556e+08   139.255605  \n",
       "4  0.000000e+00     9.507224  \n",
       "5  1.600994e+07    16.009936  \n",
       "6  0.000000e+00    16.752494  \n",
       "7  6.238385e+07    62.383854  \n",
       "8  0.000000e+00    59.862653  \n",
       "9  1.329867e+08   132.986651  "
      ]
     },
     "execution_count": 4,
     "metadata": {},
     "output_type": "execute_result"
    }
   ],
   "source": [
    "df4"
   ]
  },
  {
   "cell_type": "code",
   "execution_count": 10,
   "metadata": {},
   "outputs": [
    {
     "data": {
      "text/plain": [
       "117"
      ]
     },
     "execution_count": 10,
     "metadata": {},
     "output_type": "execute_result"
    }
   ],
   "source": [
    "133-16"
   ]
  },
  {
   "cell_type": "code",
   "execution_count": 3,
   "metadata": {},
   "outputs": [
    {
     "name": "stderr",
     "output_type": "stream",
     "text": [
      "C:\\Users\\zapatacasv\\AppData\\Local\\Temp\\2\\ipykernel_9612\\302999115.py:1: FutureWarning: The default value of numeric_only in DataFrameGroupBy.sum is deprecated. In a future version, numeric_only will default to False. Either specify numeric_only or select only columns which should be valid for the function.\n",
      "  df4 = df3.groupby(['scenario', 'techid']).sum().reset_index()\n"
     ]
    },
    {
     "data": {
      "application/vnd.plotly.v1+json": {
       "config": {
        "plotlyServerURL": "https://plot.ly"
       },
       "data": [
        {
         "alignmentgroup": "True",
         "hovertemplate": "=%{x}<br>Added Capacity [GW]=%{y}<extra></extra>",
         "legendgroup": "CG Extension T&D",
         "marker": {
          "color": "#636EFA",
          "pattern": {
           "shape": ""
          }
         },
         "name": "CG Extension T&D",
         "offsetgroup": "CG Extension T&D",
         "orientation": "v",
         "showlegend": true,
         "textposition": "auto",
         "type": "bar",
         "x": [
          "SSP2-2C-UA",
          "SSP2-2C-UA-DLS",
          "SSP2-BL",
          "SSP2-UA",
          "SSP2-UA-DLS"
         ],
         "xaxis": "x",
         "y": [
          16.9516369469,
          59.121591584,
          9.5072235409,
          16.7524940982,
          59.862653087
         ],
         "yaxis": "y"
        },
        {
         "alignmentgroup": "True",
         "hovertemplate": "=%{x}<br>Added Capacity [GW]=%{y}<extra></extra>",
         "legendgroup": "Off-Grid",
         "marker": {
          "color": "green",
          "pattern": {
           "shape": ""
          }
         },
         "name": "Off-Grid",
         "offsetgroup": "Off-Grid",
         "orientation": "v",
         "showlegend": true,
         "textposition": "auto",
         "type": "bar",
         "x": [
          "SSP2-2C-UA",
          "SSP2-2C-UA-DLS",
          "SSP2-BL",
          "SSP2-UA",
          "SSP2-UA-DLS"
         ],
         "xaxis": "x",
         "y": [
          65.640427190893,
          139.25560481134102,
          16.009935925753002,
          62.383854287347006,
          132.986650793262
         ],
         "yaxis": "y"
        }
       ],
       "layout": {
        "barmode": "relative",
        "font": {
         "size": 15
        },
        "height": 530,
        "legend": {
         "orientation": "h",
         "title": {
          "text": ""
         },
         "tracegroupgap": 0,
         "xanchor": "left",
         "y": -0.2,
         "yanchor": "top"
        },
        "margin": {
         "t": 60
        },
        "paper_bgcolor": "white",
        "plot_bgcolor": "rgba(0,0,0,0)",
        "template": {
         "data": {
          "bar": [
           {
            "error_x": {
             "color": "#2a3f5f"
            },
            "error_y": {
             "color": "#2a3f5f"
            },
            "marker": {
             "line": {
              "color": "#E5ECF6",
              "width": 0.5
             },
             "pattern": {
              "fillmode": "overlay",
              "size": 10,
              "solidity": 0.2
             }
            },
            "type": "bar"
           }
          ],
          "barpolar": [
           {
            "marker": {
             "line": {
              "color": "#E5ECF6",
              "width": 0.5
             },
             "pattern": {
              "fillmode": "overlay",
              "size": 10,
              "solidity": 0.2
             }
            },
            "type": "barpolar"
           }
          ],
          "carpet": [
           {
            "aaxis": {
             "endlinecolor": "#2a3f5f",
             "gridcolor": "white",
             "linecolor": "white",
             "minorgridcolor": "white",
             "startlinecolor": "#2a3f5f"
            },
            "baxis": {
             "endlinecolor": "#2a3f5f",
             "gridcolor": "white",
             "linecolor": "white",
             "minorgridcolor": "white",
             "startlinecolor": "#2a3f5f"
            },
            "type": "carpet"
           }
          ],
          "choropleth": [
           {
            "colorbar": {
             "outlinewidth": 0,
             "ticks": ""
            },
            "type": "choropleth"
           }
          ],
          "contour": [
           {
            "colorbar": {
             "outlinewidth": 0,
             "ticks": ""
            },
            "colorscale": [
             [
              0,
              "#0d0887"
             ],
             [
              0.1111111111111111,
              "#46039f"
             ],
             [
              0.2222222222222222,
              "#7201a8"
             ],
             [
              0.3333333333333333,
              "#9c179e"
             ],
             [
              0.4444444444444444,
              "#bd3786"
             ],
             [
              0.5555555555555556,
              "#d8576b"
             ],
             [
              0.6666666666666666,
              "#ed7953"
             ],
             [
              0.7777777777777778,
              "#fb9f3a"
             ],
             [
              0.8888888888888888,
              "#fdca26"
             ],
             [
              1,
              "#f0f921"
             ]
            ],
            "type": "contour"
           }
          ],
          "contourcarpet": [
           {
            "colorbar": {
             "outlinewidth": 0,
             "ticks": ""
            },
            "type": "contourcarpet"
           }
          ],
          "heatmap": [
           {
            "colorbar": {
             "outlinewidth": 0,
             "ticks": ""
            },
            "colorscale": [
             [
              0,
              "#0d0887"
             ],
             [
              0.1111111111111111,
              "#46039f"
             ],
             [
              0.2222222222222222,
              "#7201a8"
             ],
             [
              0.3333333333333333,
              "#9c179e"
             ],
             [
              0.4444444444444444,
              "#bd3786"
             ],
             [
              0.5555555555555556,
              "#d8576b"
             ],
             [
              0.6666666666666666,
              "#ed7953"
             ],
             [
              0.7777777777777778,
              "#fb9f3a"
             ],
             [
              0.8888888888888888,
              "#fdca26"
             ],
             [
              1,
              "#f0f921"
             ]
            ],
            "type": "heatmap"
           }
          ],
          "heatmapgl": [
           {
            "colorbar": {
             "outlinewidth": 0,
             "ticks": ""
            },
            "colorscale": [
             [
              0,
              "#0d0887"
             ],
             [
              0.1111111111111111,
              "#46039f"
             ],
             [
              0.2222222222222222,
              "#7201a8"
             ],
             [
              0.3333333333333333,
              "#9c179e"
             ],
             [
              0.4444444444444444,
              "#bd3786"
             ],
             [
              0.5555555555555556,
              "#d8576b"
             ],
             [
              0.6666666666666666,
              "#ed7953"
             ],
             [
              0.7777777777777778,
              "#fb9f3a"
             ],
             [
              0.8888888888888888,
              "#fdca26"
             ],
             [
              1,
              "#f0f921"
             ]
            ],
            "type": "heatmapgl"
           }
          ],
          "histogram": [
           {
            "marker": {
             "pattern": {
              "fillmode": "overlay",
              "size": 10,
              "solidity": 0.2
             }
            },
            "type": "histogram"
           }
          ],
          "histogram2d": [
           {
            "colorbar": {
             "outlinewidth": 0,
             "ticks": ""
            },
            "colorscale": [
             [
              0,
              "#0d0887"
             ],
             [
              0.1111111111111111,
              "#46039f"
             ],
             [
              0.2222222222222222,
              "#7201a8"
             ],
             [
              0.3333333333333333,
              "#9c179e"
             ],
             [
              0.4444444444444444,
              "#bd3786"
             ],
             [
              0.5555555555555556,
              "#d8576b"
             ],
             [
              0.6666666666666666,
              "#ed7953"
             ],
             [
              0.7777777777777778,
              "#fb9f3a"
             ],
             [
              0.8888888888888888,
              "#fdca26"
             ],
             [
              1,
              "#f0f921"
             ]
            ],
            "type": "histogram2d"
           }
          ],
          "histogram2dcontour": [
           {
            "colorbar": {
             "outlinewidth": 0,
             "ticks": ""
            },
            "colorscale": [
             [
              0,
              "#0d0887"
             ],
             [
              0.1111111111111111,
              "#46039f"
             ],
             [
              0.2222222222222222,
              "#7201a8"
             ],
             [
              0.3333333333333333,
              "#9c179e"
             ],
             [
              0.4444444444444444,
              "#bd3786"
             ],
             [
              0.5555555555555556,
              "#d8576b"
             ],
             [
              0.6666666666666666,
              "#ed7953"
             ],
             [
              0.7777777777777778,
              "#fb9f3a"
             ],
             [
              0.8888888888888888,
              "#fdca26"
             ],
             [
              1,
              "#f0f921"
             ]
            ],
            "type": "histogram2dcontour"
           }
          ],
          "mesh3d": [
           {
            "colorbar": {
             "outlinewidth": 0,
             "ticks": ""
            },
            "type": "mesh3d"
           }
          ],
          "parcoords": [
           {
            "line": {
             "colorbar": {
              "outlinewidth": 0,
              "ticks": ""
             }
            },
            "type": "parcoords"
           }
          ],
          "pie": [
           {
            "automargin": true,
            "type": "pie"
           }
          ],
          "scatter": [
           {
            "fillpattern": {
             "fillmode": "overlay",
             "size": 10,
             "solidity": 0.2
            },
            "type": "scatter"
           }
          ],
          "scatter3d": [
           {
            "line": {
             "colorbar": {
              "outlinewidth": 0,
              "ticks": ""
             }
            },
            "marker": {
             "colorbar": {
              "outlinewidth": 0,
              "ticks": ""
             }
            },
            "type": "scatter3d"
           }
          ],
          "scattercarpet": [
           {
            "marker": {
             "colorbar": {
              "outlinewidth": 0,
              "ticks": ""
             }
            },
            "type": "scattercarpet"
           }
          ],
          "scattergeo": [
           {
            "marker": {
             "colorbar": {
              "outlinewidth": 0,
              "ticks": ""
             }
            },
            "type": "scattergeo"
           }
          ],
          "scattergl": [
           {
            "marker": {
             "colorbar": {
              "outlinewidth": 0,
              "ticks": ""
             }
            },
            "type": "scattergl"
           }
          ],
          "scattermapbox": [
           {
            "marker": {
             "colorbar": {
              "outlinewidth": 0,
              "ticks": ""
             }
            },
            "type": "scattermapbox"
           }
          ],
          "scatterpolar": [
           {
            "marker": {
             "colorbar": {
              "outlinewidth": 0,
              "ticks": ""
             }
            },
            "type": "scatterpolar"
           }
          ],
          "scatterpolargl": [
           {
            "marker": {
             "colorbar": {
              "outlinewidth": 0,
              "ticks": ""
             }
            },
            "type": "scatterpolargl"
           }
          ],
          "scatterternary": [
           {
            "marker": {
             "colorbar": {
              "outlinewidth": 0,
              "ticks": ""
             }
            },
            "type": "scatterternary"
           }
          ],
          "surface": [
           {
            "colorbar": {
             "outlinewidth": 0,
             "ticks": ""
            },
            "colorscale": [
             [
              0,
              "#0d0887"
             ],
             [
              0.1111111111111111,
              "#46039f"
             ],
             [
              0.2222222222222222,
              "#7201a8"
             ],
             [
              0.3333333333333333,
              "#9c179e"
             ],
             [
              0.4444444444444444,
              "#bd3786"
             ],
             [
              0.5555555555555556,
              "#d8576b"
             ],
             [
              0.6666666666666666,
              "#ed7953"
             ],
             [
              0.7777777777777778,
              "#fb9f3a"
             ],
             [
              0.8888888888888888,
              "#fdca26"
             ],
             [
              1,
              "#f0f921"
             ]
            ],
            "type": "surface"
           }
          ],
          "table": [
           {
            "cells": {
             "fill": {
              "color": "#EBF0F8"
             },
             "line": {
              "color": "white"
             }
            },
            "header": {
             "fill": {
              "color": "#C8D4E3"
             },
             "line": {
              "color": "white"
             }
            },
            "type": "table"
           }
          ]
         },
         "layout": {
          "annotationdefaults": {
           "arrowcolor": "#2a3f5f",
           "arrowhead": 0,
           "arrowwidth": 1
          },
          "autotypenumbers": "strict",
          "coloraxis": {
           "colorbar": {
            "outlinewidth": 0,
            "ticks": ""
           }
          },
          "colorscale": {
           "diverging": [
            [
             0,
             "#8e0152"
            ],
            [
             0.1,
             "#c51b7d"
            ],
            [
             0.2,
             "#de77ae"
            ],
            [
             0.3,
             "#f1b6da"
            ],
            [
             0.4,
             "#fde0ef"
            ],
            [
             0.5,
             "#f7f7f7"
            ],
            [
             0.6,
             "#e6f5d0"
            ],
            [
             0.7,
             "#b8e186"
            ],
            [
             0.8,
             "#7fbc41"
            ],
            [
             0.9,
             "#4d9221"
            ],
            [
             1,
             "#276419"
            ]
           ],
           "sequential": [
            [
             0,
             "#0d0887"
            ],
            [
             0.1111111111111111,
             "#46039f"
            ],
            [
             0.2222222222222222,
             "#7201a8"
            ],
            [
             0.3333333333333333,
             "#9c179e"
            ],
            [
             0.4444444444444444,
             "#bd3786"
            ],
            [
             0.5555555555555556,
             "#d8576b"
            ],
            [
             0.6666666666666666,
             "#ed7953"
            ],
            [
             0.7777777777777778,
             "#fb9f3a"
            ],
            [
             0.8888888888888888,
             "#fdca26"
            ],
            [
             1,
             "#f0f921"
            ]
           ],
           "sequentialminus": [
            [
             0,
             "#0d0887"
            ],
            [
             0.1111111111111111,
             "#46039f"
            ],
            [
             0.2222222222222222,
             "#7201a8"
            ],
            [
             0.3333333333333333,
             "#9c179e"
            ],
            [
             0.4444444444444444,
             "#bd3786"
            ],
            [
             0.5555555555555556,
             "#d8576b"
            ],
            [
             0.6666666666666666,
             "#ed7953"
            ],
            [
             0.7777777777777778,
             "#fb9f3a"
            ],
            [
             0.8888888888888888,
             "#fdca26"
            ],
            [
             1,
             "#f0f921"
            ]
           ]
          },
          "colorway": [
           "#636efa",
           "#EF553B",
           "#00cc96",
           "#ab63fa",
           "#FFA15A",
           "#19d3f3",
           "#FF6692",
           "#B6E880",
           "#FF97FF",
           "#FECB52"
          ],
          "font": {
           "color": "#2a3f5f"
          },
          "geo": {
           "bgcolor": "white",
           "lakecolor": "white",
           "landcolor": "#E5ECF6",
           "showlakes": true,
           "showland": true,
           "subunitcolor": "white"
          },
          "hoverlabel": {
           "align": "left"
          },
          "hovermode": "closest",
          "mapbox": {
           "style": "light"
          },
          "paper_bgcolor": "white",
          "plot_bgcolor": "#E5ECF6",
          "polar": {
           "angularaxis": {
            "gridcolor": "white",
            "linecolor": "white",
            "ticks": ""
           },
           "bgcolor": "#E5ECF6",
           "radialaxis": {
            "gridcolor": "white",
            "linecolor": "white",
            "ticks": ""
           }
          },
          "scene": {
           "xaxis": {
            "backgroundcolor": "#E5ECF6",
            "gridcolor": "white",
            "gridwidth": 2,
            "linecolor": "white",
            "showbackground": true,
            "ticks": "",
            "zerolinecolor": "white"
           },
           "yaxis": {
            "backgroundcolor": "#E5ECF6",
            "gridcolor": "white",
            "gridwidth": 2,
            "linecolor": "white",
            "showbackground": true,
            "ticks": "",
            "zerolinecolor": "white"
           },
           "zaxis": {
            "backgroundcolor": "#E5ECF6",
            "gridcolor": "white",
            "gridwidth": 2,
            "linecolor": "white",
            "showbackground": true,
            "ticks": "",
            "zerolinecolor": "white"
           }
          },
          "shapedefaults": {
           "line": {
            "color": "#2a3f5f"
           }
          },
          "ternary": {
           "aaxis": {
            "gridcolor": "white",
            "linecolor": "white",
            "ticks": ""
           },
           "baxis": {
            "gridcolor": "white",
            "linecolor": "white",
            "ticks": ""
           },
           "bgcolor": "#E5ECF6",
           "caxis": {
            "gridcolor": "white",
            "linecolor": "white",
            "ticks": ""
           }
          },
          "title": {
           "x": 0.05
          },
          "xaxis": {
           "automargin": true,
           "gridcolor": "white",
           "linecolor": "white",
           "ticks": "",
           "title": {
            "standoff": 15
           },
           "zerolinecolor": "white",
           "zerolinewidth": 2
          },
          "yaxis": {
           "automargin": true,
           "gridcolor": "white",
           "linecolor": "white",
           "ticks": "",
           "title": {
            "standoff": 15
           },
           "zerolinecolor": "white",
           "zerolinewidth": 2
          }
         }
        },
        "width": 500,
        "xaxis": {
         "anchor": "y",
         "categoryarray": [
          "SSP2-BL",
          "SSP2-UA",
          "SSP2-2C-UA",
          "SSP2-UA-DLS",
          "SSP2-2C-UA-DLS"
         ],
         "categoryorder": "array",
         "domain": [
          0,
          1
         ],
         "showticklabels": true,
         "tickfont": {
          "size": 15
         },
         "title": {
          "text": ""
         }
        },
        "yaxis": {
         "anchor": "x",
         "domain": [
          0,
          1
         ],
         "dtick": 20,
         "showticklabels": true,
         "tickfont": {
          "size": 15
         },
         "title": {
          "text": "Added Capacity [GW]"
         }
        }
       }
      }
     },
     "metadata": {},
     "output_type": "display_data"
    }
   ],
   "source": [
    "df4 = df3.groupby(['scenario', 'techid']).sum().reset_index()\n",
    "fig = px.bar(df4,x='scenario', y='capacity_GW',  color=\"techid\", \n",
    "             category_orders={\"scenario\" : [ 'SSP2-BL', 'SSP2-UA', 'SSP2-2C-UA', 'SSP2-UA-DLS' , 'SSP2-2C-UA-DLS'] , \n",
    "                              \"techid\" : ['CG Extension T&D', 'Off-Grid']},\n",
    "                              color_discrete_sequence=['#636EFA', 'green'],\n",
    "             labels = {\"techid\" : \"\" , 'capacity_GW': 'Added Capacity [GW]', 'region': ' ',  'scenario' : ''},\n",
    "             facet_row_spacing=0.1, facet_col_spacing=0.06) #'already access',#category_orders={\"region\": [ 8.0, 9.0,10,26]} )\n",
    "\n",
    "fig.for_each_annotation(lambda a: a.update(text=a.text.split(\"=\")[-1]))\n",
    "#fig.for_each_yaxis(lambda yaxis: yaxis.update(showticklabels=True)) \n",
    "fig.update_layout(font = dict(size = 15), height = 530, width = 500,  paper_bgcolor = \"white\", plot_bgcolor = \"rgba(0,0,0,0)\", legend=dict(orientation=\"h\", yanchor=\"top\", xanchor=\"left\",y = -0.2)) #, legend=dict(orientation=\"h\", yanchor=\"bottom\", xanchor=\"left\", ))1\n",
    "fig.update_xaxes( showticklabels=True, tickfont =dict(size = 15))\n",
    "fig.update_yaxes( showticklabels=True, tickfont =dict(size = 15), dtick = 20) "
   ]
  },
  {
   "cell_type": "code",
   "execution_count": 11,
   "metadata": {},
   "outputs": [
    {
     "name": "stderr",
     "output_type": "stream",
     "text": [
      "C:\\Users\\zapatacasv\\AppData\\Local\\Temp\\2\\ipykernel_9612\\959611835.py:5: FutureWarning:\n",
      "\n",
      "The default value of numeric_only in DataFrameGroupBy.sum is deprecated. In a future version, numeric_only will default to False. Either specify numeric_only or select only columns which should be valid for the function.\n",
      "\n"
     ]
    },
    {
     "data": {
      "application/vnd.plotly.v1+json": {
       "config": {
        "plotlyServerURL": "https://plot.ly"
       },
       "data": [
        {
         "alignmentgroup": "True",
         "hovertemplate": "Legend=MG-wind<br> =Western Africa<br>=%{x}<br>Capacity [GW]=%{y}<extra></extra>",
         "legendgroup": "MG-wind",
         "marker": {
          "color": "#00CC96",
          "pattern": {
           "shape": ""
          }
         },
         "name": "MG-wind",
         "offsetgroup": "MG-wind",
         "orientation": "v",
         "showlegend": true,
         "textposition": "auto",
         "type": "bar",
         "x": [
          "SSP2-UA",
          "SSP2-BL",
          "SSP2-2C-UA",
          "SSP2-UA-DLS",
          "SSP2-2C-UA-DLS"
         ],
         "xaxis": "x10",
         "y": [
          0.7878703417,
          0.401281043,
          0.7880416886,
          3.854673596,
          3.8469457400000002
         ],
         "yaxis": "y10"
        },
        {
         "alignmentgroup": "True",
         "hovertemplate": "Legend=MG-wind<br> =Eastern Africa<br>=%{x}<br>Capacity [GW]=%{y}<extra></extra>",
         "legendgroup": "MG-wind",
         "marker": {
          "color": "#00CC96",
          "pattern": {
           "shape": ""
          }
         },
         "name": "MG-wind",
         "offsetgroup": "MG-wind",
         "orientation": "v",
         "showlegend": false,
         "textposition": "auto",
         "type": "bar",
         "x": [
          "SSP2-UA",
          "SSP2-BL",
          "SSP2-2C-UA",
          "SSP2-UA-DLS",
          "SSP2-2C-UA-DLS"
         ],
         "xaxis": "x11",
         "y": [
          0.3185471024,
          0.1256911436,
          0.324991393,
          1.2256352480000001,
          1.3177420910000002
         ],
         "yaxis": "y11"
        },
        {
         "alignmentgroup": "True",
         "hovertemplate": "Legend=MG-wind<br> =Rest South Africa<br>=%{x}<br>Capacity [GW]=%{y}<extra></extra>",
         "legendgroup": "MG-wind",
         "marker": {
          "color": "#00CC96",
          "pattern": {
           "shape": ""
          }
         },
         "name": "MG-wind",
         "offsetgroup": "MG-wind",
         "orientation": "v",
         "showlegend": false,
         "textposition": "auto",
         "type": "bar",
         "x": [
          "SSP2-UA",
          "SSP2-BL",
          "SSP2-2C-UA",
          "SSP2-UA-DLS",
          "SSP2-2C-UA-DLS"
         ],
         "xaxis": "x12",
         "y": [
          0.11662378459999999,
          0.00001822577,
          0.11624695,
          0.7567100672,
          0.7511102756
         ],
         "yaxis": "y12"
        },
        {
         "alignmentgroup": "True",
         "hovertemplate": "Legend=MG-wind<br> =South Africa<br>=%{x}<br>Capacity [GW]=%{y}<extra></extra>",
         "legendgroup": "MG-wind",
         "marker": {
          "color": "#00CC96",
          "pattern": {
           "shape": ""
          }
         },
         "name": "MG-wind",
         "offsetgroup": "MG-wind",
         "orientation": "v",
         "showlegend": false,
         "textposition": "auto",
         "type": "bar",
         "x": [
          "SSP2-UA",
          "SSP2-BL",
          "SSP2-2C-UA",
          "SSP2-UA-DLS",
          "SSP2-2C-UA-DLS"
         ],
         "xaxis": "x7",
         "y": [
          0.01294404247,
          3.80166e-7,
          0.01217270701,
          0.02708273872,
          0.02700088969
         ],
         "yaxis": "y7"
        },
        {
         "alignmentgroup": "True",
         "hovertemplate": "Legend=MG-wind<br> =Rest South Asia<br>=%{x}<br>Capacity [GW]=%{y}<extra></extra>",
         "legendgroup": "MG-wind",
         "marker": {
          "color": "#00CC96",
          "pattern": {
           "shape": ""
          }
         },
         "name": "MG-wind",
         "offsetgroup": "MG-wind",
         "orientation": "v",
         "showlegend": false,
         "textposition": "auto",
         "type": "bar",
         "x": [
          "SSP2-UA",
          "SSP2-BL",
          "SSP2-2C-UA",
          "SSP2-UA-DLS",
          "SSP2-2C-UA-DLS"
         ],
         "xaxis": "x8",
         "y": [
          0.1831530014,
          0.1732533526,
          0.18317535029999998,
          0.40389216349999996,
          0.4089346141
         ],
         "yaxis": "y8"
        },
        {
         "alignmentgroup": "True",
         "hovertemplate": "Legend=MG-wind<br> =Southeastern Asia<br>=%{x}<br>Capacity [GW]=%{y}<extra></extra>",
         "legendgroup": "MG-wind",
         "marker": {
          "color": "#00CC96",
          "pattern": {
           "shape": ""
          }
         },
         "name": "MG-wind",
         "offsetgroup": "MG-wind",
         "orientation": "v",
         "showlegend": false,
         "textposition": "auto",
         "type": "bar",
         "x": [
          "SSP2-UA",
          "SSP2-BL",
          "SSP2-2C-UA",
          "SSP2-UA-DLS",
          "SSP2-2C-UA-DLS"
         ],
         "xaxis": "x9",
         "y": [
          0.20199340570000002,
          0.200881798,
          0.20199340570000002,
          0.282765103,
          0.282765103
         ],
         "yaxis": "y9"
        },
        {
         "alignmentgroup": "True",
         "hovertemplate": "Legend=MG-wind<br> =India<br>=%{x}<br>Capacity [GW]=%{y}<extra></extra>",
         "legendgroup": "MG-wind",
         "marker": {
          "color": "#00CC96",
          "pattern": {
           "shape": ""
          }
         },
         "name": "MG-wind",
         "offsetgroup": "MG-wind",
         "orientation": "v",
         "showlegend": false,
         "textposition": "auto",
         "type": "bar",
         "x": [
          "SSP2-UA",
          "SSP2-BL",
          "SSP2-2C-UA",
          "SSP2-UA-DLS",
          "SSP2-2C-UA-DLS"
         ],
         "xaxis": "x4",
         "y": [
          0.04452219958,
          0.04452219958,
          0.04452219958,
          0.051300226819999996,
          0.051300226819999996
         ],
         "yaxis": "y4"
        },
        {
         "alignmentgroup": "True",
         "hovertemplate": "Legend=MG-wind<br> =Indonesia +<br>=%{x}<br>Capacity [GW]=%{y}<extra></extra>",
         "legendgroup": "MG-wind",
         "marker": {
          "color": "#00CC96",
          "pattern": {
           "shape": ""
          }
         },
         "name": "MG-wind",
         "offsetgroup": "MG-wind",
         "orientation": "v",
         "showlegend": false,
         "textposition": "auto",
         "type": "bar",
         "x": [
          "SSP2-UA",
          "SSP2-BL",
          "SSP2-2C-UA",
          "SSP2-UA-DLS",
          "SSP2-2C-UA-DLS"
         ],
         "xaxis": "x5",
         "y": [
          0.041915008739999995,
          0.041915008739999995,
          0.041915008739999995,
          0.06373675080999999,
          0.06373675080999999
         ],
         "yaxis": "y5"
        },
        {
         "alignmentgroup": "True",
         "hovertemplate": "Legend=MG-wind<br> =Oceania<br>=%{x}<br>Capacity [GW]=%{y}<extra></extra>",
         "legendgroup": "MG-wind",
         "marker": {
          "color": "#00CC96",
          "pattern": {
           "shape": ""
          }
         },
         "name": "MG-wind",
         "offsetgroup": "MG-wind",
         "orientation": "v",
         "showlegend": false,
         "textposition": "auto",
         "type": "bar",
         "x": [
          "SSP2-UA",
          "SSP2-2C-UA",
          "SSP2-UA-DLS",
          "SSP2-2C-UA-DLS"
         ],
         "xaxis": "x6",
         "y": [
          0.01093760272,
          0.01093760272,
          0.01093546075,
          0.01093546075
         ],
         "yaxis": "y6"
        },
        {
         "alignmentgroup": "True",
         "hovertemplate": "Legend=MG-wind<br> =Rest Central America<br>=%{x}<br>Capacity [GW]=%{y}<extra></extra>",
         "legendgroup": "MG-wind",
         "marker": {
          "color": "#00CC96",
          "pattern": {
           "shape": ""
          }
         },
         "name": "MG-wind",
         "offsetgroup": "MG-wind",
         "orientation": "v",
         "showlegend": false,
         "textposition": "auto",
         "type": "bar",
         "x": [
          "SSP2-UA",
          "SSP2-BL",
          "SSP2-2C-UA",
          "SSP2-UA-DLS",
          "SSP2-2C-UA-DLS"
         ],
         "xaxis": "x",
         "y": [
          0.008304353075,
          0.005599442573,
          0.008932682148999999,
          0.006401475859,
          0.006401475859
         ],
         "yaxis": "y"
        },
        {
         "alignmentgroup": "True",
         "hovertemplate": "Legend=MG-wind<br> =Mexico<br>=%{x}<br>Capacity [GW]=%{y}<extra></extra>",
         "legendgroup": "MG-wind",
         "marker": {
          "color": "#00CC96",
          "pattern": {
           "shape": ""
          }
         },
         "name": "MG-wind",
         "offsetgroup": "MG-wind",
         "orientation": "v",
         "showlegend": false,
         "textposition": "auto",
         "type": "bar",
         "x": [
          "SSP2-UA",
          "SSP2-BL",
          "SSP2-2C-UA",
          "SSP2-UA-DLS",
          "SSP2-2C-UA-DLS"
         ],
         "xaxis": "x3",
         "y": [
          0.03869172459,
          0.038574071689999996,
          0.0386873976,
          0.03263313901,
          0.032599170200000006
         ],
         "yaxis": "y3"
        },
        {
         "alignmentgroup": "True",
         "hovertemplate": "Legend=MG-PV<br> =Western Africa<br>=%{x}<br>Capacity [GW]=%{y}<extra></extra>",
         "legendgroup": "MG-PV",
         "marker": {
          "color": "rgb(255,237,111)",
          "pattern": {
           "shape": ""
          }
         },
         "name": "MG-PV",
         "offsetgroup": "MG-PV",
         "orientation": "v",
         "showlegend": true,
         "textposition": "auto",
         "type": "bar",
         "x": [
          "SSP2-UA",
          "SSP2-BL",
          "SSP2-2C-UA",
          "SSP2-UA-DLS",
          "SSP2-2C-UA-DLS"
         ],
         "xaxis": "x10",
         "y": [
          2.96624262,
          0.00129837948,
          4.741062122000001,
          15.62951984,
          27.11947037
         ],
         "yaxis": "y10"
        },
        {
         "alignmentgroup": "True",
         "hovertemplate": "Legend=MG-PV<br> =Eastern Africa<br>=%{x}<br>Capacity [GW]=%{y}<extra></extra>",
         "legendgroup": "MG-PV",
         "marker": {
          "color": "rgb(255,237,111)",
          "pattern": {
           "shape": ""
          }
         },
         "name": "MG-PV",
         "offsetgroup": "MG-PV",
         "orientation": "v",
         "showlegend": false,
         "textposition": "auto",
         "type": "bar",
         "x": [
          "SSP2-UA",
          "SSP2-BL",
          "SSP2-2C-UA",
          "SSP2-UA-DLS",
          "SSP2-2C-UA-DLS"
         ],
         "xaxis": "x11",
         "y": [
          1.524596194,
          0.05249552379,
          2.269368514,
          13.2626469,
          16.98737568
         ],
         "yaxis": "y11"
        },
        {
         "alignmentgroup": "True",
         "hovertemplate": "Legend=MG-PV<br> =Rest South Africa<br>=%{x}<br>Capacity [GW]=%{y}<extra></extra>",
         "legendgroup": "MG-PV",
         "marker": {
          "color": "rgb(255,237,111)",
          "pattern": {
           "shape": ""
          }
         },
         "name": "MG-PV",
         "offsetgroup": "MG-PV",
         "orientation": "v",
         "showlegend": false,
         "textposition": "auto",
         "type": "bar",
         "x": [
          "SSP2-UA",
          "SSP2-BL",
          "SSP2-2C-UA",
          "SSP2-UA-DLS",
          "SSP2-2C-UA-DLS"
         ],
         "xaxis": "x12",
         "y": [
          0.9704474315999999,
          0.03689980107,
          1.1044330199999999,
          6.280387868,
          7.4192716899999995
         ],
         "yaxis": "y12"
        },
        {
         "alignmentgroup": "True",
         "hovertemplate": "Legend=MG-PV<br> =South Africa<br>=%{x}<br>Capacity [GW]=%{y}<extra></extra>",
         "legendgroup": "MG-PV",
         "marker": {
          "color": "rgb(255,237,111)",
          "pattern": {
           "shape": ""
          }
         },
         "name": "MG-PV",
         "offsetgroup": "MG-PV",
         "orientation": "v",
         "showlegend": false,
         "textposition": "auto",
         "type": "bar",
         "x": [
          "SSP2-UA",
          "SSP2-2C-UA",
          "SSP2-UA-DLS",
          "SSP2-2C-UA-DLS"
         ],
         "xaxis": "x7",
         "y": [
          0.005887401388,
          0.006128709528,
          0.01604218331,
          0.01661518649
         ],
         "yaxis": "y7"
        },
        {
         "alignmentgroup": "True",
         "hovertemplate": "Legend=MG-PV<br> =Rest South Asia<br>=%{x}<br>Capacity [GW]=%{y}<extra></extra>",
         "legendgroup": "MG-PV",
         "marker": {
          "color": "rgb(255,237,111)",
          "pattern": {
           "shape": ""
          }
         },
         "name": "MG-PV",
         "offsetgroup": "MG-PV",
         "orientation": "v",
         "showlegend": false,
         "textposition": "auto",
         "type": "bar",
         "x": [
          "SSP2-2C-UA",
          "SSP2-2C-UA-DLS"
         ],
         "xaxis": "x8",
         "y": [
          1.686692527,
          3.5378404679999997
         ],
         "yaxis": "y8"
        },
        {
         "alignmentgroup": "True",
         "hovertemplate": "Legend=MG-PV<br> =India<br>=%{x}<br>Capacity [GW]=%{y}<extra></extra>",
         "legendgroup": "MG-PV",
         "marker": {
          "color": "rgb(255,237,111)",
          "pattern": {
           "shape": ""
          }
         },
         "name": "MG-PV",
         "offsetgroup": "MG-PV",
         "orientation": "v",
         "showlegend": false,
         "textposition": "auto",
         "type": "bar",
         "x": [
          "SSP2-UA",
          "SSP2-BL",
          "SSP2-2C-UA",
          "SSP2-UA-DLS",
          "SSP2-2C-UA-DLS"
         ],
         "xaxis": "x4",
         "y": [
          0.00017782867,
          0.00017782867,
          0.31764448679999996,
          0.000925971468,
          0.5272345103
         ],
         "yaxis": "y4"
        },
        {
         "alignmentgroup": "True",
         "hovertemplate": "Legend=MG-PV<br> =Indonesia +<br>=%{x}<br>Capacity [GW]=%{y}<extra></extra>",
         "legendgroup": "MG-PV",
         "marker": {
          "color": "rgb(255,237,111)",
          "pattern": {
           "shape": ""
          }
         },
         "name": "MG-PV",
         "offsetgroup": "MG-PV",
         "orientation": "v",
         "showlegend": false,
         "textposition": "auto",
         "type": "bar",
         "x": [
          "SSP2-2C-UA",
          "SSP2-2C-UA-DLS"
         ],
         "xaxis": "x5",
         "y": [
          0.756208738,
          0.6872929976000001
         ],
         "yaxis": "y5"
        },
        {
         "alignmentgroup": "True",
         "hovertemplate": "Legend=MG-PV<br> =Rest Central America<br>=%{x}<br>Capacity [GW]=%{y}<extra></extra>",
         "legendgroup": "MG-PV",
         "marker": {
          "color": "rgb(255,237,111)",
          "pattern": {
           "shape": ""
          }
         },
         "name": "MG-PV",
         "offsetgroup": "MG-PV",
         "orientation": "v",
         "showlegend": false,
         "textposition": "auto",
         "type": "bar",
         "x": [
          "SSP2-2C-UA",
          "SSP2-2C-UA-DLS"
         ],
         "xaxis": "x",
         "y": [
          0.4065850071,
          0.53373647
         ],
         "yaxis": "y"
        },
        {
         "alignmentgroup": "True",
         "hovertemplate": "Legend=MG-PV<br> =Rest South America<br>=%{x}<br>Capacity [GW]=%{y}<extra></extra>",
         "legendgroup": "MG-PV",
         "marker": {
          "color": "rgb(255,237,111)",
          "pattern": {
           "shape": ""
          }
         },
         "name": "MG-PV",
         "offsetgroup": "MG-PV",
         "orientation": "v",
         "showlegend": false,
         "textposition": "auto",
         "type": "bar",
         "x": [
          "SSP2-2C-UA",
          "SSP2-2C-UA-DLS"
         ],
         "xaxis": "x2",
         "y": [
          0.09226160211,
          0.1324328172
         ],
         "yaxis": "y2"
        },
        {
         "alignmentgroup": "True",
         "hovertemplate": "Legend=MG-hydro<br> =Western Africa<br>=%{x}<br>Capacity [GW]=%{y}<extra></extra>",
         "legendgroup": "MG-hydro",
         "marker": {
          "color": "#19D3F3",
          "pattern": {
           "shape": ""
          }
         },
         "name": "MG-hydro",
         "offsetgroup": "MG-hydro",
         "orientation": "v",
         "showlegend": true,
         "textposition": "auto",
         "type": "bar",
         "x": [
          "SSP2-UA",
          "SSP2-BL",
          "SSP2-2C-UA",
          "SSP2-UA-DLS",
          "SSP2-2C-UA-DLS"
         ],
         "xaxis": "x10",
         "y": [
          1.0406031820000001,
          0.20593783859999998,
          1.259031293,
          5.514429005,
          6.011535043
         ],
         "yaxis": "y10"
        },
        {
         "alignmentgroup": "True",
         "hovertemplate": "Legend=MG-hydro<br> =Eastern Africa<br>=%{x}<br>Capacity [GW]=%{y}<extra></extra>",
         "legendgroup": "MG-hydro",
         "marker": {
          "color": "#19D3F3",
          "pattern": {
           "shape": ""
          }
         },
         "name": "MG-hydro",
         "offsetgroup": "MG-hydro",
         "orientation": "v",
         "showlegend": false,
         "textposition": "auto",
         "type": "bar",
         "x": [
          "SSP2-UA",
          "SSP2-BL",
          "SSP2-2C-UA",
          "SSP2-UA-DLS",
          "SSP2-2C-UA-DLS"
         ],
         "xaxis": "x11",
         "y": [
          0.4363649097,
          0.1456739081,
          0.444834709,
          3.725296717,
          3.860134593
         ],
         "yaxis": "y11"
        },
        {
         "alignmentgroup": "True",
         "hovertemplate": "Legend=MG-hydro<br> =Rest South Africa<br>=%{x}<br>Capacity [GW]=%{y}<extra></extra>",
         "legendgroup": "MG-hydro",
         "marker": {
          "color": "#19D3F3",
          "pattern": {
           "shape": ""
          }
         },
         "name": "MG-hydro",
         "offsetgroup": "MG-hydro",
         "orientation": "v",
         "showlegend": false,
         "textposition": "auto",
         "type": "bar",
         "x": [
          "SSP2-UA",
          "SSP2-BL",
          "SSP2-2C-UA",
          "SSP2-UA-DLS",
          "SSP2-2C-UA-DLS"
         ],
         "xaxis": "x12",
         "y": [
          0.08114021324,
          0.00476468849,
          0.08115851211,
          0.6525338261000001,
          0.7096083184
         ],
         "yaxis": "y12"
        },
        {
         "alignmentgroup": "True",
         "hovertemplate": "Legend=MG-hydro<br> =South Africa<br>=%{x}<br>Capacity [GW]=%{y}<extra></extra>",
         "legendgroup": "MG-hydro",
         "marker": {
          "color": "#19D3F3",
          "pattern": {
           "shape": ""
          }
         },
         "name": "MG-hydro",
         "offsetgroup": "MG-hydro",
         "orientation": "v",
         "showlegend": false,
         "textposition": "auto",
         "type": "bar",
         "x": [
          "SSP2-UA",
          "SSP2-BL",
          "SSP2-2C-UA",
          "SSP2-UA-DLS",
          "SSP2-2C-UA-DLS"
         ],
         "xaxis": "x7",
         "y": [
          2.95342e-7,
          1.47588e-7,
          2.95342e-7,
          0.000036549386,
          0.000040603146
         ],
         "yaxis": "y7"
        },
        {
         "alignmentgroup": "True",
         "hovertemplate": "Legend=MG-hydro<br> =Rest South Asia<br>=%{x}<br>Capacity [GW]=%{y}<extra></extra>",
         "legendgroup": "MG-hydro",
         "marker": {
          "color": "#19D3F3",
          "pattern": {
           "shape": ""
          }
         },
         "name": "MG-hydro",
         "offsetgroup": "MG-hydro",
         "orientation": "v",
         "showlegend": false,
         "textposition": "auto",
         "type": "bar",
         "x": [
          "SSP2-UA",
          "SSP2-BL",
          "SSP2-2C-UA",
          "SSP2-UA-DLS",
          "SSP2-2C-UA-DLS"
         ],
         "xaxis": "x8",
         "y": [
          0.3817641824,
          0.08940096957999999,
          0.3817280106,
          1.943150081,
          1.943458415
         ],
         "yaxis": "y8"
        },
        {
         "alignmentgroup": "True",
         "hovertemplate": "Legend=MG-hydro<br> =Southeastern Asia<br>=%{x}<br>Capacity [GW]=%{y}<extra></extra>",
         "legendgroup": "MG-hydro",
         "marker": {
          "color": "#19D3F3",
          "pattern": {
           "shape": ""
          }
         },
         "name": "MG-hydro",
         "offsetgroup": "MG-hydro",
         "orientation": "v",
         "showlegend": false,
         "textposition": "auto",
         "type": "bar",
         "x": [
          "SSP2-UA",
          "SSP2-BL",
          "SSP2-2C-UA",
          "SSP2-UA-DLS",
          "SSP2-2C-UA-DLS"
         ],
         "xaxis": "x9",
         "y": [
          1.3107017189999999,
          0.258818597,
          1.3306672309999998,
          2.011851836,
          2.0440422639999998
         ],
         "yaxis": "y9"
        },
        {
         "alignmentgroup": "True",
         "hovertemplate": "Legend=MG-hydro<br> =India<br>=%{x}<br>Capacity [GW]=%{y}<extra></extra>",
         "legendgroup": "MG-hydro",
         "marker": {
          "color": "#19D3F3",
          "pattern": {
           "shape": ""
          }
         },
         "name": "MG-hydro",
         "offsetgroup": "MG-hydro",
         "orientation": "v",
         "showlegend": false,
         "textposition": "auto",
         "type": "bar",
         "x": [
          "SSP2-UA",
          "SSP2-BL",
          "SSP2-2C-UA",
          "SSP2-UA-DLS",
          "SSP2-2C-UA-DLS"
         ],
         "xaxis": "x4",
         "y": [
          0.5194825006,
          0.3442821706,
          0.5211397050000001,
          1.172066974,
          1.1817514169999999
         ],
         "yaxis": "y4"
        },
        {
         "alignmentgroup": "True",
         "hovertemplate": "Legend=MG-hydro<br> =Indonesia +<br>=%{x}<br>Capacity [GW]=%{y}<extra></extra>",
         "legendgroup": "MG-hydro",
         "marker": {
          "color": "#19D3F3",
          "pattern": {
           "shape": ""
          }
         },
         "name": "MG-hydro",
         "offsetgroup": "MG-hydro",
         "orientation": "v",
         "showlegend": false,
         "textposition": "auto",
         "type": "bar",
         "x": [
          "SSP2-UA",
          "SSP2-BL",
          "SSP2-2C-UA",
          "SSP2-UA-DLS",
          "SSP2-2C-UA-DLS"
         ],
         "xaxis": "x5",
         "y": [
          2.276656336,
          1.603186774,
          2.7192692640000002,
          3.780884039,
          4.3406501440000005
         ],
         "yaxis": "y5"
        },
        {
         "alignmentgroup": "True",
         "hovertemplate": "Legend=MG-hydro<br> =Rest Central America<br>=%{x}<br>Capacity [GW]=%{y}<extra></extra>",
         "legendgroup": "MG-hydro",
         "marker": {
          "color": "#19D3F3",
          "pattern": {
           "shape": ""
          }
         },
         "name": "MG-hydro",
         "offsetgroup": "MG-hydro",
         "orientation": "v",
         "showlegend": false,
         "textposition": "auto",
         "type": "bar",
         "x": [
          "SSP2-UA",
          "SSP2-BL",
          "SSP2-2C-UA",
          "SSP2-UA-DLS",
          "SSP2-2C-UA-DLS"
         ],
         "xaxis": "x",
         "y": [
          0.9631595172,
          0.2526479466,
          0.9897081468,
          1.480698649,
          1.523496683
         ],
         "yaxis": "y"
        },
        {
         "alignmentgroup": "True",
         "hovertemplate": "Legend=MG-hydro<br> =Rest South America<br>=%{x}<br>Capacity [GW]=%{y}<extra></extra>",
         "legendgroup": "MG-hydro",
         "marker": {
          "color": "#19D3F3",
          "pattern": {
           "shape": ""
          }
         },
         "name": "MG-hydro",
         "offsetgroup": "MG-hydro",
         "orientation": "v",
         "showlegend": false,
         "textposition": "auto",
         "type": "bar",
         "x": [
          "SSP2-UA",
          "SSP2-BL",
          "SSP2-2C-UA",
          "SSP2-UA-DLS",
          "SSP2-2C-UA-DLS"
         ],
         "xaxis": "x2",
         "y": [
          0.009213542884,
          0.000084040032,
          0.02428925369,
          0.01104095619,
          0.029139035360000003
         ],
         "yaxis": "y2"
        },
        {
         "alignmentgroup": "True",
         "hovertemplate": "Legend=MG-hydro<br> =Mexico<br>=%{x}<br>Capacity [GW]=%{y}<extra></extra>",
         "legendgroup": "MG-hydro",
         "marker": {
          "color": "#19D3F3",
          "pattern": {
           "shape": ""
          }
         },
         "name": "MG-hydro",
         "offsetgroup": "MG-hydro",
         "orientation": "v",
         "showlegend": false,
         "textposition": "auto",
         "type": "bar",
         "x": [
          "SSP2-UA",
          "SSP2-BL",
          "SSP2-2C-UA",
          "SSP2-UA-DLS",
          "SSP2-2C-UA-DLS"
         ],
         "xaxis": "x3",
         "y": [
          0.1171080077,
          0.02537625693,
          0.128974177,
          0.1108187892,
          0.1219050022
         ],
         "yaxis": "y3"
        },
        {
         "alignmentgroup": "True",
         "hovertemplate": "Legend=MG-PV-diesel<br> =Western Africa<br>=%{x}<br>Capacity [GW]=%{y}<extra></extra>",
         "legendgroup": "MG-PV-diesel",
         "marker": {
          "color": "#FF7F0E",
          "pattern": {
           "shape": ""
          }
         },
         "name": "MG-PV-diesel",
         "offsetgroup": "MG-PV-diesel",
         "orientation": "v",
         "showlegend": true,
         "textposition": "auto",
         "type": "bar",
         "x": [
          "SSP2-UA",
          "SSP2-2C-UA",
          "SSP2-UA-DLS",
          "SSP2-2C-UA-DLS"
         ],
         "xaxis": "x10",
         "y": [
          1.796159005,
          0.1406910441,
          11.26010003,
          1.280667957
         ],
         "yaxis": "y10"
        },
        {
         "alignmentgroup": "True",
         "hovertemplate": "Legend=MG-PV-diesel<br> =Eastern Africa<br>=%{x}<br>Capacity [GW]=%{y}<extra></extra>",
         "legendgroup": "MG-PV-diesel",
         "marker": {
          "color": "#FF7F0E",
          "pattern": {
           "shape": ""
          }
         },
         "name": "MG-PV-diesel",
         "offsetgroup": "MG-PV-diesel",
         "orientation": "v",
         "showlegend": false,
         "textposition": "auto",
         "type": "bar",
         "x": [
          "SSP2-UA",
          "SSP2-BL",
          "SSP2-2C-UA",
          "SSP2-UA-DLS",
          "SSP2-2C-UA-DLS"
         ],
         "xaxis": "x11",
         "y": [
          1.66821569,
          0.46365111200000003,
          1.008036435,
          10.10799347,
          6.795011229
         ],
         "yaxis": "y11"
        },
        {
         "alignmentgroup": "True",
         "hovertemplate": "Legend=MG-PV-diesel<br> =Rest South Africa<br>=%{x}<br>Capacity [GW]=%{y}<extra></extra>",
         "legendgroup": "MG-PV-diesel",
         "marker": {
          "color": "#FF7F0E",
          "pattern": {
           "shape": ""
          }
         },
         "name": "MG-PV-diesel",
         "offsetgroup": "MG-PV-diesel",
         "orientation": "v",
         "showlegend": false,
         "textposition": "auto",
         "type": "bar",
         "x": [
          "SSP2-UA",
          "SSP2-BL",
          "SSP2-2C-UA",
          "SSP2-UA-DLS",
          "SSP2-2C-UA-DLS"
         ],
         "xaxis": "x12",
         "y": [
          0.4052283524,
          0.116471853,
          0.2928195952,
          2.904669057,
          1.8604166720000002
         ],
         "yaxis": "y12"
        },
        {
         "alignmentgroup": "True",
         "hovertemplate": "Legend=MG-PV-diesel<br> =South Africa<br>=%{x}<br>Capacity [GW]=%{y}<extra></extra>",
         "legendgroup": "MG-PV-diesel",
         "marker": {
          "color": "#FF7F0E",
          "pattern": {
           "shape": ""
          }
         },
         "name": "MG-PV-diesel",
         "offsetgroup": "MG-PV-diesel",
         "orientation": "v",
         "showlegend": false,
         "textposition": "auto",
         "type": "bar",
         "x": [
          "SSP2-UA",
          "SSP2-2C-UA",
          "SSP2-UA-DLS",
          "SSP2-2C-UA-DLS"
         ],
         "xaxis": "x7",
         "y": [
          0.002327106957,
          0.002001400971,
          0.004393502908,
          0.0037336630579999997
         ],
         "yaxis": "y7"
        },
        {
         "alignmentgroup": "True",
         "hovertemplate": "Legend=MG-PV-diesel<br> =Rest South Asia<br>=%{x}<br>Capacity [GW]=%{y}<extra></extra>",
         "legendgroup": "MG-PV-diesel",
         "marker": {
          "color": "#FF7F0E",
          "pattern": {
           "shape": ""
          }
         },
         "name": "MG-PV-diesel",
         "offsetgroup": "MG-PV-diesel",
         "orientation": "v",
         "showlegend": false,
         "textposition": "auto",
         "type": "bar",
         "x": [
          "SSP2-UA",
          "SSP2-BL",
          "SSP2-2C-UA",
          "SSP2-UA-DLS",
          "SSP2-2C-UA-DLS"
         ],
         "xaxis": "x8",
         "y": [
          1.814159398,
          0.870353218,
          0.39907695719999997,
          4.026955569,
          1.05478075
         ],
         "yaxis": "y8"
        },
        {
         "alignmentgroup": "True",
         "hovertemplate": "Legend=MG-PV-diesel<br> =Southeastern Asia<br>=%{x}<br>Capacity [GW]=%{y}<extra></extra>",
         "legendgroup": "MG-PV-diesel",
         "marker": {
          "color": "#FF7F0E",
          "pattern": {
           "shape": ""
          }
         },
         "name": "MG-PV-diesel",
         "offsetgroup": "MG-PV-diesel",
         "orientation": "v",
         "showlegend": false,
         "textposition": "auto",
         "type": "bar",
         "x": [
          "SSP2-UA",
          "SSP2-BL",
          "SSP2-2C-UA",
          "SSP2-UA-DLS",
          "SSP2-2C-UA-DLS"
         ],
         "xaxis": "x9",
         "y": [
          4.161482671,
          1.803915569,
          4.105249906,
          6.333911771,
          6.272063827
         ],
         "yaxis": "y9"
        },
        {
         "alignmentgroup": "True",
         "hovertemplate": "Legend=MG-PV-diesel<br> =India<br>=%{x}<br>Capacity [GW]=%{y}<extra></extra>",
         "legendgroup": "MG-PV-diesel",
         "marker": {
          "color": "#FF7F0E",
          "pattern": {
           "shape": ""
          }
         },
         "name": "MG-PV-diesel",
         "offsetgroup": "MG-PV-diesel",
         "orientation": "v",
         "showlegend": false,
         "textposition": "auto",
         "type": "bar",
         "x": [
          "SSP2-UA",
          "SSP2-BL",
          "SSP2-2C-UA",
          "SSP2-UA-DLS",
          "SSP2-2C-UA-DLS"
         ],
         "xaxis": "x4",
         "y": [
          0.2617141971,
          0.2643346583,
          0.006407522269,
          0.4599308759,
          0.031087920359999997
         ],
         "yaxis": "y4"
        },
        {
         "alignmentgroup": "True",
         "hovertemplate": "Legend=MG-PV-diesel<br> =Indonesia +<br>=%{x}<br>Capacity [GW]=%{y}<extra></extra>",
         "legendgroup": "MG-PV-diesel",
         "marker": {
          "color": "#FF7F0E",
          "pattern": {
           "shape": ""
          }
         },
         "name": "MG-PV-diesel",
         "offsetgroup": "MG-PV-diesel",
         "orientation": "v",
         "showlegend": false,
         "textposition": "auto",
         "type": "bar",
         "x": [
          "SSP2-UA",
          "SSP2-BL",
          "SSP2-2C-UA",
          "SSP2-UA-DLS",
          "SSP2-2C-UA-DLS"
         ],
         "xaxis": "x5",
         "y": [
          2.911048766,
          3.032428849,
          2.099087379,
          3.933183231,
          3.221612254
         ],
         "yaxis": "y5"
        },
        {
         "alignmentgroup": "True",
         "hovertemplate": "Legend=MG-PV-diesel<br> =Oceania<br>=%{x}<br>Capacity [GW]=%{y}<extra></extra>",
         "legendgroup": "MG-PV-diesel",
         "marker": {
          "color": "#FF7F0E",
          "pattern": {
           "shape": ""
          }
         },
         "name": "MG-PV-diesel",
         "offsetgroup": "MG-PV-diesel",
         "orientation": "v",
         "showlegend": false,
         "textposition": "auto",
         "type": "bar",
         "x": [
          "SSP2-UA",
          "SSP2-2C-UA",
          "SSP2-UA-DLS",
          "SSP2-2C-UA-DLS"
         ],
         "xaxis": "x6",
         "y": [
          0.25656817210000005,
          0.25656817210000005,
          0.2565179271,
          0.2565179271
         ],
         "yaxis": "y6"
        },
        {
         "alignmentgroup": "True",
         "hovertemplate": "Legend=MG-PV-diesel<br> =Rest Central America<br>=%{x}<br>Capacity [GW]=%{y}<extra></extra>",
         "legendgroup": "MG-PV-diesel",
         "marker": {
          "color": "#FF7F0E",
          "pattern": {
           "shape": ""
          }
         },
         "name": "MG-PV-diesel",
         "offsetgroup": "MG-PV-diesel",
         "orientation": "v",
         "showlegend": false,
         "textposition": "auto",
         "type": "bar",
         "x": [
          "SSP2-UA",
          "SSP2-BL",
          "SSP2-2C-UA",
          "SSP2-UA-DLS",
          "SSP2-2C-UA-DLS"
         ],
         "xaxis": "x",
         "y": [
          0.7916939802,
          0.08877701092,
          0.4430265371,
          1.198964136,
          0.7242627429
         ],
         "yaxis": "y"
        },
        {
         "alignmentgroup": "True",
         "hovertemplate": "Legend=MG-PV-diesel<br> =Rest South America<br>=%{x}<br>Capacity [GW]=%{y}<extra></extra>",
         "legendgroup": "MG-PV-diesel",
         "marker": {
          "color": "#FF7F0E",
          "pattern": {
           "shape": ""
          }
         },
         "name": "MG-PV-diesel",
         "offsetgroup": "MG-PV-diesel",
         "orientation": "v",
         "showlegend": false,
         "textposition": "auto",
         "type": "bar",
         "x": [
          "SSP2-UA",
          "SSP2-2C-UA",
          "SSP2-UA-DLS",
          "SSP2-2C-UA-DLS"
         ],
         "xaxis": "x2",
         "y": [
          0.1494240372,
          0.05764864633,
          0.1725942718,
          0.043866791669999995
         ],
         "yaxis": "y2"
        },
        {
         "alignmentgroup": "True",
         "hovertemplate": "Legend=MG-PV-diesel<br> =Mexico<br>=%{x}<br>Capacity [GW]=%{y}<extra></extra>",
         "legendgroup": "MG-PV-diesel",
         "marker": {
          "color": "#FF7F0E",
          "pattern": {
           "shape": ""
          }
         },
         "name": "MG-PV-diesel",
         "offsetgroup": "MG-PV-diesel",
         "orientation": "v",
         "showlegend": false,
         "textposition": "auto",
         "type": "bar",
         "x": [
          "SSP2-UA",
          "SSP2-BL",
          "SSP2-2C-UA",
          "SSP2-UA-DLS",
          "SSP2-2C-UA-DLS"
         ],
         "xaxis": "x3",
         "y": [
          0.6123148171,
          0.3011199499,
          0.59611821,
          0.5814149402000001,
          0.5673241755
         ],
         "yaxis": "y3"
        },
        {
         "alignmentgroup": "True",
         "hovertemplate": "Legend=MG-wind-diesel<br> =Western Africa<br>=%{x}<br>Capacity [GW]=%{y}<extra></extra>",
         "legendgroup": "MG-wind-diesel",
         "marker": {
          "color": "#BCBD22",
          "pattern": {
           "shape": ""
          }
         },
         "name": "MG-wind-diesel",
         "offsetgroup": "MG-wind-diesel",
         "orientation": "v",
         "showlegend": true,
         "textposition": "auto",
         "type": "bar",
         "x": [
          "SSP2-UA",
          "SSP2-2C-UA",
          "SSP2-UA-DLS",
          "SSP2-2C-UA-DLS"
         ],
         "xaxis": "x10",
         "y": [
          0.000126253859,
          0.000126253859,
          0.01275450959,
          0.01275450959
         ],
         "yaxis": "y10"
        },
        {
         "alignmentgroup": "True",
         "hovertemplate": "Legend=MG-wind-diesel<br> =Eastern Africa<br>=%{x}<br>Capacity [GW]=%{y}<extra></extra>",
         "legendgroup": "MG-wind-diesel",
         "marker": {
          "color": "#BCBD22",
          "pattern": {
           "shape": ""
          }
         },
         "name": "MG-wind-diesel",
         "offsetgroup": "MG-wind-diesel",
         "orientation": "v",
         "showlegend": false,
         "textposition": "auto",
         "type": "bar",
         "x": [
          "SSP2-UA",
          "SSP2-2C-UA",
          "SSP2-UA-DLS",
          "SSP2-2C-UA-DLS"
         ],
         "xaxis": "x11",
         "y": [
          0.0025761972059999997,
          0.0025761972059999997,
          0.1156627848,
          0.04371764384
         ],
         "yaxis": "y11"
        },
        {
         "alignmentgroup": "True",
         "hovertemplate": "Legend=MG-wind-diesel<br> =Rest South Africa<br>=%{x}<br>Capacity [GW]=%{y}<extra></extra>",
         "legendgroup": "MG-wind-diesel",
         "marker": {
          "color": "#BCBD22",
          "pattern": {
           "shape": ""
          }
         },
         "name": "MG-wind-diesel",
         "offsetgroup": "MG-wind-diesel",
         "orientation": "v",
         "showlegend": false,
         "textposition": "auto",
         "type": "bar",
         "x": [
          "SSP2-UA",
          "SSP2-2C-UA",
          "SSP2-UA-DLS",
          "SSP2-2C-UA-DLS"
         ],
         "xaxis": "x12",
         "y": [
          0.000630152372,
          0.000630152372,
          0.023615751259999998,
          0.023615751259999998
         ],
         "yaxis": "y12"
        },
        {
         "alignmentgroup": "True",
         "hovertemplate": "Legend=MG-wind-diesel<br> =Southeastern Asia<br>=%{x}<br>Capacity [GW]=%{y}<extra></extra>",
         "legendgroup": "MG-wind-diesel",
         "marker": {
          "color": "#BCBD22",
          "pattern": {
           "shape": ""
          }
         },
         "name": "MG-wind-diesel",
         "offsetgroup": "MG-wind-diesel",
         "orientation": "v",
         "showlegend": false,
         "textposition": "auto",
         "type": "bar",
         "x": [
          "SSP2-UA",
          "SSP2-BL",
          "SSP2-2C-UA",
          "SSP2-UA-DLS",
          "SSP2-2C-UA-DLS"
         ],
         "xaxis": "x9",
         "y": [
          0.000180604295,
          0.001053228121,
          0.000180604295,
          0.002070931714,
          0.002070931714
         ],
         "yaxis": "y9"
        },
        {
         "alignmentgroup": "True",
         "hovertemplate": "Legend=MG-wind-diesel<br> =Oceania<br>=%{x}<br>Capacity [GW]=%{y}<extra></extra>",
         "legendgroup": "MG-wind-diesel",
         "marker": {
          "color": "#BCBD22",
          "pattern": {
           "shape": ""
          }
         },
         "name": "MG-wind-diesel",
         "offsetgroup": "MG-wind-diesel",
         "orientation": "v",
         "showlegend": false,
         "textposition": "auto",
         "type": "bar",
         "x": [
          "SSP2-UA",
          "SSP2-2C-UA",
          "SSP2-UA-DLS",
          "SSP2-2C-UA-DLS"
         ],
         "xaxis": "x6",
         "y": [
          0.000875737849,
          0.000875737849,
          0.000875566349,
          0.000875566349
         ],
         "yaxis": "y6"
        },
        {
         "alignmentgroup": "True",
         "hovertemplate": "Legend=MG-wind-diesel<br> =Rest Central America<br>=%{x}<br>Capacity [GW]=%{y}<extra></extra>",
         "legendgroup": "MG-wind-diesel",
         "marker": {
          "color": "#BCBD22",
          "pattern": {
           "shape": ""
          }
         },
         "name": "MG-wind-diesel",
         "offsetgroup": "MG-wind-diesel",
         "orientation": "v",
         "showlegend": false,
         "textposition": "auto",
         "type": "bar",
         "x": [
          "SSP2-UA-DLS",
          "SSP2-2C-UA-DLS"
         ],
         "xaxis": "x",
         "y": [
          0.003111205908,
          0.003111205908
         ],
         "yaxis": "y"
        },
        {
         "alignmentgroup": "True",
         "hovertemplate": "Legend=MG-wind-diesel<br> =Mexico<br>=%{x}<br>Capacity [GW]=%{y}<extra></extra>",
         "legendgroup": "MG-wind-diesel",
         "marker": {
          "color": "#BCBD22",
          "pattern": {
           "shape": ""
          }
         },
         "name": "MG-wind-diesel",
         "offsetgroup": "MG-wind-diesel",
         "orientation": "v",
         "showlegend": false,
         "textposition": "auto",
         "type": "bar",
         "x": [
          "SSP2-UA-DLS",
          "SSP2-2C-UA-DLS"
         ],
         "xaxis": "x3",
         "y": [
          0.004032580326,
          0.004032580326
         ],
         "yaxis": "y3"
        },
        {
         "alignmentgroup": "True",
         "hovertemplate": "Legend=MG-diesel<br> =Western Africa<br>=%{x}<br>Capacity [GW]=%{y}<extra></extra>",
         "legendgroup": "MG-diesel",
         "marker": {
          "color": "#7F7F7F",
          "pattern": {
           "shape": ""
          }
         },
         "name": "MG-diesel",
         "offsetgroup": "MG-diesel",
         "orientation": "v",
         "showlegend": true,
         "textposition": "auto",
         "type": "bar",
         "x": [
          "SSP2-UA",
          "SSP2-2C-UA",
          "SSP2-UA-DLS",
          "SSP2-2C-UA-DLS"
         ],
         "xaxis": "x10",
         "y": [
          0.713430981,
          0.7116462628000001,
          3.928391759,
          3.913837428
         ],
         "yaxis": "y10"
        },
        {
         "alignmentgroup": "True",
         "hovertemplate": "Legend=MG-diesel<br> =Eastern Africa<br>=%{x}<br>Capacity [GW]=%{y}<extra></extra>",
         "legendgroup": "MG-diesel",
         "marker": {
          "color": "#7F7F7F",
          "pattern": {
           "shape": ""
          }
         },
         "name": "MG-diesel",
         "offsetgroup": "MG-diesel",
         "orientation": "v",
         "showlegend": false,
         "textposition": "auto",
         "type": "bar",
         "x": [
          "SSP2-UA",
          "SSP2-BL",
          "SSP2-2C-UA",
          "SSP2-UA-DLS",
          "SSP2-2C-UA-DLS"
         ],
         "xaxis": "x11",
         "y": [
          0.09201395737,
          0.013387172919999999,
          0.09222122830000001,
          2.006200952,
          1.9769678590000002
         ],
         "yaxis": "y11"
        },
        {
         "alignmentgroup": "True",
         "hovertemplate": "Legend=MG-diesel<br> =Rest South Africa<br>=%{x}<br>Capacity [GW]=%{y}<extra></extra>",
         "legendgroup": "MG-diesel",
         "marker": {
          "color": "#7F7F7F",
          "pattern": {
           "shape": ""
          }
         },
         "name": "MG-diesel",
         "offsetgroup": "MG-diesel",
         "orientation": "v",
         "showlegend": false,
         "textposition": "auto",
         "type": "bar",
         "x": [
          "SSP2-UA",
          "SSP2-2C-UA",
          "SSP2-UA-DLS",
          "SSP2-2C-UA-DLS"
         ],
         "xaxis": "x12",
         "y": [
          0.03205639291,
          0.033465130950000005,
          0.4500533377,
          0.45363741399999996
         ],
         "yaxis": "y12"
        },
        {
         "alignmentgroup": "True",
         "hovertemplate": "Legend=MG-diesel<br> =Rest South Asia<br>=%{x}<br>Capacity [GW]=%{y}<extra></extra>",
         "legendgroup": "MG-diesel",
         "marker": {
          "color": "#7F7F7F",
          "pattern": {
           "shape": ""
          }
         },
         "name": "MG-diesel",
         "offsetgroup": "MG-diesel",
         "orientation": "v",
         "showlegend": false,
         "textposition": "auto",
         "type": "bar",
         "x": [
          "SSP2-UA",
          "SSP2-2C-UA",
          "SSP2-UA-DLS",
          "SSP2-2C-UA-DLS"
         ],
         "xaxis": "x8",
         "y": [
          0.034637964439999995,
          0.034654849919999994,
          0.6003868237000001,
          0.6003868237000001
         ],
         "yaxis": "y8"
        },
        {
         "alignmentgroup": "True",
         "hovertemplate": "Legend=MG-diesel<br> =Southeastern Asia<br>=%{x}<br>Capacity [GW]=%{y}<extra></extra>",
         "legendgroup": "MG-diesel",
         "marker": {
          "color": "#7F7F7F",
          "pattern": {
           "shape": ""
          }
         },
         "name": "MG-diesel",
         "offsetgroup": "MG-diesel",
         "orientation": "v",
         "showlegend": false,
         "textposition": "auto",
         "type": "bar",
         "x": [
          "SSP2-UA",
          "SSP2-2C-UA",
          "SSP2-UA-DLS",
          "SSP2-2C-UA-DLS"
         ],
         "xaxis": "x9",
         "y": [
          0.2606638348,
          0.26062233700000004,
          0.43130051529999996,
          0.4312321887
         ],
         "yaxis": "y9"
        },
        {
         "alignmentgroup": "True",
         "hovertemplate": "Legend=MG-diesel<br> =India<br>=%{x}<br>Capacity [GW]=%{y}<extra></extra>",
         "legendgroup": "MG-diesel",
         "marker": {
          "color": "#7F7F7F",
          "pattern": {
           "shape": ""
          }
         },
         "name": "MG-diesel",
         "offsetgroup": "MG-diesel",
         "orientation": "v",
         "showlegend": false,
         "textposition": "auto",
         "type": "bar",
         "x": [
          "SSP2-UA",
          "SSP2-2C-UA",
          "SSP2-UA-DLS",
          "SSP2-2C-UA-DLS"
         ],
         "xaxis": "x4",
         "y": [
          0.14449623539999998,
          0.14449623539999998,
          0.1566368998,
          0.1566368998
         ],
         "yaxis": "y4"
        },
        {
         "alignmentgroup": "True",
         "hovertemplate": "Legend=MG-diesel<br> =Indonesia +<br>=%{x}<br>Capacity [GW]=%{y}<extra></extra>",
         "legendgroup": "MG-diesel",
         "marker": {
          "color": "#7F7F7F",
          "pattern": {
           "shape": ""
          }
         },
         "name": "MG-diesel",
         "offsetgroup": "MG-diesel",
         "orientation": "v",
         "showlegend": false,
         "textposition": "auto",
         "type": "bar",
         "x": [
          "SSP2-UA",
          "SSP2-2C-UA",
          "SSP2-UA-DLS",
          "SSP2-2C-UA-DLS"
         ],
         "xaxis": "x5",
         "y": [
          0.4556593147,
          0.4313528549,
          0.8225314911,
          0.7528348537
         ],
         "yaxis": "y5"
        },
        {
         "alignmentgroup": "True",
         "hovertemplate": "Legend=MG-diesel<br> =Oceania<br>=%{x}<br>Capacity [GW]=%{y}<extra></extra>",
         "legendgroup": "MG-diesel",
         "marker": {
          "color": "#7F7F7F",
          "pattern": {
           "shape": ""
          }
         },
         "name": "MG-diesel",
         "offsetgroup": "MG-diesel",
         "orientation": "v",
         "showlegend": false,
         "textposition": "auto",
         "type": "bar",
         "x": [
          "SSP2-UA",
          "SSP2-2C-UA",
          "SSP2-UA-DLS",
          "SSP2-2C-UA-DLS"
         ],
         "xaxis": "x6",
         "y": [
          0.1277200114,
          0.1277200114,
          0.1276949994,
          0.1276949994
         ],
         "yaxis": "y6"
        },
        {
         "alignmentgroup": "True",
         "hovertemplate": "Legend=MG-diesel<br> =Rest Central America<br>=%{x}<br>Capacity [GW]=%{y}<extra></extra>",
         "legendgroup": "MG-diesel",
         "marker": {
          "color": "#7F7F7F",
          "pattern": {
           "shape": ""
          }
         },
         "name": "MG-diesel",
         "offsetgroup": "MG-diesel",
         "orientation": "v",
         "showlegend": false,
         "textposition": "auto",
         "type": "bar",
         "x": [
          "SSP2-UA",
          "SSP2-BL",
          "SSP2-2C-UA",
          "SSP2-UA-DLS",
          "SSP2-2C-UA-DLS"
         ],
         "xaxis": "x",
         "y": [
          0.3156896783,
          0.06546875761,
          0.3141804774,
          0.4156931623,
          0.4116709981
         ],
         "yaxis": "y"
        },
        {
         "alignmentgroup": "True",
         "hovertemplate": "Legend=MG-diesel<br> =Rest South America<br>=%{x}<br>Capacity [GW]=%{y}<extra></extra>",
         "legendgroup": "MG-diesel",
         "marker": {
          "color": "#7F7F7F",
          "pattern": {
           "shape": ""
          }
         },
         "name": "MG-diesel",
         "offsetgroup": "MG-diesel",
         "orientation": "v",
         "showlegend": false,
         "textposition": "auto",
         "type": "bar",
         "x": [
          "SSP2-UA",
          "SSP2-2C-UA",
          "SSP2-UA-DLS",
          "SSP2-2C-UA-DLS"
         ],
         "xaxis": "x2",
         "y": [
          0.1135699832,
          0.11357027700000001,
          0.1358975761,
          0.1358975761
         ],
         "yaxis": "y2"
        },
        {
         "alignmentgroup": "True",
         "hovertemplate": "Legend=MG-diesel<br> =Mexico<br>=%{x}<br>Capacity [GW]=%{y}<extra></extra>",
         "legendgroup": "MG-diesel",
         "marker": {
          "color": "#7F7F7F",
          "pattern": {
           "shape": ""
          }
         },
         "name": "MG-diesel",
         "offsetgroup": "MG-diesel",
         "orientation": "v",
         "showlegend": false,
         "textposition": "auto",
         "type": "bar",
         "x": [
          "SSP2-UA",
          "SSP2-2C-UA",
          "SSP2-UA-DLS",
          "SSP2-2C-UA-DLS"
         ],
         "xaxis": "x3",
         "y": [
          0.0069438519640000005,
          0.0069438519640000005,
          0.00672500932,
          0.0067255895949999995
         ],
         "yaxis": "y3"
        },
        {
         "alignmentgroup": "True",
         "hovertemplate": "Legend=SA-diesel<br> =Western Africa<br>=%{x}<br>Capacity [GW]=%{y}<extra></extra>",
         "legendgroup": "SA-diesel",
         "marker": {
          "color": "brown",
          "pattern": {
           "shape": ""
          }
         },
         "name": "SA-diesel",
         "offsetgroup": "SA-diesel",
         "orientation": "v",
         "showlegend": true,
         "textposition": "auto",
         "type": "bar",
         "x": [
          "SSP2-UA",
          "SSP2-2C-UA"
         ],
         "xaxis": "x10",
         "y": [
          0.000050055023,
          0.000006890165
         ],
         "yaxis": "y10"
        },
        {
         "alignmentgroup": "True",
         "hovertemplate": "Legend=SA-diesel<br> =Eastern Africa<br>=%{x}<br>Capacity [GW]=%{y}<extra></extra>",
         "legendgroup": "SA-diesel",
         "marker": {
          "color": "brown",
          "pattern": {
           "shape": ""
          }
         },
         "name": "SA-diesel",
         "offsetgroup": "SA-diesel",
         "orientation": "v",
         "showlegend": false,
         "textposition": "auto",
         "type": "bar",
         "x": [
          "SSP2-UA",
          "SSP2-BL",
          "SSP2-2C-UA",
          "SSP2-UA-DLS",
          "SSP2-2C-UA-DLS"
         ],
         "xaxis": "x11",
         "y": [
          0.000009737534000000001,
          0.000003477691,
          0.000006677166,
          0.000001669291,
          0.0000012519689999999998
         ],
         "yaxis": "y11"
        },
        {
         "alignmentgroup": "True",
         "hovertemplate": "Legend=SA-diesel<br> =Rest South Africa<br>=%{x}<br>Capacity [GW]=%{y}<extra></extra>",
         "legendgroup": "SA-diesel",
         "marker": {
          "color": "brown",
          "pattern": {
           "shape": ""
          }
         },
         "name": "SA-diesel",
         "offsetgroup": "SA-diesel",
         "orientation": "v",
         "showlegend": false,
         "textposition": "auto",
         "type": "bar",
         "x": [
          "SSP2-UA",
          "SSP2-2C-UA"
         ],
         "xaxis": "x12",
         "y": [
          0.000025880431999999998,
          0.00000774201
         ],
         "yaxis": "y12"
        },
        {
         "alignmentgroup": "True",
         "hovertemplate": "Legend=SA-diesel<br> =Rest South Asia<br>=%{x}<br>Capacity [GW]=%{y}<extra></extra>",
         "legendgroup": "SA-diesel",
         "marker": {
          "color": "brown",
          "pattern": {
           "shape": ""
          }
         },
         "name": "SA-diesel",
         "offsetgroup": "SA-diesel",
         "orientation": "v",
         "showlegend": false,
         "textposition": "auto",
         "type": "bar",
         "x": [
          "SSP2-UA"
         ],
         "xaxis": "x8",
         "y": [
          3.7027099999999997e-7
         ],
         "yaxis": "y8"
        },
        {
         "alignmentgroup": "True",
         "hovertemplate": "Legend=SA-diesel<br> =Southeastern Asia<br>=%{x}<br>Capacity [GW]=%{y}<extra></extra>",
         "legendgroup": "SA-diesel",
         "marker": {
          "color": "brown",
          "pattern": {
           "shape": ""
          }
         },
         "name": "SA-diesel",
         "offsetgroup": "SA-diesel",
         "orientation": "v",
         "showlegend": false,
         "textposition": "auto",
         "type": "bar",
         "x": [
          "SSP2-UA"
         ],
         "xaxis": "x9",
         "y": [
          6.16564e-7
         ],
         "yaxis": "y9"
        },
        {
         "alignmentgroup": "True",
         "hovertemplate": "Legend=SA-diesel<br> =Indonesia +<br>=%{x}<br>Capacity [GW]=%{y}<extra></extra>",
         "legendgroup": "SA-diesel",
         "marker": {
          "color": "brown",
          "pattern": {
           "shape": ""
          }
         },
         "name": "SA-diesel",
         "offsetgroup": "SA-diesel",
         "orientation": "v",
         "showlegend": false,
         "textposition": "auto",
         "type": "bar",
         "x": [
          "SSP2-UA",
          "SSP2-UA-DLS"
         ],
         "xaxis": "x5",
         "y": [
          0.00022723547,
          0.00008035128099999999
         ],
         "yaxis": "y5"
        },
        {
         "alignmentgroup": "True",
         "hovertemplate": "Legend=SA-diesel<br> =Rest Central America<br>=%{x}<br>Capacity [GW]=%{y}<extra></extra>",
         "legendgroup": "SA-diesel",
         "marker": {
          "color": "brown",
          "pattern": {
           "shape": ""
          }
         },
         "name": "SA-diesel",
         "offsetgroup": "SA-diesel",
         "orientation": "v",
         "showlegend": false,
         "textposition": "auto",
         "type": "bar",
         "x": [
          "SSP2-UA",
          "SSP2-BL",
          "SSP2-2C-UA",
          "SSP2-UA-DLS",
          "SSP2-2C-UA-DLS"
         ],
         "xaxis": "x",
         "y": [
          0.000036357714,
          0.000001211924,
          0.000002423848,
          6.05962e-7,
          6.05962e-7
         ],
         "yaxis": "y"
        },
        {
         "alignmentgroup": "True",
         "hovertemplate": "Legend=SA-diesel<br> =Rest South America<br>=%{x}<br>Capacity [GW]=%{y}<extra></extra>",
         "legendgroup": "SA-diesel",
         "marker": {
          "color": "brown",
          "pattern": {
           "shape": ""
          }
         },
         "name": "SA-diesel",
         "offsetgroup": "SA-diesel",
         "orientation": "v",
         "showlegend": false,
         "textposition": "auto",
         "type": "bar",
         "x": [
          "SSP2-UA"
         ],
         "xaxis": "x2",
         "y": [
          5.06601e-7
         ],
         "yaxis": "y2"
        },
        {
         "alignmentgroup": "True",
         "hovertemplate": "Legend=SA-PV<br> =Western Africa<br>=%{x}<br>Capacity [GW]=%{y}<extra></extra>",
         "legendgroup": "SA-PV",
         "marker": {
          "color": "#FECB52",
          "pattern": {
           "shape": ""
          }
         },
         "name": "SA-PV",
         "offsetgroup": "SA-PV",
         "orientation": "v",
         "showlegend": true,
         "textposition": "auto",
         "type": "bar",
         "x": [
          "SSP2-UA",
          "SSP2-BL",
          "SSP2-2C-UA",
          "SSP2-UA-DLS",
          "SSP2-2C-UA-DLS"
         ],
         "xaxis": "x10",
         "y": [
          8.286150729000001,
          0.1018147065,
          8.288239235999999,
          2.303623,
          2.380375625
         ],
         "yaxis": "y10"
        },
        {
         "alignmentgroup": "True",
         "hovertemplate": "Legend=SA-PV<br> =Eastern Africa<br>=%{x}<br>Capacity [GW]=%{y}<extra></extra>",
         "legendgroup": "SA-PV",
         "marker": {
          "color": "#FECB52",
          "pattern": {
           "shape": ""
          }
         },
         "name": "SA-PV",
         "offsetgroup": "SA-PV",
         "orientation": "v",
         "showlegend": false,
         "textposition": "auto",
         "type": "bar",
         "x": [
          "SSP2-UA",
          "SSP2-BL",
          "SSP2-2C-UA",
          "SSP2-UA-DLS",
          "SSP2-2C-UA-DLS"
         ],
         "xaxis": "x11",
         "y": [
          3.643920919,
          2.621386604,
          3.644279326,
          2.551138891,
          2.570134446
         ],
         "yaxis": "y11"
        },
        {
         "alignmentgroup": "True",
         "hovertemplate": "Legend=SA-PV<br> =Rest South Africa<br>=%{x}<br>Capacity [GW]=%{y}<extra></extra>",
         "legendgroup": "SA-PV",
         "marker": {
          "color": "#FECB52",
          "pattern": {
           "shape": ""
          }
         },
         "name": "SA-PV",
         "offsetgroup": "SA-PV",
         "orientation": "v",
         "showlegend": false,
         "textposition": "auto",
         "type": "bar",
         "x": [
          "SSP2-UA",
          "SSP2-BL",
          "SSP2-2C-UA",
          "SSP2-UA-DLS",
          "SSP2-2C-UA-DLS"
         ],
         "xaxis": "x12",
         "y": [
          3.605858532,
          0.023366556,
          3.59616996,
          1.2840207479999999,
          1.494319752
         ],
         "yaxis": "y12"
        },
        {
         "alignmentgroup": "True",
         "hovertemplate": "Legend=SA-PV<br> =South Africa<br>=%{x}<br>Capacity [GW]=%{y}<extra></extra>",
         "legendgroup": "SA-PV",
         "marker": {
          "color": "#FECB52",
          "pattern": {
           "shape": ""
          }
         },
         "name": "SA-PV",
         "offsetgroup": "SA-PV",
         "orientation": "v",
         "showlegend": false,
         "textposition": "auto",
         "type": "bar",
         "x": [
          "SSP2-UA",
          "SSP2-2C-UA",
          "SSP2-UA-DLS",
          "SSP2-2C-UA-DLS"
         ],
         "xaxis": "x7",
         "y": [
          0.49075217099999996,
          0.510526068,
          0.381096924,
          0.37750167
         ],
         "yaxis": "y7"
        },
        {
         "alignmentgroup": "True",
         "hovertemplate": "Legend=SA-PV<br> =Rest South Asia<br>=%{x}<br>Capacity [GW]=%{y}<extra></extra>",
         "legendgroup": "SA-PV",
         "marker": {
          "color": "#FECB52",
          "pattern": {
           "shape": ""
          }
         },
         "name": "SA-PV",
         "offsetgroup": "SA-PV",
         "orientation": "v",
         "showlegend": false,
         "textposition": "auto",
         "type": "bar",
         "x": [
          "SSP2-UA",
          "SSP2-BL",
          "SSP2-2C-UA",
          "SSP2-UA-DLS",
          "SSP2-2C-UA-DLS"
         ],
         "xaxis": "x8",
         "y": [
          1.5531007669999999,
          0.8881675761,
          1.564548684,
          1.2335130779999999,
          1.239237037
         ],
         "yaxis": "y8"
        },
        {
         "alignmentgroup": "True",
         "hovertemplate": "Legend=SA-PV<br> =Southeastern Asia<br>=%{x}<br>Capacity [GW]=%{y}<extra></extra>",
         "legendgroup": "SA-PV",
         "marker": {
          "color": "#FECB52",
          "pattern": {
           "shape": ""
          }
         },
         "name": "SA-PV",
         "offsetgroup": "SA-PV",
         "orientation": "v",
         "showlegend": false,
         "textposition": "auto",
         "type": "bar",
         "x": [
          "SSP2-UA",
          "SSP2-2C-UA",
          "SSP2-UA-DLS",
          "SSP2-2C-UA-DLS"
         ],
         "xaxis": "x9",
         "y": [
          1.19777424,
          1.2930878399999999,
          0.55123032,
          0.8006342399999999
         ],
         "yaxis": "y9"
        },
        {
         "alignmentgroup": "True",
         "hovertemplate": "Legend=SA-PV<br> =India<br>=%{x}<br>Capacity [GW]=%{y}<extra></extra>",
         "legendgroup": "SA-PV",
         "marker": {
          "color": "#FECB52",
          "pattern": {
           "shape": ""
          }
         },
         "name": "SA-PV",
         "offsetgroup": "SA-PV",
         "orientation": "v",
         "showlegend": false,
         "textposition": "auto",
         "type": "bar",
         "x": [
          "SSP2-UA",
          "SSP2-BL",
          "SSP2-2C-UA",
          "SSP2-UA-DLS",
          "SSP2-2C-UA-DLS"
         ],
         "xaxis": "x4",
         "y": [
          0.28088987400000004,
          0.28088987400000004,
          0.285623973,
          0.211456422,
          0.213034455
         ],
         "yaxis": "y4"
        },
        {
         "alignmentgroup": "True",
         "hovertemplate": "Legend=SA-PV<br> =Indonesia +<br>=%{x}<br>Capacity [GW]=%{y}<extra></extra>",
         "legendgroup": "SA-PV",
         "marker": {
          "color": "#FECB52",
          "pattern": {
           "shape": ""
          }
         },
         "name": "SA-PV",
         "offsetgroup": "SA-PV",
         "orientation": "v",
         "showlegend": false,
         "textposition": "auto",
         "type": "bar",
         "x": [
          "SSP2-UA",
          "SSP2-BL",
          "SSP2-2C-UA",
          "SSP2-UA-DLS",
          "SSP2-2C-UA-DLS"
         ],
         "xaxis": "x5",
         "y": [
          0.20438548,
          0.081754192,
          0.609200592,
          0.089665888,
          0.35207047199999997
         ],
         "yaxis": "y5"
        },
        {
         "alignmentgroup": "True",
         "hovertemplate": "Legend=SA-PV<br> =Rest Central America<br>=%{x}<br>Capacity [GW]=%{y}<extra></extra>",
         "legendgroup": "SA-PV",
         "marker": {
          "color": "#FECB52",
          "pattern": {
           "shape": ""
          }
         },
         "name": "SA-PV",
         "offsetgroup": "SA-PV",
         "orientation": "v",
         "showlegend": false,
         "textposition": "auto",
         "type": "bar",
         "x": [
          "SSP2-UA",
          "SSP2-2C-UA",
          "SSP2-UA-DLS",
          "SSP2-2C-UA-DLS"
         ],
         "xaxis": "x",
         "y": [
          0.512087704,
          0.510526461,
          0.380943292,
          0.396555722
         ],
         "yaxis": "y"
        },
        {
         "alignmentgroup": "True",
         "hovertemplate": "Legend=SA-PV<br> =Rest South America<br>=%{x}<br>Capacity [GW]=%{y}<extra></extra>",
         "legendgroup": "SA-PV",
         "marker": {
          "color": "#FECB52",
          "pattern": {
           "shape": ""
          }
         },
         "name": "SA-PV",
         "offsetgroup": "SA-PV",
         "orientation": "v",
         "showlegend": false,
         "textposition": "auto",
         "type": "bar",
         "x": [
          "SSP2-UA",
          "SSP2-2C-UA",
          "SSP2-UA-DLS",
          "SSP2-2C-UA-DLS"
         ],
         "xaxis": "x2",
         "y": [
          0.06526215,
          0.066567393,
          0.053514963,
          0.054820205999999996
         ],
         "yaxis": "y2"
        },
        {
         "alignmentgroup": "True",
         "hovertemplate": "Legend=SA-PV<br> =Mexico<br>=%{x}<br>Capacity [GW]=%{y}<extra></extra>",
         "legendgroup": "SA-PV",
         "marker": {
          "color": "#FECB52",
          "pattern": {
           "shape": ""
          }
         },
         "name": "SA-PV",
         "offsetgroup": "SA-PV",
         "orientation": "v",
         "showlegend": false,
         "textposition": "auto",
         "type": "bar",
         "x": [
          "SSP2-UA",
          "SSP2-2C-UA",
          "SSP2-UA-DLS",
          "SSP2-2C-UA-DLS"
         ],
         "xaxis": "x3",
         "y": [
          0.221852259,
          0.291805674,
          0.23984028000000002,
          0.30979369500000004
         ],
         "yaxis": "y3"
        }
       ],
       "layout": {
        "annotations": [
         {
          "font": {},
          "showarrow": false,
          "text": "Rest Central America",
          "x": 0.14666666666666667,
          "xanchor": "center",
          "xref": "paper",
          "y": 0.175,
          "yanchor": "bottom",
          "yref": "paper"
         },
         {
          "font": {},
          "showarrow": false,
          "text": "Rest South America",
          "x": 0.5,
          "xanchor": "center",
          "xref": "paper",
          "y": 0.175,
          "yanchor": "bottom",
          "yref": "paper"
         },
         {
          "font": {},
          "showarrow": false,
          "text": "Mexico",
          "x": 0.8533333333333333,
          "xanchor": "center",
          "xref": "paper",
          "y": 0.175,
          "yanchor": "bottom",
          "yref": "paper"
         },
         {
          "font": {},
          "showarrow": false,
          "text": "India",
          "x": 0.14666666666666667,
          "xanchor": "center",
          "xref": "paper",
          "y": 0.45,
          "yanchor": "bottom",
          "yref": "paper"
         },
         {
          "font": {},
          "showarrow": false,
          "text": "Indonesia +",
          "x": 0.5,
          "xanchor": "center",
          "xref": "paper",
          "y": 0.45,
          "yanchor": "bottom",
          "yref": "paper"
         },
         {
          "font": {},
          "showarrow": false,
          "text": "Oceania",
          "x": 0.8533333333333333,
          "xanchor": "center",
          "xref": "paper",
          "y": 0.45,
          "yanchor": "bottom",
          "yref": "paper"
         },
         {
          "font": {},
          "showarrow": false,
          "text": "South Africa",
          "x": 0.14666666666666667,
          "xanchor": "center",
          "xref": "paper",
          "y": 0.7250000000000001,
          "yanchor": "bottom",
          "yref": "paper"
         },
         {
          "font": {},
          "showarrow": false,
          "text": "Rest South Asia",
          "x": 0.5,
          "xanchor": "center",
          "xref": "paper",
          "y": 0.7250000000000001,
          "yanchor": "bottom",
          "yref": "paper"
         },
         {
          "font": {},
          "showarrow": false,
          "text": "Southeastern Asia",
          "x": 0.8533333333333333,
          "xanchor": "center",
          "xref": "paper",
          "y": 0.7250000000000001,
          "yanchor": "bottom",
          "yref": "paper"
         },
         {
          "font": {},
          "showarrow": false,
          "text": "Western Africa",
          "x": 0.14666666666666667,
          "xanchor": "center",
          "xref": "paper",
          "y": 1,
          "yanchor": "bottom",
          "yref": "paper"
         },
         {
          "font": {},
          "showarrow": false,
          "text": "Eastern Africa",
          "x": 0.5,
          "xanchor": "center",
          "xref": "paper",
          "y": 1,
          "yanchor": "bottom",
          "yref": "paper"
         },
         {
          "font": {},
          "showarrow": false,
          "text": "Rest South Africa",
          "x": 0.8533333333333333,
          "xanchor": "center",
          "xref": "paper",
          "y": 1,
          "yanchor": "bottom",
          "yref": "paper"
         }
        ],
        "barmode": "relative",
        "font": {
         "size": 13
        },
        "height": 1000,
        "legend": {
         "orientation": "h",
         "title": {
          "text": "Legend"
         },
         "tracegroupgap": 0,
         "xanchor": "left",
         "yanchor": "top"
        },
        "margin": {
         "t": 60
        },
        "paper_bgcolor": "white",
        "plot_bgcolor": "rgba(0,0,0,0)",
        "template": {
         "data": {
          "bar": [
           {
            "error_x": {
             "color": "#2a3f5f"
            },
            "error_y": {
             "color": "#2a3f5f"
            },
            "marker": {
             "line": {
              "color": "#E5ECF6",
              "width": 0.5
             },
             "pattern": {
              "fillmode": "overlay",
              "size": 10,
              "solidity": 0.2
             }
            },
            "type": "bar"
           }
          ],
          "barpolar": [
           {
            "marker": {
             "line": {
              "color": "#E5ECF6",
              "width": 0.5
             },
             "pattern": {
              "fillmode": "overlay",
              "size": 10,
              "solidity": 0.2
             }
            },
            "type": "barpolar"
           }
          ],
          "carpet": [
           {
            "aaxis": {
             "endlinecolor": "#2a3f5f",
             "gridcolor": "white",
             "linecolor": "white",
             "minorgridcolor": "white",
             "startlinecolor": "#2a3f5f"
            },
            "baxis": {
             "endlinecolor": "#2a3f5f",
             "gridcolor": "white",
             "linecolor": "white",
             "minorgridcolor": "white",
             "startlinecolor": "#2a3f5f"
            },
            "type": "carpet"
           }
          ],
          "choropleth": [
           {
            "colorbar": {
             "outlinewidth": 0,
             "ticks": ""
            },
            "type": "choropleth"
           }
          ],
          "contour": [
           {
            "colorbar": {
             "outlinewidth": 0,
             "ticks": ""
            },
            "colorscale": [
             [
              0,
              "#0d0887"
             ],
             [
              0.1111111111111111,
              "#46039f"
             ],
             [
              0.2222222222222222,
              "#7201a8"
             ],
             [
              0.3333333333333333,
              "#9c179e"
             ],
             [
              0.4444444444444444,
              "#bd3786"
             ],
             [
              0.5555555555555556,
              "#d8576b"
             ],
             [
              0.6666666666666666,
              "#ed7953"
             ],
             [
              0.7777777777777778,
              "#fb9f3a"
             ],
             [
              0.8888888888888888,
              "#fdca26"
             ],
             [
              1,
              "#f0f921"
             ]
            ],
            "type": "contour"
           }
          ],
          "contourcarpet": [
           {
            "colorbar": {
             "outlinewidth": 0,
             "ticks": ""
            },
            "type": "contourcarpet"
           }
          ],
          "heatmap": [
           {
            "colorbar": {
             "outlinewidth": 0,
             "ticks": ""
            },
            "colorscale": [
             [
              0,
              "#0d0887"
             ],
             [
              0.1111111111111111,
              "#46039f"
             ],
             [
              0.2222222222222222,
              "#7201a8"
             ],
             [
              0.3333333333333333,
              "#9c179e"
             ],
             [
              0.4444444444444444,
              "#bd3786"
             ],
             [
              0.5555555555555556,
              "#d8576b"
             ],
             [
              0.6666666666666666,
              "#ed7953"
             ],
             [
              0.7777777777777778,
              "#fb9f3a"
             ],
             [
              0.8888888888888888,
              "#fdca26"
             ],
             [
              1,
              "#f0f921"
             ]
            ],
            "type": "heatmap"
           }
          ],
          "heatmapgl": [
           {
            "colorbar": {
             "outlinewidth": 0,
             "ticks": ""
            },
            "colorscale": [
             [
              0,
              "#0d0887"
             ],
             [
              0.1111111111111111,
              "#46039f"
             ],
             [
              0.2222222222222222,
              "#7201a8"
             ],
             [
              0.3333333333333333,
              "#9c179e"
             ],
             [
              0.4444444444444444,
              "#bd3786"
             ],
             [
              0.5555555555555556,
              "#d8576b"
             ],
             [
              0.6666666666666666,
              "#ed7953"
             ],
             [
              0.7777777777777778,
              "#fb9f3a"
             ],
             [
              0.8888888888888888,
              "#fdca26"
             ],
             [
              1,
              "#f0f921"
             ]
            ],
            "type": "heatmapgl"
           }
          ],
          "histogram": [
           {
            "marker": {
             "pattern": {
              "fillmode": "overlay",
              "size": 10,
              "solidity": 0.2
             }
            },
            "type": "histogram"
           }
          ],
          "histogram2d": [
           {
            "colorbar": {
             "outlinewidth": 0,
             "ticks": ""
            },
            "colorscale": [
             [
              0,
              "#0d0887"
             ],
             [
              0.1111111111111111,
              "#46039f"
             ],
             [
              0.2222222222222222,
              "#7201a8"
             ],
             [
              0.3333333333333333,
              "#9c179e"
             ],
             [
              0.4444444444444444,
              "#bd3786"
             ],
             [
              0.5555555555555556,
              "#d8576b"
             ],
             [
              0.6666666666666666,
              "#ed7953"
             ],
             [
              0.7777777777777778,
              "#fb9f3a"
             ],
             [
              0.8888888888888888,
              "#fdca26"
             ],
             [
              1,
              "#f0f921"
             ]
            ],
            "type": "histogram2d"
           }
          ],
          "histogram2dcontour": [
           {
            "colorbar": {
             "outlinewidth": 0,
             "ticks": ""
            },
            "colorscale": [
             [
              0,
              "#0d0887"
             ],
             [
              0.1111111111111111,
              "#46039f"
             ],
             [
              0.2222222222222222,
              "#7201a8"
             ],
             [
              0.3333333333333333,
              "#9c179e"
             ],
             [
              0.4444444444444444,
              "#bd3786"
             ],
             [
              0.5555555555555556,
              "#d8576b"
             ],
             [
              0.6666666666666666,
              "#ed7953"
             ],
             [
              0.7777777777777778,
              "#fb9f3a"
             ],
             [
              0.8888888888888888,
              "#fdca26"
             ],
             [
              1,
              "#f0f921"
             ]
            ],
            "type": "histogram2dcontour"
           }
          ],
          "mesh3d": [
           {
            "colorbar": {
             "outlinewidth": 0,
             "ticks": ""
            },
            "type": "mesh3d"
           }
          ],
          "parcoords": [
           {
            "line": {
             "colorbar": {
              "outlinewidth": 0,
              "ticks": ""
             }
            },
            "type": "parcoords"
           }
          ],
          "pie": [
           {
            "automargin": true,
            "type": "pie"
           }
          ],
          "scatter": [
           {
            "fillpattern": {
             "fillmode": "overlay",
             "size": 10,
             "solidity": 0.2
            },
            "type": "scatter"
           }
          ],
          "scatter3d": [
           {
            "line": {
             "colorbar": {
              "outlinewidth": 0,
              "ticks": ""
             }
            },
            "marker": {
             "colorbar": {
              "outlinewidth": 0,
              "ticks": ""
             }
            },
            "type": "scatter3d"
           }
          ],
          "scattercarpet": [
           {
            "marker": {
             "colorbar": {
              "outlinewidth": 0,
              "ticks": ""
             }
            },
            "type": "scattercarpet"
           }
          ],
          "scattergeo": [
           {
            "marker": {
             "colorbar": {
              "outlinewidth": 0,
              "ticks": ""
             }
            },
            "type": "scattergeo"
           }
          ],
          "scattergl": [
           {
            "marker": {
             "colorbar": {
              "outlinewidth": 0,
              "ticks": ""
             }
            },
            "type": "scattergl"
           }
          ],
          "scattermapbox": [
           {
            "marker": {
             "colorbar": {
              "outlinewidth": 0,
              "ticks": ""
             }
            },
            "type": "scattermapbox"
           }
          ],
          "scatterpolar": [
           {
            "marker": {
             "colorbar": {
              "outlinewidth": 0,
              "ticks": ""
             }
            },
            "type": "scatterpolar"
           }
          ],
          "scatterpolargl": [
           {
            "marker": {
             "colorbar": {
              "outlinewidth": 0,
              "ticks": ""
             }
            },
            "type": "scatterpolargl"
           }
          ],
          "scatterternary": [
           {
            "marker": {
             "colorbar": {
              "outlinewidth": 0,
              "ticks": ""
             }
            },
            "type": "scatterternary"
           }
          ],
          "surface": [
           {
            "colorbar": {
             "outlinewidth": 0,
             "ticks": ""
            },
            "colorscale": [
             [
              0,
              "#0d0887"
             ],
             [
              0.1111111111111111,
              "#46039f"
             ],
             [
              0.2222222222222222,
              "#7201a8"
             ],
             [
              0.3333333333333333,
              "#9c179e"
             ],
             [
              0.4444444444444444,
              "#bd3786"
             ],
             [
              0.5555555555555556,
              "#d8576b"
             ],
             [
              0.6666666666666666,
              "#ed7953"
             ],
             [
              0.7777777777777778,
              "#fb9f3a"
             ],
             [
              0.8888888888888888,
              "#fdca26"
             ],
             [
              1,
              "#f0f921"
             ]
            ],
            "type": "surface"
           }
          ],
          "table": [
           {
            "cells": {
             "fill": {
              "color": "#EBF0F8"
             },
             "line": {
              "color": "white"
             }
            },
            "header": {
             "fill": {
              "color": "#C8D4E3"
             },
             "line": {
              "color": "white"
             }
            },
            "type": "table"
           }
          ]
         },
         "layout": {
          "annotationdefaults": {
           "arrowcolor": "#2a3f5f",
           "arrowhead": 0,
           "arrowwidth": 1
          },
          "autotypenumbers": "strict",
          "coloraxis": {
           "colorbar": {
            "outlinewidth": 0,
            "ticks": ""
           }
          },
          "colorscale": {
           "diverging": [
            [
             0,
             "#8e0152"
            ],
            [
             0.1,
             "#c51b7d"
            ],
            [
             0.2,
             "#de77ae"
            ],
            [
             0.3,
             "#f1b6da"
            ],
            [
             0.4,
             "#fde0ef"
            ],
            [
             0.5,
             "#f7f7f7"
            ],
            [
             0.6,
             "#e6f5d0"
            ],
            [
             0.7,
             "#b8e186"
            ],
            [
             0.8,
             "#7fbc41"
            ],
            [
             0.9,
             "#4d9221"
            ],
            [
             1,
             "#276419"
            ]
           ],
           "sequential": [
            [
             0,
             "#0d0887"
            ],
            [
             0.1111111111111111,
             "#46039f"
            ],
            [
             0.2222222222222222,
             "#7201a8"
            ],
            [
             0.3333333333333333,
             "#9c179e"
            ],
            [
             0.4444444444444444,
             "#bd3786"
            ],
            [
             0.5555555555555556,
             "#d8576b"
            ],
            [
             0.6666666666666666,
             "#ed7953"
            ],
            [
             0.7777777777777778,
             "#fb9f3a"
            ],
            [
             0.8888888888888888,
             "#fdca26"
            ],
            [
             1,
             "#f0f921"
            ]
           ],
           "sequentialminus": [
            [
             0,
             "#0d0887"
            ],
            [
             0.1111111111111111,
             "#46039f"
            ],
            [
             0.2222222222222222,
             "#7201a8"
            ],
            [
             0.3333333333333333,
             "#9c179e"
            ],
            [
             0.4444444444444444,
             "#bd3786"
            ],
            [
             0.5555555555555556,
             "#d8576b"
            ],
            [
             0.6666666666666666,
             "#ed7953"
            ],
            [
             0.7777777777777778,
             "#fb9f3a"
            ],
            [
             0.8888888888888888,
             "#fdca26"
            ],
            [
             1,
             "#f0f921"
            ]
           ]
          },
          "colorway": [
           "#636efa",
           "#EF553B",
           "#00cc96",
           "#ab63fa",
           "#FFA15A",
           "#19d3f3",
           "#FF6692",
           "#B6E880",
           "#FF97FF",
           "#FECB52"
          ],
          "font": {
           "color": "#2a3f5f"
          },
          "geo": {
           "bgcolor": "white",
           "lakecolor": "white",
           "landcolor": "#E5ECF6",
           "showlakes": true,
           "showland": true,
           "subunitcolor": "white"
          },
          "hoverlabel": {
           "align": "left"
          },
          "hovermode": "closest",
          "mapbox": {
           "style": "light"
          },
          "paper_bgcolor": "white",
          "plot_bgcolor": "#E5ECF6",
          "polar": {
           "angularaxis": {
            "gridcolor": "white",
            "linecolor": "white",
            "ticks": ""
           },
           "bgcolor": "#E5ECF6",
           "radialaxis": {
            "gridcolor": "white",
            "linecolor": "white",
            "ticks": ""
           }
          },
          "scene": {
           "xaxis": {
            "backgroundcolor": "#E5ECF6",
            "gridcolor": "white",
            "gridwidth": 2,
            "linecolor": "white",
            "showbackground": true,
            "ticks": "",
            "zerolinecolor": "white"
           },
           "yaxis": {
            "backgroundcolor": "#E5ECF6",
            "gridcolor": "white",
            "gridwidth": 2,
            "linecolor": "white",
            "showbackground": true,
            "ticks": "",
            "zerolinecolor": "white"
           },
           "zaxis": {
            "backgroundcolor": "#E5ECF6",
            "gridcolor": "white",
            "gridwidth": 2,
            "linecolor": "white",
            "showbackground": true,
            "ticks": "",
            "zerolinecolor": "white"
           }
          },
          "shapedefaults": {
           "line": {
            "color": "#2a3f5f"
           }
          },
          "ternary": {
           "aaxis": {
            "gridcolor": "white",
            "linecolor": "white",
            "ticks": ""
           },
           "baxis": {
            "gridcolor": "white",
            "linecolor": "white",
            "ticks": ""
           },
           "bgcolor": "#E5ECF6",
           "caxis": {
            "gridcolor": "white",
            "linecolor": "white",
            "ticks": ""
           }
          },
          "title": {
           "x": 0.05
          },
          "xaxis": {
           "automargin": true,
           "gridcolor": "white",
           "linecolor": "white",
           "ticks": "",
           "title": {
            "standoff": 15
           },
           "zerolinecolor": "white",
           "zerolinewidth": 2
          },
          "yaxis": {
           "automargin": true,
           "gridcolor": "white",
           "linecolor": "white",
           "ticks": "",
           "title": {
            "standoff": 15
           },
           "zerolinecolor": "white",
           "zerolinewidth": 2
          }
         }
        },
        "width": 800,
        "xaxis": {
         "anchor": "y",
         "categoryarray": [
          "SSP2-BL",
          "SSP2-UA",
          "SSP2-2C-UA",
          "SSP2-UA-DLS",
          "SSP2-2C-UA-DLS"
         ],
         "categoryorder": "array",
         "domain": [
          0,
          0.29333333333333333
         ],
         "showticklabels": true,
         "tickfont": {
          "size": 11.5
         },
         "title": {
          "text": ""
         }
        },
        "xaxis10": {
         "anchor": "y10",
         "domain": [
          0,
          0.29333333333333333
         ],
         "matches": "x",
         "showticklabels": true,
         "tickfont": {
          "size": 11.5
         }
        },
        "xaxis11": {
         "anchor": "y11",
         "domain": [
          0.35333333333333333,
          0.6466666666666667
         ],
         "matches": "x",
         "showticklabels": true,
         "tickfont": {
          "size": 11.5
         }
        },
        "xaxis12": {
         "anchor": "y12",
         "domain": [
          0.7066666666666667,
          1
         ],
         "matches": "x",
         "showticklabels": true,
         "tickfont": {
          "size": 11.5
         }
        },
        "xaxis2": {
         "anchor": "y2",
         "categoryarray": [
          "SSP2-BL",
          "SSP2-UA",
          "SSP2-2C-UA",
          "SSP2-UA-DLS",
          "SSP2-2C-UA-DLS"
         ],
         "categoryorder": "array",
         "domain": [
          0.35333333333333333,
          0.6466666666666667
         ],
         "matches": "x",
         "showticklabels": true,
         "tickfont": {
          "size": 11.5
         },
         "title": {
          "text": ""
         }
        },
        "xaxis3": {
         "anchor": "y3",
         "categoryarray": [
          "SSP2-BL",
          "SSP2-UA",
          "SSP2-2C-UA",
          "SSP2-UA-DLS",
          "SSP2-2C-UA-DLS"
         ],
         "categoryorder": "array",
         "domain": [
          0.7066666666666667,
          1
         ],
         "matches": "x",
         "showticklabels": true,
         "tickfont": {
          "size": 11.5
         },
         "title": {
          "text": ""
         }
        },
        "xaxis4": {
         "anchor": "y4",
         "domain": [
          0,
          0.29333333333333333
         ],
         "matches": "x",
         "showticklabels": true,
         "tickfont": {
          "size": 11.5
         }
        },
        "xaxis5": {
         "anchor": "y5",
         "domain": [
          0.35333333333333333,
          0.6466666666666667
         ],
         "matches": "x",
         "showticklabels": true,
         "tickfont": {
          "size": 11.5
         }
        },
        "xaxis6": {
         "anchor": "y6",
         "domain": [
          0.7066666666666667,
          1
         ],
         "matches": "x",
         "showticklabels": true,
         "tickfont": {
          "size": 11.5
         }
        },
        "xaxis7": {
         "anchor": "y7",
         "domain": [
          0,
          0.29333333333333333
         ],
         "matches": "x",
         "showticklabels": true,
         "tickfont": {
          "size": 11.5
         }
        },
        "xaxis8": {
         "anchor": "y8",
         "domain": [
          0.35333333333333333,
          0.6466666666666667
         ],
         "matches": "x",
         "showticklabels": true,
         "tickfont": {
          "size": 11.5
         }
        },
        "xaxis9": {
         "anchor": "y9",
         "domain": [
          0.7066666666666667,
          1
         ],
         "matches": "x",
         "showticklabels": true,
         "tickfont": {
          "size": 11.5
         }
        },
        "yaxis": {
         "anchor": "x",
         "domain": [
          0,
          0.175
         ],
         "showticklabels": true,
         "tickfont": {
          "size": 11.5
         },
         "title": {
          "text": "Capacity [GW]"
         }
        },
        "yaxis10": {
         "anchor": "x10",
         "domain": [
          0.825,
          1
         ],
         "showticklabels": true,
         "tickfont": {
          "size": 11.5
         },
         "title": {
          "text": "Capacity [GW]"
         }
        },
        "yaxis11": {
         "anchor": "x11",
         "domain": [
          0.825,
          1
         ],
         "showticklabels": true,
         "tickfont": {
          "size": 11.5
         }
        },
        "yaxis12": {
         "anchor": "x12",
         "domain": [
          0.825,
          1
         ],
         "showticklabels": true,
         "tickfont": {
          "size": 11.5
         }
        },
        "yaxis2": {
         "anchor": "x2",
         "domain": [
          0,
          0.175
         ],
         "showticklabels": true,
         "tickfont": {
          "size": 11.5
         }
        },
        "yaxis3": {
         "anchor": "x3",
         "domain": [
          0,
          0.175
         ],
         "showticklabels": true,
         "tickfont": {
          "size": 11.5
         }
        },
        "yaxis4": {
         "anchor": "x4",
         "domain": [
          0.275,
          0.45
         ],
         "showticklabels": true,
         "tickfont": {
          "size": 11.5
         },
         "title": {
          "text": "Capacity [GW]"
         }
        },
        "yaxis5": {
         "anchor": "x5",
         "domain": [
          0.275,
          0.45
         ],
         "showticklabels": true,
         "tickfont": {
          "size": 11.5
         }
        },
        "yaxis6": {
         "anchor": "x6",
         "domain": [
          0.275,
          0.45
         ],
         "showticklabels": true,
         "tickfont": {
          "size": 11.5
         }
        },
        "yaxis7": {
         "anchor": "x7",
         "domain": [
          0.55,
          0.7250000000000001
         ],
         "showticklabels": true,
         "tickfont": {
          "size": 11.5
         },
         "title": {
          "text": "Capacity [GW]"
         }
        },
        "yaxis8": {
         "anchor": "x8",
         "domain": [
          0.55,
          0.7250000000000001
         ],
         "showticklabels": true,
         "tickfont": {
          "size": 11.5
         }
        },
        "yaxis9": {
         "anchor": "x9",
         "domain": [
          0.55,
          0.7250000000000001
         ],
         "showticklabels": true,
         "tickfont": {
          "size": 11.5
         }
        }
       }
      }
     },
     "metadata": {},
     "output_type": "display_data"
    }
   ],
   "source": [
    "#offgrid capacity per region\n",
    "df2 = pd.read_csv('..\\\\output\\\\analysis\\\\capacity_pertech_scenario_world.csv')  #concatanated in excel the dls and non dls scenarios\n",
    "df2 = df2[df2[\"region\"].isin([4,6, 8.0, 9.0,10,21,22,24,25,26, 18, 3])]\n",
    "df2 = df2.replace({'region':  {4: 'Rest Central America', 6:'Rest South America', 8:'Western Africa', 9: 'Eastern Africa', 10: 'South Africa', 21: 'Southeastern Asia', 22: 'Indonesia +', 24:'Oceania' , 25:'Rest South Asia', 26:'Rest South Africa', 18: 'India', 3: 'Mexico'}})  #{ 8:'Western Africa', 9: 'Eastern Africa', 10: 'South Africa', 26:'Rest SSA'}}) #{6:'Rest South America', 8:'Western Africa', 9: 'Eastern Africa', 10: 'South Africa', 21: 'Southeastern Asia', 22: 'Indonesia +', 24:'Oceania' , 25:'Rest S.Asia', 26:'Rest S.Africa'}})\n",
    "df2.groupby(['region', 'scenario']).sum().to_csv('..\\\\output\\\\analysis\\\\offgrid_added_capacity_total_region_SSP2.csv')\n",
    "df2['capacity_GW'] = df2['capacity_MW']/1000\n",
    "\n",
    "fig = px.bar(df2,x='scenario', y='capacity_GW',  color=\"techid\", facet_col='region', facet_col_wrap=3 , \n",
    "             category_orders={\"scenario\" : [ 'SSP2-BL', 'SSP2-UA', 'SSP2-2C-UA', 'SSP2-UA-DLS' , 'SSP2-2C-UA-DLS'] , \n",
    "                              \"region\": [ 'Western Africa',  'Eastern Africa', 'Rest South Africa', 'South Africa','Rest South Asia', 'Southeastern Asia', 'India','Indonesia +', 'Oceania' ,      'Rest Central America', 'Rest South America','Mexico'],\n",
    "                              \"techid\" : [   'MG-wind', 'MG-PV','MG-hydro' ,   'MG-PV-diesel', 'MG-wind-diesel','MG-diesel', \"SA-diesel\", 'SA-PV']},\n",
    "                              color_discrete_sequence=['#00CC96',  'rgb(255,237,111)','#19D3F3',    '#FF7F0E',  '#BCBD22', '#7F7F7F', \"brown\",'#FECB52'],\n",
    "             labels = {\"techid\" : \"Legend\" , 'capacity_GW': 'Capacity [GW]', 'region': ' ', 'scenario' : ''},\n",
    "             facet_row_spacing=0.1, facet_col_spacing=0.06) #'already access',#category_orders={\"region\": [ 8.0, 9.0,10,26]} )\n",
    "\n",
    "fig.for_each_annotation(lambda a: a.update(text=a.text.split(\"=\")[-1]))\n",
    "#fig.for_each_yaxis(lambda yaxis: yaxis.update(showticklabels=True)) \n",
    "fig.update_layout(font = dict(size = 13), height = 1000, width = 800,  paper_bgcolor = \"white\", plot_bgcolor = \"rgba(0,0,0,0)\", legend=dict(orientation=\"h\", yanchor=\"top\", xanchor=\"left\", )) #, legend=dict(orientation=\"h\", yanchor=\"bottom\", xanchor=\"left\", ))\n",
    "fig.update_xaxes( showticklabels=True, tickfont =dict(size = 11.5))\n",
    "fig.update_yaxes( matches=None, showticklabels=True, tickfont =dict(size = 11.5)) "
   ]
  },
  {
   "cell_type": "code",
   "execution_count": 16,
   "metadata": {},
   "outputs": [
    {
     "data": {
      "text/html": [
       "<div>\n",
       "<style scoped>\n",
       "    .dataframe tbody tr th:only-of-type {\n",
       "        vertical-align: middle;\n",
       "    }\n",
       "\n",
       "    .dataframe tbody tr th {\n",
       "        vertical-align: top;\n",
       "    }\n",
       "\n",
       "    .dataframe thead th {\n",
       "        text-align: right;\n",
       "    }\n",
       "</style>\n",
       "<table border=\"1\" class=\"dataframe\">\n",
       "  <thead>\n",
       "    <tr style=\"text-align: right;\">\n",
       "      <th></th>\n",
       "      <th>techid</th>\n",
       "      <th>region</th>\n",
       "      <th>capacity_kW</th>\n",
       "      <th>scenario</th>\n",
       "      <th>capacity_MW</th>\n",
       "      <th>capacity_GW</th>\n",
       "    </tr>\n",
       "  </thead>\n",
       "  <tbody>\n",
       "    <tr>\n",
       "      <th>160</th>\n",
       "      <td>MG-diesel</td>\n",
       "      <td>Indonesia +</td>\n",
       "      <td>4.556593e+05</td>\n",
       "      <td>SSP2-UA</td>\n",
       "      <td>455.659315</td>\n",
       "      <td>0.455659</td>\n",
       "    </tr>\n",
       "    <tr>\n",
       "      <th>161</th>\n",
       "      <td>MG-wind</td>\n",
       "      <td>Indonesia +</td>\n",
       "      <td>4.191501e+04</td>\n",
       "      <td>SSP2-UA</td>\n",
       "      <td>41.915009</td>\n",
       "      <td>0.041915</td>\n",
       "    </tr>\n",
       "    <tr>\n",
       "      <th>162</th>\n",
       "      <td>MG-hydro</td>\n",
       "      <td>Indonesia +</td>\n",
       "      <td>2.276656e+06</td>\n",
       "      <td>SSP2-UA</td>\n",
       "      <td>2276.656336</td>\n",
       "      <td>2.276656</td>\n",
       "    </tr>\n",
       "    <tr>\n",
       "      <th>163</th>\n",
       "      <td>MG-PV-diesel</td>\n",
       "      <td>Indonesia +</td>\n",
       "      <td>2.911049e+06</td>\n",
       "      <td>SSP2-UA</td>\n",
       "      <td>2911.048766</td>\n",
       "      <td>2.911049</td>\n",
       "    </tr>\n",
       "    <tr>\n",
       "      <th>164</th>\n",
       "      <td>SA-PV</td>\n",
       "      <td>Indonesia +</td>\n",
       "      <td>2.043855e+05</td>\n",
       "      <td>SSP2-UA</td>\n",
       "      <td>204.385480</td>\n",
       "      <td>0.204385</td>\n",
       "    </tr>\n",
       "    <tr>\n",
       "      <th>165</th>\n",
       "      <td>SA-diesel</td>\n",
       "      <td>Indonesia +</td>\n",
       "      <td>2.272355e+02</td>\n",
       "      <td>SSP2-UA</td>\n",
       "      <td>0.227235</td>\n",
       "      <td>0.000227</td>\n",
       "    </tr>\n",
       "    <tr>\n",
       "      <th>166</th>\n",
       "      <td>MG-wind</td>\n",
       "      <td>Indonesia +</td>\n",
       "      <td>4.191501e+04</td>\n",
       "      <td>SSP2-BL</td>\n",
       "      <td>41.915009</td>\n",
       "      <td>0.041915</td>\n",
       "    </tr>\n",
       "    <tr>\n",
       "      <th>167</th>\n",
       "      <td>MG-hydro</td>\n",
       "      <td>Indonesia +</td>\n",
       "      <td>1.603187e+06</td>\n",
       "      <td>SSP2-BL</td>\n",
       "      <td>1603.186774</td>\n",
       "      <td>1.603187</td>\n",
       "    </tr>\n",
       "    <tr>\n",
       "      <th>168</th>\n",
       "      <td>MG-PV-diesel</td>\n",
       "      <td>Indonesia +</td>\n",
       "      <td>3.032429e+06</td>\n",
       "      <td>SSP2-BL</td>\n",
       "      <td>3032.428849</td>\n",
       "      <td>3.032429</td>\n",
       "    </tr>\n",
       "    <tr>\n",
       "      <th>169</th>\n",
       "      <td>SA-PV</td>\n",
       "      <td>Indonesia +</td>\n",
       "      <td>8.175419e+04</td>\n",
       "      <td>SSP2-BL</td>\n",
       "      <td>81.754192</td>\n",
       "      <td>0.081754</td>\n",
       "    </tr>\n",
       "    <tr>\n",
       "      <th>170</th>\n",
       "      <td>MG-PV</td>\n",
       "      <td>Indonesia +</td>\n",
       "      <td>7.562087e+05</td>\n",
       "      <td>SSP2-2C-UA</td>\n",
       "      <td>756.208738</td>\n",
       "      <td>0.756209</td>\n",
       "    </tr>\n",
       "    <tr>\n",
       "      <th>171</th>\n",
       "      <td>MG-diesel</td>\n",
       "      <td>Indonesia +</td>\n",
       "      <td>4.313529e+05</td>\n",
       "      <td>SSP2-2C-UA</td>\n",
       "      <td>431.352855</td>\n",
       "      <td>0.431353</td>\n",
       "    </tr>\n",
       "    <tr>\n",
       "      <th>172</th>\n",
       "      <td>MG-wind</td>\n",
       "      <td>Indonesia +</td>\n",
       "      <td>4.191501e+04</td>\n",
       "      <td>SSP2-2C-UA</td>\n",
       "      <td>41.915009</td>\n",
       "      <td>0.041915</td>\n",
       "    </tr>\n",
       "    <tr>\n",
       "      <th>173</th>\n",
       "      <td>MG-hydro</td>\n",
       "      <td>Indonesia +</td>\n",
       "      <td>2.719269e+06</td>\n",
       "      <td>SSP2-2C-UA</td>\n",
       "      <td>2719.269264</td>\n",
       "      <td>2.719269</td>\n",
       "    </tr>\n",
       "    <tr>\n",
       "      <th>174</th>\n",
       "      <td>MG-PV-diesel</td>\n",
       "      <td>Indonesia +</td>\n",
       "      <td>2.099087e+06</td>\n",
       "      <td>SSP2-2C-UA</td>\n",
       "      <td>2099.087379</td>\n",
       "      <td>2.099087</td>\n",
       "    </tr>\n",
       "    <tr>\n",
       "      <th>175</th>\n",
       "      <td>SA-PV</td>\n",
       "      <td>Indonesia +</td>\n",
       "      <td>6.092006e+05</td>\n",
       "      <td>SSP2-2C-UA</td>\n",
       "      <td>609.200592</td>\n",
       "      <td>0.609201</td>\n",
       "    </tr>\n",
       "    <tr>\n",
       "      <th>344</th>\n",
       "      <td>MG-diesel</td>\n",
       "      <td>Indonesia +</td>\n",
       "      <td>8.225315e+05</td>\n",
       "      <td>SSP2-UA-DLS</td>\n",
       "      <td>822.531491</td>\n",
       "      <td>0.822531</td>\n",
       "    </tr>\n",
       "    <tr>\n",
       "      <th>345</th>\n",
       "      <td>MG-wind</td>\n",
       "      <td>Indonesia +</td>\n",
       "      <td>6.373675e+04</td>\n",
       "      <td>SSP2-UA-DLS</td>\n",
       "      <td>63.736751</td>\n",
       "      <td>0.063737</td>\n",
       "    </tr>\n",
       "    <tr>\n",
       "      <th>346</th>\n",
       "      <td>MG-hydro</td>\n",
       "      <td>Indonesia +</td>\n",
       "      <td>3.780884e+06</td>\n",
       "      <td>SSP2-UA-DLS</td>\n",
       "      <td>3780.884039</td>\n",
       "      <td>3.780884</td>\n",
       "    </tr>\n",
       "    <tr>\n",
       "      <th>347</th>\n",
       "      <td>MG-PV-diesel</td>\n",
       "      <td>Indonesia +</td>\n",
       "      <td>3.933183e+06</td>\n",
       "      <td>SSP2-UA-DLS</td>\n",
       "      <td>3933.183231</td>\n",
       "      <td>3.933183</td>\n",
       "    </tr>\n",
       "    <tr>\n",
       "      <th>348</th>\n",
       "      <td>SA-PV</td>\n",
       "      <td>Indonesia +</td>\n",
       "      <td>8.966589e+04</td>\n",
       "      <td>SSP2-UA-DLS</td>\n",
       "      <td>89.665888</td>\n",
       "      <td>0.089666</td>\n",
       "    </tr>\n",
       "    <tr>\n",
       "      <th>349</th>\n",
       "      <td>SA-diesel</td>\n",
       "      <td>Indonesia +</td>\n",
       "      <td>8.035128e+01</td>\n",
       "      <td>SSP2-UA-DLS</td>\n",
       "      <td>0.080351</td>\n",
       "      <td>0.000080</td>\n",
       "    </tr>\n",
       "    <tr>\n",
       "      <th>350</th>\n",
       "      <td>MG-PV</td>\n",
       "      <td>Indonesia +</td>\n",
       "      <td>6.872930e+05</td>\n",
       "      <td>SSP2-2C-UA-DLS</td>\n",
       "      <td>687.292998</td>\n",
       "      <td>0.687293</td>\n",
       "    </tr>\n",
       "    <tr>\n",
       "      <th>351</th>\n",
       "      <td>MG-diesel</td>\n",
       "      <td>Indonesia +</td>\n",
       "      <td>7.528349e+05</td>\n",
       "      <td>SSP2-2C-UA-DLS</td>\n",
       "      <td>752.834854</td>\n",
       "      <td>0.752835</td>\n",
       "    </tr>\n",
       "    <tr>\n",
       "      <th>352</th>\n",
       "      <td>MG-wind</td>\n",
       "      <td>Indonesia +</td>\n",
       "      <td>6.373675e+04</td>\n",
       "      <td>SSP2-2C-UA-DLS</td>\n",
       "      <td>63.736751</td>\n",
       "      <td>0.063737</td>\n",
       "    </tr>\n",
       "    <tr>\n",
       "      <th>353</th>\n",
       "      <td>MG-hydro</td>\n",
       "      <td>Indonesia +</td>\n",
       "      <td>4.340650e+06</td>\n",
       "      <td>SSP2-2C-UA-DLS</td>\n",
       "      <td>4340.650144</td>\n",
       "      <td>4.340650</td>\n",
       "    </tr>\n",
       "    <tr>\n",
       "      <th>354</th>\n",
       "      <td>MG-PV-diesel</td>\n",
       "      <td>Indonesia +</td>\n",
       "      <td>3.221612e+06</td>\n",
       "      <td>SSP2-2C-UA-DLS</td>\n",
       "      <td>3221.612254</td>\n",
       "      <td>3.221612</td>\n",
       "    </tr>\n",
       "    <tr>\n",
       "      <th>355</th>\n",
       "      <td>SA-PV</td>\n",
       "      <td>Indonesia +</td>\n",
       "      <td>3.520705e+05</td>\n",
       "      <td>SSP2-2C-UA-DLS</td>\n",
       "      <td>352.070472</td>\n",
       "      <td>0.352070</td>\n",
       "    </tr>\n",
       "  </tbody>\n",
       "</table>\n",
       "</div>"
      ],
      "text/plain": [
       "           techid       region   capacity_kW        scenario  capacity_MW  \\\n",
       "160     MG-diesel  Indonesia +  4.556593e+05         SSP2-UA   455.659315   \n",
       "161       MG-wind  Indonesia +  4.191501e+04         SSP2-UA    41.915009   \n",
       "162      MG-hydro  Indonesia +  2.276656e+06         SSP2-UA  2276.656336   \n",
       "163  MG-PV-diesel  Indonesia +  2.911049e+06         SSP2-UA  2911.048766   \n",
       "164         SA-PV  Indonesia +  2.043855e+05         SSP2-UA   204.385480   \n",
       "165     SA-diesel  Indonesia +  2.272355e+02         SSP2-UA     0.227235   \n",
       "166       MG-wind  Indonesia +  4.191501e+04         SSP2-BL    41.915009   \n",
       "167      MG-hydro  Indonesia +  1.603187e+06         SSP2-BL  1603.186774   \n",
       "168  MG-PV-diesel  Indonesia +  3.032429e+06         SSP2-BL  3032.428849   \n",
       "169         SA-PV  Indonesia +  8.175419e+04         SSP2-BL    81.754192   \n",
       "170         MG-PV  Indonesia +  7.562087e+05      SSP2-2C-UA   756.208738   \n",
       "171     MG-diesel  Indonesia +  4.313529e+05      SSP2-2C-UA   431.352855   \n",
       "172       MG-wind  Indonesia +  4.191501e+04      SSP2-2C-UA    41.915009   \n",
       "173      MG-hydro  Indonesia +  2.719269e+06      SSP2-2C-UA  2719.269264   \n",
       "174  MG-PV-diesel  Indonesia +  2.099087e+06      SSP2-2C-UA  2099.087379   \n",
       "175         SA-PV  Indonesia +  6.092006e+05      SSP2-2C-UA   609.200592   \n",
       "344     MG-diesel  Indonesia +  8.225315e+05     SSP2-UA-DLS   822.531491   \n",
       "345       MG-wind  Indonesia +  6.373675e+04     SSP2-UA-DLS    63.736751   \n",
       "346      MG-hydro  Indonesia +  3.780884e+06     SSP2-UA-DLS  3780.884039   \n",
       "347  MG-PV-diesel  Indonesia +  3.933183e+06     SSP2-UA-DLS  3933.183231   \n",
       "348         SA-PV  Indonesia +  8.966589e+04     SSP2-UA-DLS    89.665888   \n",
       "349     SA-diesel  Indonesia +  8.035128e+01     SSP2-UA-DLS     0.080351   \n",
       "350         MG-PV  Indonesia +  6.872930e+05  SSP2-2C-UA-DLS   687.292998   \n",
       "351     MG-diesel  Indonesia +  7.528349e+05  SSP2-2C-UA-DLS   752.834854   \n",
       "352       MG-wind  Indonesia +  6.373675e+04  SSP2-2C-UA-DLS    63.736751   \n",
       "353      MG-hydro  Indonesia +  4.340650e+06  SSP2-2C-UA-DLS  4340.650144   \n",
       "354  MG-PV-diesel  Indonesia +  3.221612e+06  SSP2-2C-UA-DLS  3221.612254   \n",
       "355         SA-PV  Indonesia +  3.520705e+05  SSP2-2C-UA-DLS   352.070472   \n",
       "\n",
       "     capacity_GW  \n",
       "160     0.455659  \n",
       "161     0.041915  \n",
       "162     2.276656  \n",
       "163     2.911049  \n",
       "164     0.204385  \n",
       "165     0.000227  \n",
       "166     0.041915  \n",
       "167     1.603187  \n",
       "168     3.032429  \n",
       "169     0.081754  \n",
       "170     0.756209  \n",
       "171     0.431353  \n",
       "172     0.041915  \n",
       "173     2.719269  \n",
       "174     2.099087  \n",
       "175     0.609201  \n",
       "344     0.822531  \n",
       "345     0.063737  \n",
       "346     3.780884  \n",
       "347     3.933183  \n",
       "348     0.089666  \n",
       "349     0.000080  \n",
       "350     0.687293  \n",
       "351     0.752835  \n",
       "352     0.063737  \n",
       "353     4.340650  \n",
       "354     3.221612  \n",
       "355     0.352070  "
      ]
     },
     "execution_count": 16,
     "metadata": {},
     "output_type": "execute_result"
    }
   ],
   "source": [
    "df2[df2.region == 'Indonesia +']"
   ]
  },
  {
   "cell_type": "code",
   "execution_count": 37,
   "metadata": {},
   "outputs": [
    {
     "name": "stderr",
     "output_type": "stream",
     "text": [
      "C:\\Users\\zapatacasv\\AppData\\Local\\Temp\\2\\ipykernel_9380\\3858927023.py:6: FutureWarning:\n",
      "\n",
      "The default value of numeric_only in DataFrameGroupBy.sum is deprecated. In a future version, numeric_only will default to False. Either specify numeric_only or select only columns which should be valid for the function.\n",
      "\n"
     ]
    }
   ],
   "source": [
    "#Preparing data for CG offgrid graph #isin([3, 4,6, 8.0, 9.0,10,21,22,24,25,26, 18])]\n",
    "\n",
    "df2 = pd.read_csv('..\\\\output\\\\analysis\\\\capacity_pertech_scenario_world.csv')  #concatanated in excel the dls and non dls scenarios\n",
    "df2 = df2[df2[\"region\"].isin([3, 4,6, 8.0, 9.0,10,21,22,24,25,26, 18])] #selected region in graph\n",
    "df2 = df2.replace({'region':  {4: 'Rest Central America', 6:'Rest South America', 8:'Western Africa', 9: 'Eastern Africa', 10: 'South Africa', 21: 'Southeastern Asia', 22: 'Indonesia +', 24:'Oceania' , 25:'Rest South Asia', 26:'Rest South Africa', 18: 'India', 3: 'Mexico'}})  #{ 8:'Western Africa', 9: 'Eastern Africa', 10: 'South Africa', 26:'Rest SSA'}}) #{6:'Rest South America', 8:'Western Africa', 9: 'Eastern Africa', 10: 'South Africa', 21: 'Southeastern Asia', 22: 'Indonesia +', 24:'Oceania' , 25:'Rest S.Asia', 26:'Rest S.Africa'}})\n",
    "df2 = df2.groupby(['region', 'scenario']).sum()\n",
    "df2 = df2.reset_index()\n",
    "df2['techid'] = 'Off-Grid'\n",
    "df2 = df2.sort_values(by='capacity_MW', ascending=False)\n",
    "\n",
    "df1 = pd.read_csv('..\\\\output\\\\analysis\\\\capacity_CGextension_allscenarios.csv')  #concatanated in excel the dls and non dls scenarios\n",
    "df1 = df1[df1[\"region\"].isin([3, 4,6, 8.0, 9.0,10,21,22,24,25,26, 18])] #selected region in graph\n",
    "df1 = df1.replace({'region':  {4: 'Rest Central America', 6:'Rest South America', 8:'Western Africa', 9: 'Eastern Africa', 10: 'South Africa', 21: 'Southeastern Asia', 22: 'Indonesia +', 24:'Oceania' , 25:'Rest South Asia', 26:'Rest South Africa', 18: 'India', 3: 'Mexico'}})  #{ 8:'Western Africa', 9: 'Eastern Africa', 10: 'South Africa', 26:'Rest SSA'}}) #{6:'Rest South America', 8:'Western Africa', 9: 'Eastern Africa', 10: 'South Africa', 21: 'Southeastern Asia', 22: 'Indonesia +', 24:'Oceania' , 25:'Rest S.Asia', 26:'Rest S.Africa'}})\n",
    "df1 = df1.groupby(['region', 'scenario']).sum()\n",
    "df1 = df1.reset_index()\n",
    "df1['techid'] = 'CG Extension T&D'\n",
    "df1 =df1.drop(columns = 'Elecuseg')\n",
    "df1 = df1.sort_values(by='capacity_MW', ascending=False)\n",
    "\n",
    "df3 = pd.concat([df1,df2])\n",
    "df3['capacity_GW'] = df3['capacity_MW']/1000\n",
    "\n"
   ]
  },
  {
   "cell_type": "code",
   "execution_count": 38,
   "metadata": {},
   "outputs": [
    {
     "data": {
      "application/vnd.plotly.v1+json": {
       "config": {
        "plotlyServerURL": "https://plot.ly"
       },
       "data": [
        {
         "alignmentgroup": "True",
         "hovertemplate": "Legend=CG Extension T&D<br> =Western Africa<br>=%{x}<br>Added Capacity [GW]=%{y}<extra></extra>",
         "legendgroup": "CG Extension T&D",
         "marker": {
          "color": "#636EFA",
          "pattern": {
           "shape": ""
          }
         },
         "name": "CG Extension T&D",
         "offsetgroup": "CG Extension T&D",
         "orientation": "v",
         "showlegend": true,
         "textposition": "auto",
         "type": "bar",
         "x": [
          "SSP2-2C-UA-DLS",
          "SSP2-UA-DLS",
          "SSP2-2C-UA",
          "SSP2-UA",
          "SSP2-BL"
         ],
         "xaxis": "x10",
         "y": [
          19.84921948,
          19.47366686,
          4.238343894,
          4.1581532779999995,
          1.954092612
         ],
         "yaxis": "y10"
        },
        {
         "alignmentgroup": "True",
         "hovertemplate": "Legend=CG Extension T&D<br> =Eastern Africa<br>=%{x}<br>Added Capacity [GW]=%{y}<extra></extra>",
         "legendgroup": "CG Extension T&D",
         "marker": {
          "color": "#636EFA",
          "pattern": {
           "shape": ""
          }
         },
         "name": "CG Extension T&D",
         "offsetgroup": "CG Extension T&D",
         "orientation": "v",
         "showlegend": false,
         "textposition": "auto",
         "type": "bar",
         "x": [
          "SSP2-UA-DLS",
          "SSP2-2C-UA-DLS",
          "SSP2-UA",
          "SSP2-2C-UA",
          "SSP2-BL"
         ],
         "xaxis": "x11",
         "y": [
          10.051608889999999,
          7.924539676999999,
          1.257090913,
          0.9910718692,
          0.2011479058
         ],
         "yaxis": "y11"
        },
        {
         "alignmentgroup": "True",
         "hovertemplate": "Legend=CG Extension T&D<br> =Rest South Africa<br>=%{x}<br>Added Capacity [GW]=%{y}<extra></extra>",
         "legendgroup": "CG Extension T&D",
         "marker": {
          "color": "#636EFA",
          "pattern": {
           "shape": ""
          }
         },
         "name": "CG Extension T&D",
         "offsetgroup": "CG Extension T&D",
         "orientation": "v",
         "showlegend": false,
         "textposition": "auto",
         "type": "bar",
         "x": [
          "SSP2-2C-UA-DLS",
          "SSP2-UA-DLS",
          "SSP2-2C-UA",
          "SSP2-UA",
          "SSP2-BL"
         ],
         "xaxis": "x12",
         "y": [
          12.36497488,
          12.21839157,
          2.579230699,
          2.548654597,
          0.9238454047
         ],
         "yaxis": "y12"
        },
        {
         "alignmentgroup": "True",
         "hovertemplate": "Legend=CG Extension T&D<br> =South Africa<br>=%{x}<br>Added Capacity [GW]=%{y}<extra></extra>",
         "legendgroup": "CG Extension T&D",
         "marker": {
          "color": "#636EFA",
          "pattern": {
           "shape": ""
          }
         },
         "name": "CG Extension T&D",
         "offsetgroup": "CG Extension T&D",
         "orientation": "v",
         "showlegend": false,
         "textposition": "auto",
         "type": "bar",
         "x": [
          "SSP2-2C-UA-DLS",
          "SSP2-UA-DLS",
          "SSP2-2C-UA",
          "SSP2-UA",
          "SSP2-BL"
         ],
         "xaxis": "x7",
         "y": [
          1.463926281,
          1.383457001,
          0.9231021657,
          0.8723609722,
          0.2826602353
         ],
         "yaxis": "y7"
        },
        {
         "alignmentgroup": "True",
         "hovertemplate": "Legend=CG Extension T&D<br> =Rest South Asia<br>=%{x}<br>Added Capacity [GW]=%{y}<extra></extra>",
         "legendgroup": "CG Extension T&D",
         "marker": {
          "color": "#636EFA",
          "pattern": {
           "shape": ""
          }
         },
         "name": "CG Extension T&D",
         "offsetgroup": "CG Extension T&D",
         "orientation": "v",
         "showlegend": false,
         "textposition": "auto",
         "type": "bar",
         "x": [
          "SSP2-2C-UA-DLS",
          "SSP2-UA-DLS",
          "SSP2-2C-UA",
          "SSP2-UA",
          "SSP2-BL"
         ],
         "xaxis": "x8",
         "y": [
          11.775418680000001,
          11.066066269999999,
          4.148628302,
          3.898714514,
          3.3574361290000003
         ],
         "yaxis": "y8"
        },
        {
         "alignmentgroup": "True",
         "hovertemplate": "Legend=CG Extension T&D<br> =Southeastern Asia<br>=%{x}<br>Added Capacity [GW]=%{y}<extra></extra>",
         "legendgroup": "CG Extension T&D",
         "marker": {
          "color": "#636EFA",
          "pattern": {
           "shape": ""
          }
         },
         "name": "CG Extension T&D",
         "offsetgroup": "CG Extension T&D",
         "orientation": "v",
         "showlegend": false,
         "textposition": "auto",
         "type": "bar",
         "x": [
          "SSP2-2C-UA",
          "SSP2-2C-UA-DLS",
          "SSP2-BL",
          "SSP2-UA",
          "SSP2-UA-DLS"
         ],
         "xaxis": "x9",
         "y": [
          0,
          0,
          0,
          0,
          0
         ],
         "yaxis": "y9"
        },
        {
         "alignmentgroup": "True",
         "hovertemplate": "Legend=CG Extension T&D<br> =India<br>=%{x}<br>Added Capacity [GW]=%{y}<extra></extra>",
         "legendgroup": "CG Extension T&D",
         "marker": {
          "color": "#636EFA",
          "pattern": {
           "shape": ""
          }
         },
         "name": "CG Extension T&D",
         "offsetgroup": "CG Extension T&D",
         "orientation": "v",
         "showlegend": false,
         "textposition": "auto",
         "type": "bar",
         "x": [
          "SSP2-2C-UA-DLS",
          "SSP2-UA-DLS",
          "SSP2-2C-UA",
          "SSP2-UA",
          "SSP2-BL"
         ],
         "xaxis": "x4",
         "y": [
          2.590282305,
          2.563346765,
          1.198783814,
          1.186318034,
          1.185746424
         ],
         "yaxis": "y4"
        },
        {
         "alignmentgroup": "True",
         "hovertemplate": "Legend=CG Extension T&D<br> =Indonesia +<br>=%{x}<br>Added Capacity [GW]=%{y}<extra></extra>",
         "legendgroup": "CG Extension T&D",
         "marker": {
          "color": "#636EFA",
          "pattern": {
           "shape": ""
          }
         },
         "name": "CG Extension T&D",
         "offsetgroup": "CG Extension T&D",
         "orientation": "v",
         "showlegend": false,
         "textposition": "auto",
         "type": "bar",
         "x": [
          "SSP2-2C-UA",
          "SSP2-2C-UA-DLS",
          "SSP2-UA-DLS",
          "SSP2-UA",
          "SSP2-BL"
         ],
         "xaxis": "x5",
         "y": [
          0,
          0,
          0,
          0,
          0
         ],
         "yaxis": "y5"
        },
        {
         "alignmentgroup": "True",
         "hovertemplate": "Legend=CG Extension T&D<br> =Oceania<br>=%{x}<br>Added Capacity [GW]=%{y}<extra></extra>",
         "legendgroup": "CG Extension T&D",
         "marker": {
          "color": "#636EFA",
          "pattern": {
           "shape": ""
          }
         },
         "name": "CG Extension T&D",
         "offsetgroup": "CG Extension T&D",
         "orientation": "v",
         "showlegend": false,
         "textposition": "auto",
         "type": "bar",
         "x": [
          "SSP2-2C-UA",
          "SSP2-2C-UA-DLS",
          "SSP2-BL",
          "SSP2-UA",
          "SSP2-UA-DLS"
         ],
         "xaxis": "x6",
         "y": [
          0,
          0,
          0,
          0,
          0
         ],
         "yaxis": "y6"
        },
        {
         "alignmentgroup": "True",
         "hovertemplate": "Legend=CG Extension T&D<br> =Rest Central America<br>=%{x}<br>Added Capacity [GW]=%{y}<extra></extra>",
         "legendgroup": "CG Extension T&D",
         "marker": {
          "color": "#636EFA",
          "pattern": {
           "shape": ""
          }
         },
         "name": "CG Extension T&D",
         "offsetgroup": "CG Extension T&D",
         "orientation": "v",
         "showlegend": false,
         "textposition": "auto",
         "type": "bar",
         "x": [
          "SSP2-2C-UA",
          "SSP2-2C-UA-DLS",
          "SSP2-BL",
          "SSP2-UA",
          "SSP2-UA-DLS"
         ],
         "xaxis": "x",
         "y": [
          0,
          0,
          0,
          0,
          0
         ],
         "yaxis": "y"
        },
        {
         "alignmentgroup": "True",
         "hovertemplate": "Legend=CG Extension T&D<br> =Rest South America<br>=%{x}<br>Added Capacity [GW]=%{y}<extra></extra>",
         "legendgroup": "CG Extension T&D",
         "marker": {
          "color": "#636EFA",
          "pattern": {
           "shape": ""
          }
         },
         "name": "CG Extension T&D",
         "offsetgroup": "CG Extension T&D",
         "orientation": "v",
         "showlegend": false,
         "textposition": "auto",
         "type": "bar",
         "x": [
          "SSP2-UA-DLS",
          "SSP2-UA",
          "SSP2-2C-UA",
          "SSP2-2C-UA-DLS",
          "SSP2-BL"
         ],
         "xaxis": "x2",
         "y": [
          0,
          0,
          0,
          0,
          0
         ],
         "yaxis": "y2"
        },
        {
         "alignmentgroup": "True",
         "hovertemplate": "Legend=CG Extension T&D<br> =Mexico<br>=%{x}<br>Added Capacity [GW]=%{y}<extra></extra>",
         "legendgroup": "CG Extension T&D",
         "marker": {
          "color": "#636EFA",
          "pattern": {
           "shape": ""
          }
         },
         "name": "CG Extension T&D",
         "offsetgroup": "CG Extension T&D",
         "orientation": "v",
         "showlegend": false,
         "textposition": "auto",
         "type": "bar",
         "x": [
          "SSP2-2C-UA",
          "SSP2-BL",
          "SSP2-UA",
          "SSP2-UA-DLS",
          "SSP2-2C-UA-DLS"
         ],
         "xaxis": "x3",
         "y": [
          0,
          0,
          0,
          0,
          0
         ],
         "yaxis": "y3"
        },
        {
         "alignmentgroup": "True",
         "hovertemplate": "Legend=Off-Grid<br> =Western Africa<br>=%{x}<br>Added Capacity [GW]=%{y}<extra></extra>",
         "legendgroup": "Off-Grid",
         "marker": {
          "color": "green",
          "pattern": {
           "shape": ""
          }
         },
         "name": "Off-Grid",
         "offsetgroup": "Off-Grid",
         "orientation": "v",
         "showlegend": true,
         "textposition": "auto",
         "type": "bar",
         "x": [
          "SSP2-2C-UA-DLS",
          "SSP2-UA-DLS",
          "SSP2-2C-UA",
          "SSP2-UA",
          "SSP2-BL"
         ],
         "xaxis": "x10",
         "y": [
          44.56558667259,
          42.50349173959,
          15.928844790524,
          15.590633167582002,
          0.71033196758
         ],
         "yaxis": "y10"
        },
        {
         "alignmentgroup": "True",
         "hovertemplate": "Legend=Off-Grid<br> =Eastern Africa<br>=%{x}<br>Added Capacity [GW]=%{y}<extra></extra>",
         "legendgroup": "Off-Grid",
         "marker": {
          "color": "green",
          "pattern": {
           "shape": ""
          }
         },
         "name": "Off-Grid",
         "offsetgroup": "Off-Grid",
         "orientation": "v",
         "showlegend": false,
         "textposition": "auto",
         "type": "bar",
         "x": [
          "SSP2-2C-UA-DLS",
          "SSP2-UA-DLS",
          "SSP2-2C-UA",
          "SSP2-UA",
          "SSP2-BL"
         ],
         "xaxis": "x11",
         "y": [
          33.551084793809004,
          32.994576632091,
          7.786314479672,
          7.68624470721,
          3.422288942101
         ],
         "yaxis": "y11"
        },
        {
         "alignmentgroup": "True",
         "hovertemplate": "Legend=Off-Grid<br> =Rest South Africa<br>=%{x}<br>Added Capacity [GW]=%{y}<extra></extra>",
         "legendgroup": "Off-Grid",
         "marker": {
          "color": "green",
          "pattern": {
           "shape": ""
          }
         },
         "name": "Off-Grid",
         "offsetgroup": "Off-Grid",
         "orientation": "v",
         "showlegend": false,
         "textposition": "auto",
         "type": "bar",
         "x": [
          "SSP2-2C-UA-DLS",
          "SSP2-UA-DLS",
          "SSP2-2C-UA",
          "SSP2-UA",
          "SSP2-BL"
         ],
         "xaxis": "x12",
         "y": [
          12.711979873259999,
          12.35199065526,
          5.224931062642,
          5.212010739554,
          0.18152112433
         ],
         "yaxis": "y12"
        },
        {
         "alignmentgroup": "True",
         "hovertemplate": "Legend=Off-Grid<br> =South Africa<br>=%{x}<br>Added Capacity [GW]=%{y}<extra></extra>",
         "legendgroup": "Off-Grid",
         "marker": {
          "color": "green",
          "pattern": {
           "shape": ""
          }
         },
         "name": "Off-Grid",
         "offsetgroup": "Off-Grid",
         "orientation": "v",
         "showlegend": false,
         "textposition": "auto",
         "type": "bar",
         "x": [
          "SSP2-2C-UA",
          "SSP2-UA",
          "SSP2-UA-DLS",
          "SSP2-2C-UA-DLS",
          "SSP2-BL"
         ],
         "xaxis": "x7",
         "y": [
          0.5308291808510001,
          0.5119110171569999,
          0.428651898324,
          0.424892012384,
          5.27754e-7
         ],
         "yaxis": "y7"
        },
        {
         "alignmentgroup": "True",
         "hovertemplate": "Legend=Off-Grid<br> =Rest South Asia<br>=%{x}<br>Added Capacity [GW]=%{y}<extra></extra>",
         "legendgroup": "Off-Grid",
         "marker": {
          "color": "green",
          "pattern": {
           "shape": ""
          }
         },
         "name": "Off-Grid",
         "offsetgroup": "Off-Grid",
         "orientation": "v",
         "showlegend": false,
         "textposition": "auto",
         "type": "bar",
         "x": [
          "SSP2-2C-UA-DLS",
          "SSP2-UA-DLS",
          "SSP2-2C-UA",
          "SSP2-UA",
          "SSP2-BL"
         ],
         "xaxis": "x8",
         "y": [
          8.7846381078,
          8.207897715200001,
          4.24987637902,
          3.966815683511,
          2.0211751162800002
         ],
         "yaxis": "y8"
        },
        {
         "alignmentgroup": "True",
         "hovertemplate": "Legend=Off-Grid<br> =Southeastern Asia<br>=%{x}<br>Added Capacity [GW]=%{y}<extra></extra>",
         "legendgroup": "Off-Grid",
         "marker": {
          "color": "green",
          "pattern": {
           "shape": ""
          }
         },
         "name": "Off-Grid",
         "offsetgroup": "Off-Grid",
         "orientation": "v",
         "showlegend": false,
         "textposition": "auto",
         "type": "bar",
         "x": [
          "SSP2-2C-UA-DLS",
          "SSP2-UA-DLS",
          "SSP2-2C-UA",
          "SSP2-UA",
          "SSP2-BL"
         ],
         "xaxis": "x9",
         "y": [
          9.832808554414,
          9.613130477014,
          7.191801323995,
          7.132797091358999,
          2.264669192121
         ],
         "yaxis": "y9"
        },
        {
         "alignmentgroup": "True",
         "hovertemplate": "Legend=Off-Grid<br> =India<br>=%{x}<br>Added Capacity [GW]=%{y}<extra></extra>",
         "legendgroup": "Off-Grid",
         "marker": {
          "color": "green",
          "pattern": {
           "shape": ""
          }
         },
         "name": "Off-Grid",
         "offsetgroup": "Off-Grid",
         "orientation": "v",
         "showlegend": false,
         "textposition": "auto",
         "type": "bar",
         "x": [
          "SSP2-2C-UA-DLS",
          "SSP2-UA-DLS",
          "SSP2-2C-UA",
          "SSP2-UA",
          "SSP2-BL"
         ],
         "xaxis": "x4",
         "y": [
          2.16104542928,
          2.0523173699879997,
          1.3198341220490002,
          1.2512828353499998,
          0.93420673115
         ],
         "yaxis": "y4"
        },
        {
         "alignmentgroup": "True",
         "hovertemplate": "Legend=Off-Grid<br> =Indonesia +<br>=%{x}<br>Added Capacity [GW]=%{y}<extra></extra>",
         "legendgroup": "Off-Grid",
         "marker": {
          "color": "green",
          "pattern": {
           "shape": ""
          }
         },
         "name": "Off-Grid",
         "offsetgroup": "Off-Grid",
         "orientation": "v",
         "showlegend": false,
         "textposition": "auto",
         "type": "bar",
         "x": [
          "SSP2-2C-UA-DLS",
          "SSP2-UA-DLS",
          "SSP2-2C-UA",
          "SSP2-UA",
          "SSP2-BL"
         ],
         "xaxis": "x5",
         "y": [
          9.418197472110002,
          8.690081751191,
          6.65703383664,
          5.889892140910001,
          4.759284823740001
         ],
         "yaxis": "y5"
        },
        {
         "alignmentgroup": "True",
         "hovertemplate": "Legend=Off-Grid<br> =Oceania<br>=%{x}<br>Added Capacity [GW]=%{y}<extra></extra>",
         "legendgroup": "Off-Grid",
         "marker": {
          "color": "green",
          "pattern": {
           "shape": ""
          }
         },
         "name": "Off-Grid",
         "offsetgroup": "Off-Grid",
         "orientation": "v",
         "showlegend": false,
         "textposition": "auto",
         "type": "bar",
         "x": [
          "SSP2-UA",
          "SSP2-2C-UA",
          "SSP2-UA-DLS",
          "SSP2-2C-UA-DLS"
         ],
         "xaxis": "x6",
         "y": [
          0.39610152406900007,
          0.39610152406900007,
          0.396023953599,
          0.396023953599
         ],
         "yaxis": "y6"
        },
        {
         "alignmentgroup": "True",
         "hovertemplate": "Legend=Off-Grid<br> =Rest Central America<br>=%{x}<br>Added Capacity [GW]=%{y}<extra></extra>",
         "legendgroup": "Off-Grid",
         "marker": {
          "color": "green",
          "pattern": {
           "shape": ""
          }
         },
         "name": "Off-Grid",
         "offsetgroup": "Off-Grid",
         "orientation": "v",
         "showlegend": false,
         "textposition": "auto",
         "type": "bar",
         "x": [
          "SSP2-2C-UA-DLS",
          "SSP2-UA-DLS",
          "SSP2-2C-UA",
          "SSP2-UA",
          "SSP2-BL"
         ],
         "xaxis": "x",
         "y": [
          3.5992359037290003,
          3.4858125270289997,
          2.6729617353969997,
          2.590971590489,
          0.412494369627
         ],
         "yaxis": "y"
        },
        {
         "alignmentgroup": "True",
         "hovertemplate": "Legend=Off-Grid<br> =Rest South America<br>=%{x}<br>Added Capacity [GW]=%{y}<extra></extra>",
         "legendgroup": "Off-Grid",
         "marker": {
          "color": "green",
          "pattern": {
           "shape": ""
          }
         },
         "name": "Off-Grid",
         "offsetgroup": "Off-Grid",
         "orientation": "v",
         "showlegend": false,
         "textposition": "auto",
         "type": "bar",
         "x": [
          "SSP2-2C-UA-DLS",
          "SSP2-UA-DLS",
          "SSP2-2C-UA",
          "SSP2-UA",
          "SSP2-BL"
         ],
         "xaxis": "x2",
         "y": [
          0.39615642633,
          0.37304776709000004,
          0.35433717213,
          0.33747021988500003,
          0.000084040032
         ],
         "yaxis": "y2"
        },
        {
         "alignmentgroup": "True",
         "hovertemplate": "Legend=Off-Grid<br> =Mexico<br>=%{x}<br>Added Capacity [GW]=%{y}<extra></extra>",
         "legendgroup": "Off-Grid",
         "marker": {
          "color": "green",
          "pattern": {
           "shape": ""
          }
         },
         "name": "Off-Grid",
         "offsetgroup": "Off-Grid",
         "orientation": "v",
         "showlegend": false,
         "textposition": "auto",
         "type": "bar",
         "x": [
          "SSP2-2C-UA",
          "SSP2-2C-UA-DLS",
          "SSP2-UA",
          "SSP2-UA-DLS",
          "SSP2-BL"
         ],
         "xaxis": "x3",
         "y": [
          1.0625293105640001,
          1.042380212821,
          0.996910660354,
          0.9754647380560001,
          0.36507027852
         ],
         "yaxis": "y3"
        }
       ],
       "layout": {
        "annotations": [
         {
          "font": {},
          "showarrow": false,
          "text": "Rest Central America",
          "x": 0.14666666666666667,
          "xanchor": "center",
          "xref": "paper",
          "y": 0.175,
          "yanchor": "bottom",
          "yref": "paper"
         },
         {
          "font": {},
          "showarrow": false,
          "text": "Rest South America",
          "x": 0.5,
          "xanchor": "center",
          "xref": "paper",
          "y": 0.175,
          "yanchor": "bottom",
          "yref": "paper"
         },
         {
          "font": {},
          "showarrow": false,
          "text": "Mexico",
          "x": 0.8533333333333333,
          "xanchor": "center",
          "xref": "paper",
          "y": 0.175,
          "yanchor": "bottom",
          "yref": "paper"
         },
         {
          "font": {},
          "showarrow": false,
          "text": "India",
          "x": 0.14666666666666667,
          "xanchor": "center",
          "xref": "paper",
          "y": 0.45,
          "yanchor": "bottom",
          "yref": "paper"
         },
         {
          "font": {},
          "showarrow": false,
          "text": "Indonesia +",
          "x": 0.5,
          "xanchor": "center",
          "xref": "paper",
          "y": 0.45,
          "yanchor": "bottom",
          "yref": "paper"
         },
         {
          "font": {},
          "showarrow": false,
          "text": "Oceania",
          "x": 0.8533333333333333,
          "xanchor": "center",
          "xref": "paper",
          "y": 0.45,
          "yanchor": "bottom",
          "yref": "paper"
         },
         {
          "font": {},
          "showarrow": false,
          "text": "South Africa",
          "x": 0.14666666666666667,
          "xanchor": "center",
          "xref": "paper",
          "y": 0.7250000000000001,
          "yanchor": "bottom",
          "yref": "paper"
         },
         {
          "font": {},
          "showarrow": false,
          "text": "Rest South Asia",
          "x": 0.5,
          "xanchor": "center",
          "xref": "paper",
          "y": 0.7250000000000001,
          "yanchor": "bottom",
          "yref": "paper"
         },
         {
          "font": {},
          "showarrow": false,
          "text": "Southeastern Asia",
          "x": 0.8533333333333333,
          "xanchor": "center",
          "xref": "paper",
          "y": 0.7250000000000001,
          "yanchor": "bottom",
          "yref": "paper"
         },
         {
          "font": {},
          "showarrow": false,
          "text": "Western Africa",
          "x": 0.14666666666666667,
          "xanchor": "center",
          "xref": "paper",
          "y": 1,
          "yanchor": "bottom",
          "yref": "paper"
         },
         {
          "font": {},
          "showarrow": false,
          "text": "Eastern Africa",
          "x": 0.5,
          "xanchor": "center",
          "xref": "paper",
          "y": 1,
          "yanchor": "bottom",
          "yref": "paper"
         },
         {
          "font": {},
          "showarrow": false,
          "text": "Rest South Africa",
          "x": 0.8533333333333333,
          "xanchor": "center",
          "xref": "paper",
          "y": 1,
          "yanchor": "bottom",
          "yref": "paper"
         }
        ],
        "barmode": "relative",
        "font": {
         "size": 13
        },
        "height": 1000,
        "legend": {
         "orientation": "h",
         "title": {
          "text": "Legend"
         },
         "tracegroupgap": 0,
         "xanchor": "left",
         "yanchor": "top"
        },
        "margin": {
         "t": 60
        },
        "paper_bgcolor": "white",
        "plot_bgcolor": "rgba(0,0,0,0)",
        "template": {
         "data": {
          "bar": [
           {
            "error_x": {
             "color": "#2a3f5f"
            },
            "error_y": {
             "color": "#2a3f5f"
            },
            "marker": {
             "line": {
              "color": "#E5ECF6",
              "width": 0.5
             },
             "pattern": {
              "fillmode": "overlay",
              "size": 10,
              "solidity": 0.2
             }
            },
            "type": "bar"
           }
          ],
          "barpolar": [
           {
            "marker": {
             "line": {
              "color": "#E5ECF6",
              "width": 0.5
             },
             "pattern": {
              "fillmode": "overlay",
              "size": 10,
              "solidity": 0.2
             }
            },
            "type": "barpolar"
           }
          ],
          "carpet": [
           {
            "aaxis": {
             "endlinecolor": "#2a3f5f",
             "gridcolor": "white",
             "linecolor": "white",
             "minorgridcolor": "white",
             "startlinecolor": "#2a3f5f"
            },
            "baxis": {
             "endlinecolor": "#2a3f5f",
             "gridcolor": "white",
             "linecolor": "white",
             "minorgridcolor": "white",
             "startlinecolor": "#2a3f5f"
            },
            "type": "carpet"
           }
          ],
          "choropleth": [
           {
            "colorbar": {
             "outlinewidth": 0,
             "ticks": ""
            },
            "type": "choropleth"
           }
          ],
          "contour": [
           {
            "colorbar": {
             "outlinewidth": 0,
             "ticks": ""
            },
            "colorscale": [
             [
              0,
              "#0d0887"
             ],
             [
              0.1111111111111111,
              "#46039f"
             ],
             [
              0.2222222222222222,
              "#7201a8"
             ],
             [
              0.3333333333333333,
              "#9c179e"
             ],
             [
              0.4444444444444444,
              "#bd3786"
             ],
             [
              0.5555555555555556,
              "#d8576b"
             ],
             [
              0.6666666666666666,
              "#ed7953"
             ],
             [
              0.7777777777777778,
              "#fb9f3a"
             ],
             [
              0.8888888888888888,
              "#fdca26"
             ],
             [
              1,
              "#f0f921"
             ]
            ],
            "type": "contour"
           }
          ],
          "contourcarpet": [
           {
            "colorbar": {
             "outlinewidth": 0,
             "ticks": ""
            },
            "type": "contourcarpet"
           }
          ],
          "heatmap": [
           {
            "colorbar": {
             "outlinewidth": 0,
             "ticks": ""
            },
            "colorscale": [
             [
              0,
              "#0d0887"
             ],
             [
              0.1111111111111111,
              "#46039f"
             ],
             [
              0.2222222222222222,
              "#7201a8"
             ],
             [
              0.3333333333333333,
              "#9c179e"
             ],
             [
              0.4444444444444444,
              "#bd3786"
             ],
             [
              0.5555555555555556,
              "#d8576b"
             ],
             [
              0.6666666666666666,
              "#ed7953"
             ],
             [
              0.7777777777777778,
              "#fb9f3a"
             ],
             [
              0.8888888888888888,
              "#fdca26"
             ],
             [
              1,
              "#f0f921"
             ]
            ],
            "type": "heatmap"
           }
          ],
          "heatmapgl": [
           {
            "colorbar": {
             "outlinewidth": 0,
             "ticks": ""
            },
            "colorscale": [
             [
              0,
              "#0d0887"
             ],
             [
              0.1111111111111111,
              "#46039f"
             ],
             [
              0.2222222222222222,
              "#7201a8"
             ],
             [
              0.3333333333333333,
              "#9c179e"
             ],
             [
              0.4444444444444444,
              "#bd3786"
             ],
             [
              0.5555555555555556,
              "#d8576b"
             ],
             [
              0.6666666666666666,
              "#ed7953"
             ],
             [
              0.7777777777777778,
              "#fb9f3a"
             ],
             [
              0.8888888888888888,
              "#fdca26"
             ],
             [
              1,
              "#f0f921"
             ]
            ],
            "type": "heatmapgl"
           }
          ],
          "histogram": [
           {
            "marker": {
             "pattern": {
              "fillmode": "overlay",
              "size": 10,
              "solidity": 0.2
             }
            },
            "type": "histogram"
           }
          ],
          "histogram2d": [
           {
            "colorbar": {
             "outlinewidth": 0,
             "ticks": ""
            },
            "colorscale": [
             [
              0,
              "#0d0887"
             ],
             [
              0.1111111111111111,
              "#46039f"
             ],
             [
              0.2222222222222222,
              "#7201a8"
             ],
             [
              0.3333333333333333,
              "#9c179e"
             ],
             [
              0.4444444444444444,
              "#bd3786"
             ],
             [
              0.5555555555555556,
              "#d8576b"
             ],
             [
              0.6666666666666666,
              "#ed7953"
             ],
             [
              0.7777777777777778,
              "#fb9f3a"
             ],
             [
              0.8888888888888888,
              "#fdca26"
             ],
             [
              1,
              "#f0f921"
             ]
            ],
            "type": "histogram2d"
           }
          ],
          "histogram2dcontour": [
           {
            "colorbar": {
             "outlinewidth": 0,
             "ticks": ""
            },
            "colorscale": [
             [
              0,
              "#0d0887"
             ],
             [
              0.1111111111111111,
              "#46039f"
             ],
             [
              0.2222222222222222,
              "#7201a8"
             ],
             [
              0.3333333333333333,
              "#9c179e"
             ],
             [
              0.4444444444444444,
              "#bd3786"
             ],
             [
              0.5555555555555556,
              "#d8576b"
             ],
             [
              0.6666666666666666,
              "#ed7953"
             ],
             [
              0.7777777777777778,
              "#fb9f3a"
             ],
             [
              0.8888888888888888,
              "#fdca26"
             ],
             [
              1,
              "#f0f921"
             ]
            ],
            "type": "histogram2dcontour"
           }
          ],
          "mesh3d": [
           {
            "colorbar": {
             "outlinewidth": 0,
             "ticks": ""
            },
            "type": "mesh3d"
           }
          ],
          "parcoords": [
           {
            "line": {
             "colorbar": {
              "outlinewidth": 0,
              "ticks": ""
             }
            },
            "type": "parcoords"
           }
          ],
          "pie": [
           {
            "automargin": true,
            "type": "pie"
           }
          ],
          "scatter": [
           {
            "fillpattern": {
             "fillmode": "overlay",
             "size": 10,
             "solidity": 0.2
            },
            "type": "scatter"
           }
          ],
          "scatter3d": [
           {
            "line": {
             "colorbar": {
              "outlinewidth": 0,
              "ticks": ""
             }
            },
            "marker": {
             "colorbar": {
              "outlinewidth": 0,
              "ticks": ""
             }
            },
            "type": "scatter3d"
           }
          ],
          "scattercarpet": [
           {
            "marker": {
             "colorbar": {
              "outlinewidth": 0,
              "ticks": ""
             }
            },
            "type": "scattercarpet"
           }
          ],
          "scattergeo": [
           {
            "marker": {
             "colorbar": {
              "outlinewidth": 0,
              "ticks": ""
             }
            },
            "type": "scattergeo"
           }
          ],
          "scattergl": [
           {
            "marker": {
             "colorbar": {
              "outlinewidth": 0,
              "ticks": ""
             }
            },
            "type": "scattergl"
           }
          ],
          "scattermapbox": [
           {
            "marker": {
             "colorbar": {
              "outlinewidth": 0,
              "ticks": ""
             }
            },
            "type": "scattermapbox"
           }
          ],
          "scatterpolar": [
           {
            "marker": {
             "colorbar": {
              "outlinewidth": 0,
              "ticks": ""
             }
            },
            "type": "scatterpolar"
           }
          ],
          "scatterpolargl": [
           {
            "marker": {
             "colorbar": {
              "outlinewidth": 0,
              "ticks": ""
             }
            },
            "type": "scatterpolargl"
           }
          ],
          "scatterternary": [
           {
            "marker": {
             "colorbar": {
              "outlinewidth": 0,
              "ticks": ""
             }
            },
            "type": "scatterternary"
           }
          ],
          "surface": [
           {
            "colorbar": {
             "outlinewidth": 0,
             "ticks": ""
            },
            "colorscale": [
             [
              0,
              "#0d0887"
             ],
             [
              0.1111111111111111,
              "#46039f"
             ],
             [
              0.2222222222222222,
              "#7201a8"
             ],
             [
              0.3333333333333333,
              "#9c179e"
             ],
             [
              0.4444444444444444,
              "#bd3786"
             ],
             [
              0.5555555555555556,
              "#d8576b"
             ],
             [
              0.6666666666666666,
              "#ed7953"
             ],
             [
              0.7777777777777778,
              "#fb9f3a"
             ],
             [
              0.8888888888888888,
              "#fdca26"
             ],
             [
              1,
              "#f0f921"
             ]
            ],
            "type": "surface"
           }
          ],
          "table": [
           {
            "cells": {
             "fill": {
              "color": "#EBF0F8"
             },
             "line": {
              "color": "white"
             }
            },
            "header": {
             "fill": {
              "color": "#C8D4E3"
             },
             "line": {
              "color": "white"
             }
            },
            "type": "table"
           }
          ]
         },
         "layout": {
          "annotationdefaults": {
           "arrowcolor": "#2a3f5f",
           "arrowhead": 0,
           "arrowwidth": 1
          },
          "autotypenumbers": "strict",
          "coloraxis": {
           "colorbar": {
            "outlinewidth": 0,
            "ticks": ""
           }
          },
          "colorscale": {
           "diverging": [
            [
             0,
             "#8e0152"
            ],
            [
             0.1,
             "#c51b7d"
            ],
            [
             0.2,
             "#de77ae"
            ],
            [
             0.3,
             "#f1b6da"
            ],
            [
             0.4,
             "#fde0ef"
            ],
            [
             0.5,
             "#f7f7f7"
            ],
            [
             0.6,
             "#e6f5d0"
            ],
            [
             0.7,
             "#b8e186"
            ],
            [
             0.8,
             "#7fbc41"
            ],
            [
             0.9,
             "#4d9221"
            ],
            [
             1,
             "#276419"
            ]
           ],
           "sequential": [
            [
             0,
             "#0d0887"
            ],
            [
             0.1111111111111111,
             "#46039f"
            ],
            [
             0.2222222222222222,
             "#7201a8"
            ],
            [
             0.3333333333333333,
             "#9c179e"
            ],
            [
             0.4444444444444444,
             "#bd3786"
            ],
            [
             0.5555555555555556,
             "#d8576b"
            ],
            [
             0.6666666666666666,
             "#ed7953"
            ],
            [
             0.7777777777777778,
             "#fb9f3a"
            ],
            [
             0.8888888888888888,
             "#fdca26"
            ],
            [
             1,
             "#f0f921"
            ]
           ],
           "sequentialminus": [
            [
             0,
             "#0d0887"
            ],
            [
             0.1111111111111111,
             "#46039f"
            ],
            [
             0.2222222222222222,
             "#7201a8"
            ],
            [
             0.3333333333333333,
             "#9c179e"
            ],
            [
             0.4444444444444444,
             "#bd3786"
            ],
            [
             0.5555555555555556,
             "#d8576b"
            ],
            [
             0.6666666666666666,
             "#ed7953"
            ],
            [
             0.7777777777777778,
             "#fb9f3a"
            ],
            [
             0.8888888888888888,
             "#fdca26"
            ],
            [
             1,
             "#f0f921"
            ]
           ]
          },
          "colorway": [
           "#636efa",
           "#EF553B",
           "#00cc96",
           "#ab63fa",
           "#FFA15A",
           "#19d3f3",
           "#FF6692",
           "#B6E880",
           "#FF97FF",
           "#FECB52"
          ],
          "font": {
           "color": "#2a3f5f"
          },
          "geo": {
           "bgcolor": "white",
           "lakecolor": "white",
           "landcolor": "#E5ECF6",
           "showlakes": true,
           "showland": true,
           "subunitcolor": "white"
          },
          "hoverlabel": {
           "align": "left"
          },
          "hovermode": "closest",
          "mapbox": {
           "style": "light"
          },
          "paper_bgcolor": "white",
          "plot_bgcolor": "#E5ECF6",
          "polar": {
           "angularaxis": {
            "gridcolor": "white",
            "linecolor": "white",
            "ticks": ""
           },
           "bgcolor": "#E5ECF6",
           "radialaxis": {
            "gridcolor": "white",
            "linecolor": "white",
            "ticks": ""
           }
          },
          "scene": {
           "xaxis": {
            "backgroundcolor": "#E5ECF6",
            "gridcolor": "white",
            "gridwidth": 2,
            "linecolor": "white",
            "showbackground": true,
            "ticks": "",
            "zerolinecolor": "white"
           },
           "yaxis": {
            "backgroundcolor": "#E5ECF6",
            "gridcolor": "white",
            "gridwidth": 2,
            "linecolor": "white",
            "showbackground": true,
            "ticks": "",
            "zerolinecolor": "white"
           },
           "zaxis": {
            "backgroundcolor": "#E5ECF6",
            "gridcolor": "white",
            "gridwidth": 2,
            "linecolor": "white",
            "showbackground": true,
            "ticks": "",
            "zerolinecolor": "white"
           }
          },
          "shapedefaults": {
           "line": {
            "color": "#2a3f5f"
           }
          },
          "ternary": {
           "aaxis": {
            "gridcolor": "white",
            "linecolor": "white",
            "ticks": ""
           },
           "baxis": {
            "gridcolor": "white",
            "linecolor": "white",
            "ticks": ""
           },
           "bgcolor": "#E5ECF6",
           "caxis": {
            "gridcolor": "white",
            "linecolor": "white",
            "ticks": ""
           }
          },
          "title": {
           "x": 0.05
          },
          "xaxis": {
           "automargin": true,
           "gridcolor": "white",
           "linecolor": "white",
           "ticks": "",
           "title": {
            "standoff": 15
           },
           "zerolinecolor": "white",
           "zerolinewidth": 2
          },
          "yaxis": {
           "automargin": true,
           "gridcolor": "white",
           "linecolor": "white",
           "ticks": "",
           "title": {
            "standoff": 15
           },
           "zerolinecolor": "white",
           "zerolinewidth": 2
          }
         }
        },
        "width": 800,
        "xaxis": {
         "anchor": "y",
         "categoryarray": [
          "SSP2-BL",
          "SSP2-UA",
          "SSP2-2C-UA",
          "SSP2-UA-DLS",
          "SSP2-2C-UA-DLS"
         ],
         "categoryorder": "array",
         "domain": [
          0,
          0.29333333333333333
         ],
         "showticklabels": true,
         "tickfont": {
          "size": 11.5
         },
         "title": {
          "text": ""
         }
        },
        "xaxis10": {
         "anchor": "y10",
         "domain": [
          0,
          0.29333333333333333
         ],
         "matches": "x",
         "showticklabels": true,
         "tickfont": {
          "size": 11.5
         }
        },
        "xaxis11": {
         "anchor": "y11",
         "domain": [
          0.35333333333333333,
          0.6466666666666667
         ],
         "matches": "x",
         "showticklabels": true,
         "tickfont": {
          "size": 11.5
         }
        },
        "xaxis12": {
         "anchor": "y12",
         "domain": [
          0.7066666666666667,
          1
         ],
         "matches": "x",
         "showticklabels": true,
         "tickfont": {
          "size": 11.5
         }
        },
        "xaxis2": {
         "anchor": "y2",
         "categoryarray": [
          "SSP2-BL",
          "SSP2-UA",
          "SSP2-2C-UA",
          "SSP2-UA-DLS",
          "SSP2-2C-UA-DLS"
         ],
         "categoryorder": "array",
         "domain": [
          0.35333333333333333,
          0.6466666666666667
         ],
         "matches": "x",
         "showticklabels": true,
         "tickfont": {
          "size": 11.5
         },
         "title": {
          "text": ""
         }
        },
        "xaxis3": {
         "anchor": "y3",
         "categoryarray": [
          "SSP2-BL",
          "SSP2-UA",
          "SSP2-2C-UA",
          "SSP2-UA-DLS",
          "SSP2-2C-UA-DLS"
         ],
         "categoryorder": "array",
         "domain": [
          0.7066666666666667,
          1
         ],
         "matches": "x",
         "showticklabels": true,
         "tickfont": {
          "size": 11.5
         },
         "title": {
          "text": ""
         }
        },
        "xaxis4": {
         "anchor": "y4",
         "domain": [
          0,
          0.29333333333333333
         ],
         "matches": "x",
         "showticklabels": true,
         "tickfont": {
          "size": 11.5
         }
        },
        "xaxis5": {
         "anchor": "y5",
         "domain": [
          0.35333333333333333,
          0.6466666666666667
         ],
         "matches": "x",
         "showticklabels": true,
         "tickfont": {
          "size": 11.5
         }
        },
        "xaxis6": {
         "anchor": "y6",
         "domain": [
          0.7066666666666667,
          1
         ],
         "matches": "x",
         "showticklabels": true,
         "tickfont": {
          "size": 11.5
         }
        },
        "xaxis7": {
         "anchor": "y7",
         "domain": [
          0,
          0.29333333333333333
         ],
         "matches": "x",
         "showticklabels": true,
         "tickfont": {
          "size": 11.5
         }
        },
        "xaxis8": {
         "anchor": "y8",
         "domain": [
          0.35333333333333333,
          0.6466666666666667
         ],
         "matches": "x",
         "showticklabels": true,
         "tickfont": {
          "size": 11.5
         }
        },
        "xaxis9": {
         "anchor": "y9",
         "domain": [
          0.7066666666666667,
          1
         ],
         "matches": "x",
         "showticklabels": true,
         "tickfont": {
          "size": 11.5
         }
        },
        "yaxis": {
         "anchor": "x",
         "domain": [
          0,
          0.175
         ],
         "showticklabels": true,
         "tickfont": {
          "size": 11.5
         },
         "title": {
          "text": "Added Capacity [GW]"
         }
        },
        "yaxis10": {
         "anchor": "x10",
         "domain": [
          0.825,
          1
         ],
         "showticklabels": true,
         "tickfont": {
          "size": 11.5
         },
         "title": {
          "text": "Added Capacity [GW]"
         }
        },
        "yaxis11": {
         "anchor": "x11",
         "domain": [
          0.825,
          1
         ],
         "showticklabels": true,
         "tickfont": {
          "size": 11.5
         }
        },
        "yaxis12": {
         "anchor": "x12",
         "domain": [
          0.825,
          1
         ],
         "showticklabels": true,
         "tickfont": {
          "size": 11.5
         }
        },
        "yaxis2": {
         "anchor": "x2",
         "domain": [
          0,
          0.175
         ],
         "showticklabels": true,
         "tickfont": {
          "size": 11.5
         }
        },
        "yaxis3": {
         "anchor": "x3",
         "domain": [
          0,
          0.175
         ],
         "showticklabels": true,
         "tickfont": {
          "size": 11.5
         }
        },
        "yaxis4": {
         "anchor": "x4",
         "domain": [
          0.275,
          0.45
         ],
         "showticklabels": true,
         "tickfont": {
          "size": 11.5
         },
         "title": {
          "text": "Added Capacity [GW]"
         }
        },
        "yaxis5": {
         "anchor": "x5",
         "domain": [
          0.275,
          0.45
         ],
         "showticklabels": true,
         "tickfont": {
          "size": 11.5
         }
        },
        "yaxis6": {
         "anchor": "x6",
         "domain": [
          0.275,
          0.45
         ],
         "showticklabels": true,
         "tickfont": {
          "size": 11.5
         }
        },
        "yaxis7": {
         "anchor": "x7",
         "domain": [
          0.55,
          0.7250000000000001
         ],
         "showticklabels": true,
         "tickfont": {
          "size": 11.5
         },
         "title": {
          "text": "Added Capacity [GW]"
         }
        },
        "yaxis8": {
         "anchor": "x8",
         "domain": [
          0.55,
          0.7250000000000001
         ],
         "showticklabels": true,
         "tickfont": {
          "size": 11.5
         }
        },
        "yaxis9": {
         "anchor": "x9",
         "domain": [
          0.55,
          0.7250000000000001
         ],
         "showticklabels": true,
         "tickfont": {
          "size": 11.5
         }
        }
       }
      }
     },
     "metadata": {},
     "output_type": "display_data"
    }
   ],
   "source": [
    "fig = px.bar(df3,x='scenario', y='capacity_GW',  color=\"techid\", facet_col='region', facet_col_wrap=3 , \n",
    "             category_orders={\"scenario\" : [ 'SSP2-BL', 'SSP2-UA', 'SSP2-2C-UA', 'SSP2-UA-DLS' , 'SSP2-2C-UA-DLS'] , \n",
    "                              \"region\": [ 'Western Africa',  'Eastern Africa', 'Rest South Africa', 'South Africa','Rest South Asia', 'Southeastern Asia', 'India','Indonesia +', 'Oceania' ,      'Rest Central America', 'Rest South America','Mexico'],\n",
    "                              \"techid\" : ['CG Extension T&D', 'Off-Grid']},\n",
    "                              color_discrete_sequence=['#636EFA', 'green'],\n",
    "             labels = {\"techid\" : \"Legend\" , 'capacity_GW': 'Added Capacity [GW]', 'region': ' ',  'scenario' : ''},\n",
    "             facet_row_spacing=0.1, facet_col_spacing=0.06) #'already access',#category_orders={\"region\": [ 8.0, 9.0,10,26]} )\n",
    "\n",
    "fig.for_each_annotation(lambda a: a.update(text=a.text.split(\"=\")[-1]))\n",
    "#fig.for_each_yaxis(lambda yaxis: yaxis.update(showticklabels=True)) \n",
    "fig.update_layout(font = dict(size = 13), height = 1000, width = 800,  paper_bgcolor = \"white\", plot_bgcolor = \"rgba(0,0,0,0)\", legend=dict(orientation=\"h\", yanchor=\"top\", xanchor=\"left\", )) #, legend=dict(orientation=\"h\", yanchor=\"bottom\", xanchor=\"left\", ))\n",
    "fig.update_xaxes( showticklabels=True, tickfont =dict(size = 11.5))\n",
    "fig.update_yaxes( matches=None, showticklabels=True, tickfont =dict(size = 11.5)) "
   ]
  },
  {
   "cell_type": "code",
   "execution_count": 40,
   "metadata": {},
   "outputs": [
    {
     "data": {
      "application/vnd.plotly.v1+json": {
       "config": {
        "plotlyServerURL": "https://plot.ly"
       },
       "data": [
        {
         "alignmentgroup": "True",
         "hovertemplate": "=%{x}<br>Off grid added Capacity [GW]=%{y}<extra></extra>",
         "legendgroup": "MG-wind",
         "marker": {
          "color": "#00CC96",
          "pattern": {
           "shape": ""
          }
         },
         "name": "MG-wind",
         "offsetgroup": "MG-wind",
         "orientation": "v",
         "showlegend": true,
         "textposition": "auto",
         "type": "bar",
         "x": [
          "SSP2-2C-UA",
          "SSP2-2C-UA-DLS",
          "SSP2-BL",
          "SSP2-UA",
          "SSP2-UA-DLS"
         ],
         "xaxis": "x",
         "y": [
          1.866111052,
          6.899388822,
          1.033032117,
          1.777432288,
          6.7313898739999996
         ],
         "yaxis": "y"
        },
        {
         "alignmentgroup": "True",
         "hovertemplate": "=%{x}<br>Off grid added Capacity [GW]=%{y}<extra></extra>",
         "legendgroup": "MG-PV",
         "marker": {
          "color": "rgb(255,237,111)",
          "pattern": {
           "shape": ""
          }
         },
         "name": "MG-PV",
         "offsetgroup": "MG-PV",
         "orientation": "v",
         "showlegend": true,
         "textposition": "auto",
         "type": "bar",
         "x": [
          "SSP2-2C-UA",
          "SSP2-2C-UA-DLS",
          "SSP2-BL",
          "SSP2-UA",
          "SSP2-UA-DLS"
         ],
         "xaxis": "x",
         "y": [
          20.795786752999998,
          66.440828616,
          0.090871533,
          5.467351476,
          35.189522762
         ],
         "yaxis": "y"
        },
        {
         "alignmentgroup": "True",
         "hovertemplate": "=%{x}<br>Off grid added Capacity [GW]=%{y}<extra></extra>",
         "legendgroup": "MG-hydro",
         "marker": {
          "color": "#19D3F3",
          "pattern": {
           "shape": ""
          }
         },
         "name": "MG-hydro",
         "offsetgroup": "MG-hydro",
         "orientation": "v",
         "showlegend": true,
         "textposition": "auto",
         "type": "bar",
         "x": [
          "SSP2-2C-UA",
          "SSP2-2C-UA-DLS",
          "SSP2-BL",
          "SSP2-UA",
          "SSP2-UA-DLS"
         ],
         "xaxis": "x",
         "y": [
          7.988907538,
          21.899075057,
          2.9301732990000002,
          7.244301345999999,
          20.536120915
         ],
         "yaxis": "y"
        },
        {
         "alignmentgroup": "True",
         "hovertemplate": "=%{x}<br>Off grid added Capacity [GW]=%{y}<extra></extra>",
         "legendgroup": "MG-PV-diesel",
         "marker": {
          "color": "#FF7F0E",
          "pattern": {
           "shape": ""
          }
         },
         "name": "MG-PV-diesel",
         "offsetgroup": "MG-PV-diesel",
         "orientation": "v",
         "showlegend": true,
         "textposition": "auto",
         "type": "bar",
         "x": [
          "SSP2-2C-UA",
          "SSP2-2C-UA-DLS",
          "SSP2-BL",
          "SSP2-UA",
          "SSP2-UA-DLS"
         ],
         "xaxis": "x",
         "y": [
          10.000416805,
          22.711964726,
          7.878555693,
          23.76560509,
          50.241738573
         ],
         "yaxis": "y"
        },
        {
         "alignmentgroup": "True",
         "hovertemplate": "=%{x}<br>Off grid added Capacity [GW]=%{y}<extra></extra>",
         "legendgroup": "MG-wind-diesel",
         "marker": {
          "color": "#BCBD22",
          "pattern": {
           "shape": ""
          }
         },
         "name": "MG-wind-diesel",
         "offsetgroup": "MG-wind-diesel",
         "orientation": "v",
         "showlegend": true,
         "textposition": "auto",
         "type": "bar",
         "x": [
          "SSP2-2C-UA",
          "SSP2-2C-UA-DLS",
          "SSP2-BL",
          "SSP2-UA",
          "SSP2-UA-DLS"
         ],
         "xaxis": "x",
         "y": [
          0.004388945,
          0.09017818899999999,
          0.001053228,
          0.004388945,
          0.16212333
         ],
         "yaxis": "y"
        },
        {
         "alignmentgroup": "True",
         "hovertemplate": "=%{x}<br>Off grid added Capacity [GW]=%{y}<extra></extra>",
         "legendgroup": "MG-diesel",
         "marker": {
          "color": "#7F7F7F",
          "pattern": {
           "shape": ""
          }
         },
         "name": "MG-diesel",
         "offsetgroup": "MG-diesel",
         "orientation": "v",
         "showlegend": true,
         "textposition": "auto",
         "type": "bar",
         "x": [
          "SSP2-2C-UA",
          "SSP2-2C-UA-DLS",
          "SSP2-BL",
          "SSP2-UA",
          "SSP2-UA-DLS"
         ],
         "xaxis": "x",
         "y": [
          3.6477548239999997,
          10.353339841,
          0.078865791,
          3.673763512,
          10.467329735
         ],
         "yaxis": "y"
        },
        {
         "alignmentgroup": "True",
         "hovertemplate": "=%{x}<br>Off grid added Capacity [GW]=%{y}<extra></extra>",
         "legendgroup": "SA-diesel",
         "marker": {
          "color": "brown",
          "pattern": {
           "shape": ""
          }
         },
         "name": "SA-diesel",
         "offsetgroup": "SA-diesel",
         "orientation": "v",
         "showlegend": true,
         "textposition": "auto",
         "type": "bar",
         "x": [
          "SSP2-2C-UA",
          "SSP2-2C-UA-DLS",
          "SSP2-BL",
          "SSP2-UA",
          "SSP2-UA-DLS"
         ],
         "xaxis": "x",
         "y": [
          0.00002373,
          0.000001856,
          0.00000469,
          0.000350869,
          0.000082676
         ],
         "yaxis": "y"
        },
        {
         "alignmentgroup": "True",
         "hovertemplate": "=%{x}<br>Off grid added Capacity [GW]=%{y}<extra></extra>",
         "legendgroup": "SA-PV",
         "marker": {
          "color": "#FECB52",
          "pattern": {
           "shape": ""
          }
         },
         "name": "SA-PV",
         "offsetgroup": "SA-PV",
         "orientation": "v",
         "showlegend": true,
         "textposition": "auto",
         "type": "bar",
         "x": [
          "SSP2-2C-UA",
          "SSP2-2C-UA-DLS",
          "SSP2-BL",
          "SSP2-UA",
          "SSP2-UA-DLS"
         ],
         "xaxis": "x",
         "y": [
          21.337037536,
          10.860827702,
          3.997379508,
          20.450660864,
          9.65834293
         ],
         "yaxis": "y"
        }
       ],
       "layout": {
        "barmode": "relative",
        "font": {
         "size": 15
        },
        "height": 470,
        "legend": {
         "orientation": "h",
         "title": {
          "text": ""
         },
         "tracegroupgap": 0,
         "xanchor": "left",
         "y": -0.3,
         "yanchor": "top"
        },
        "margin": {
         "t": 60
        },
        "paper_bgcolor": "white",
        "plot_bgcolor": "rgba(0,0,0,0)",
        "template": {
         "data": {
          "bar": [
           {
            "error_x": {
             "color": "#2a3f5f"
            },
            "error_y": {
             "color": "#2a3f5f"
            },
            "marker": {
             "line": {
              "color": "#E5ECF6",
              "width": 0.5
             },
             "pattern": {
              "fillmode": "overlay",
              "size": 10,
              "solidity": 0.2
             }
            },
            "type": "bar"
           }
          ],
          "barpolar": [
           {
            "marker": {
             "line": {
              "color": "#E5ECF6",
              "width": 0.5
             },
             "pattern": {
              "fillmode": "overlay",
              "size": 10,
              "solidity": 0.2
             }
            },
            "type": "barpolar"
           }
          ],
          "carpet": [
           {
            "aaxis": {
             "endlinecolor": "#2a3f5f",
             "gridcolor": "white",
             "linecolor": "white",
             "minorgridcolor": "white",
             "startlinecolor": "#2a3f5f"
            },
            "baxis": {
             "endlinecolor": "#2a3f5f",
             "gridcolor": "white",
             "linecolor": "white",
             "minorgridcolor": "white",
             "startlinecolor": "#2a3f5f"
            },
            "type": "carpet"
           }
          ],
          "choropleth": [
           {
            "colorbar": {
             "outlinewidth": 0,
             "ticks": ""
            },
            "type": "choropleth"
           }
          ],
          "contour": [
           {
            "colorbar": {
             "outlinewidth": 0,
             "ticks": ""
            },
            "colorscale": [
             [
              0,
              "#0d0887"
             ],
             [
              0.1111111111111111,
              "#46039f"
             ],
             [
              0.2222222222222222,
              "#7201a8"
             ],
             [
              0.3333333333333333,
              "#9c179e"
             ],
             [
              0.4444444444444444,
              "#bd3786"
             ],
             [
              0.5555555555555556,
              "#d8576b"
             ],
             [
              0.6666666666666666,
              "#ed7953"
             ],
             [
              0.7777777777777778,
              "#fb9f3a"
             ],
             [
              0.8888888888888888,
              "#fdca26"
             ],
             [
              1,
              "#f0f921"
             ]
            ],
            "type": "contour"
           }
          ],
          "contourcarpet": [
           {
            "colorbar": {
             "outlinewidth": 0,
             "ticks": ""
            },
            "type": "contourcarpet"
           }
          ],
          "heatmap": [
           {
            "colorbar": {
             "outlinewidth": 0,
             "ticks": ""
            },
            "colorscale": [
             [
              0,
              "#0d0887"
             ],
             [
              0.1111111111111111,
              "#46039f"
             ],
             [
              0.2222222222222222,
              "#7201a8"
             ],
             [
              0.3333333333333333,
              "#9c179e"
             ],
             [
              0.4444444444444444,
              "#bd3786"
             ],
             [
              0.5555555555555556,
              "#d8576b"
             ],
             [
              0.6666666666666666,
              "#ed7953"
             ],
             [
              0.7777777777777778,
              "#fb9f3a"
             ],
             [
              0.8888888888888888,
              "#fdca26"
             ],
             [
              1,
              "#f0f921"
             ]
            ],
            "type": "heatmap"
           }
          ],
          "heatmapgl": [
           {
            "colorbar": {
             "outlinewidth": 0,
             "ticks": ""
            },
            "colorscale": [
             [
              0,
              "#0d0887"
             ],
             [
              0.1111111111111111,
              "#46039f"
             ],
             [
              0.2222222222222222,
              "#7201a8"
             ],
             [
              0.3333333333333333,
              "#9c179e"
             ],
             [
              0.4444444444444444,
              "#bd3786"
             ],
             [
              0.5555555555555556,
              "#d8576b"
             ],
             [
              0.6666666666666666,
              "#ed7953"
             ],
             [
              0.7777777777777778,
              "#fb9f3a"
             ],
             [
              0.8888888888888888,
              "#fdca26"
             ],
             [
              1,
              "#f0f921"
             ]
            ],
            "type": "heatmapgl"
           }
          ],
          "histogram": [
           {
            "marker": {
             "pattern": {
              "fillmode": "overlay",
              "size": 10,
              "solidity": 0.2
             }
            },
            "type": "histogram"
           }
          ],
          "histogram2d": [
           {
            "colorbar": {
             "outlinewidth": 0,
             "ticks": ""
            },
            "colorscale": [
             [
              0,
              "#0d0887"
             ],
             [
              0.1111111111111111,
              "#46039f"
             ],
             [
              0.2222222222222222,
              "#7201a8"
             ],
             [
              0.3333333333333333,
              "#9c179e"
             ],
             [
              0.4444444444444444,
              "#bd3786"
             ],
             [
              0.5555555555555556,
              "#d8576b"
             ],
             [
              0.6666666666666666,
              "#ed7953"
             ],
             [
              0.7777777777777778,
              "#fb9f3a"
             ],
             [
              0.8888888888888888,
              "#fdca26"
             ],
             [
              1,
              "#f0f921"
             ]
            ],
            "type": "histogram2d"
           }
          ],
          "histogram2dcontour": [
           {
            "colorbar": {
             "outlinewidth": 0,
             "ticks": ""
            },
            "colorscale": [
             [
              0,
              "#0d0887"
             ],
             [
              0.1111111111111111,
              "#46039f"
             ],
             [
              0.2222222222222222,
              "#7201a8"
             ],
             [
              0.3333333333333333,
              "#9c179e"
             ],
             [
              0.4444444444444444,
              "#bd3786"
             ],
             [
              0.5555555555555556,
              "#d8576b"
             ],
             [
              0.6666666666666666,
              "#ed7953"
             ],
             [
              0.7777777777777778,
              "#fb9f3a"
             ],
             [
              0.8888888888888888,
              "#fdca26"
             ],
             [
              1,
              "#f0f921"
             ]
            ],
            "type": "histogram2dcontour"
           }
          ],
          "mesh3d": [
           {
            "colorbar": {
             "outlinewidth": 0,
             "ticks": ""
            },
            "type": "mesh3d"
           }
          ],
          "parcoords": [
           {
            "line": {
             "colorbar": {
              "outlinewidth": 0,
              "ticks": ""
             }
            },
            "type": "parcoords"
           }
          ],
          "pie": [
           {
            "automargin": true,
            "type": "pie"
           }
          ],
          "scatter": [
           {
            "fillpattern": {
             "fillmode": "overlay",
             "size": 10,
             "solidity": 0.2
            },
            "type": "scatter"
           }
          ],
          "scatter3d": [
           {
            "line": {
             "colorbar": {
              "outlinewidth": 0,
              "ticks": ""
             }
            },
            "marker": {
             "colorbar": {
              "outlinewidth": 0,
              "ticks": ""
             }
            },
            "type": "scatter3d"
           }
          ],
          "scattercarpet": [
           {
            "marker": {
             "colorbar": {
              "outlinewidth": 0,
              "ticks": ""
             }
            },
            "type": "scattercarpet"
           }
          ],
          "scattergeo": [
           {
            "marker": {
             "colorbar": {
              "outlinewidth": 0,
              "ticks": ""
             }
            },
            "type": "scattergeo"
           }
          ],
          "scattergl": [
           {
            "marker": {
             "colorbar": {
              "outlinewidth": 0,
              "ticks": ""
             }
            },
            "type": "scattergl"
           }
          ],
          "scattermapbox": [
           {
            "marker": {
             "colorbar": {
              "outlinewidth": 0,
              "ticks": ""
             }
            },
            "type": "scattermapbox"
           }
          ],
          "scatterpolar": [
           {
            "marker": {
             "colorbar": {
              "outlinewidth": 0,
              "ticks": ""
             }
            },
            "type": "scatterpolar"
           }
          ],
          "scatterpolargl": [
           {
            "marker": {
             "colorbar": {
              "outlinewidth": 0,
              "ticks": ""
             }
            },
            "type": "scatterpolargl"
           }
          ],
          "scatterternary": [
           {
            "marker": {
             "colorbar": {
              "outlinewidth": 0,
              "ticks": ""
             }
            },
            "type": "scatterternary"
           }
          ],
          "surface": [
           {
            "colorbar": {
             "outlinewidth": 0,
             "ticks": ""
            },
            "colorscale": [
             [
              0,
              "#0d0887"
             ],
             [
              0.1111111111111111,
              "#46039f"
             ],
             [
              0.2222222222222222,
              "#7201a8"
             ],
             [
              0.3333333333333333,
              "#9c179e"
             ],
             [
              0.4444444444444444,
              "#bd3786"
             ],
             [
              0.5555555555555556,
              "#d8576b"
             ],
             [
              0.6666666666666666,
              "#ed7953"
             ],
             [
              0.7777777777777778,
              "#fb9f3a"
             ],
             [
              0.8888888888888888,
              "#fdca26"
             ],
             [
              1,
              "#f0f921"
             ]
            ],
            "type": "surface"
           }
          ],
          "table": [
           {
            "cells": {
             "fill": {
              "color": "#EBF0F8"
             },
             "line": {
              "color": "white"
             }
            },
            "header": {
             "fill": {
              "color": "#C8D4E3"
             },
             "line": {
              "color": "white"
             }
            },
            "type": "table"
           }
          ]
         },
         "layout": {
          "annotationdefaults": {
           "arrowcolor": "#2a3f5f",
           "arrowhead": 0,
           "arrowwidth": 1
          },
          "autotypenumbers": "strict",
          "coloraxis": {
           "colorbar": {
            "outlinewidth": 0,
            "ticks": ""
           }
          },
          "colorscale": {
           "diverging": [
            [
             0,
             "#8e0152"
            ],
            [
             0.1,
             "#c51b7d"
            ],
            [
             0.2,
             "#de77ae"
            ],
            [
             0.3,
             "#f1b6da"
            ],
            [
             0.4,
             "#fde0ef"
            ],
            [
             0.5,
             "#f7f7f7"
            ],
            [
             0.6,
             "#e6f5d0"
            ],
            [
             0.7,
             "#b8e186"
            ],
            [
             0.8,
             "#7fbc41"
            ],
            [
             0.9,
             "#4d9221"
            ],
            [
             1,
             "#276419"
            ]
           ],
           "sequential": [
            [
             0,
             "#0d0887"
            ],
            [
             0.1111111111111111,
             "#46039f"
            ],
            [
             0.2222222222222222,
             "#7201a8"
            ],
            [
             0.3333333333333333,
             "#9c179e"
            ],
            [
             0.4444444444444444,
             "#bd3786"
            ],
            [
             0.5555555555555556,
             "#d8576b"
            ],
            [
             0.6666666666666666,
             "#ed7953"
            ],
            [
             0.7777777777777778,
             "#fb9f3a"
            ],
            [
             0.8888888888888888,
             "#fdca26"
            ],
            [
             1,
             "#f0f921"
            ]
           ],
           "sequentialminus": [
            [
             0,
             "#0d0887"
            ],
            [
             0.1111111111111111,
             "#46039f"
            ],
            [
             0.2222222222222222,
             "#7201a8"
            ],
            [
             0.3333333333333333,
             "#9c179e"
            ],
            [
             0.4444444444444444,
             "#bd3786"
            ],
            [
             0.5555555555555556,
             "#d8576b"
            ],
            [
             0.6666666666666666,
             "#ed7953"
            ],
            [
             0.7777777777777778,
             "#fb9f3a"
            ],
            [
             0.8888888888888888,
             "#fdca26"
            ],
            [
             1,
             "#f0f921"
            ]
           ]
          },
          "colorway": [
           "#636efa",
           "#EF553B",
           "#00cc96",
           "#ab63fa",
           "#FFA15A",
           "#19d3f3",
           "#FF6692",
           "#B6E880",
           "#FF97FF",
           "#FECB52"
          ],
          "font": {
           "color": "#2a3f5f"
          },
          "geo": {
           "bgcolor": "white",
           "lakecolor": "white",
           "landcolor": "#E5ECF6",
           "showlakes": true,
           "showland": true,
           "subunitcolor": "white"
          },
          "hoverlabel": {
           "align": "left"
          },
          "hovermode": "closest",
          "mapbox": {
           "style": "light"
          },
          "paper_bgcolor": "white",
          "plot_bgcolor": "#E5ECF6",
          "polar": {
           "angularaxis": {
            "gridcolor": "white",
            "linecolor": "white",
            "ticks": ""
           },
           "bgcolor": "#E5ECF6",
           "radialaxis": {
            "gridcolor": "white",
            "linecolor": "white",
            "ticks": ""
           }
          },
          "scene": {
           "xaxis": {
            "backgroundcolor": "#E5ECF6",
            "gridcolor": "white",
            "gridwidth": 2,
            "linecolor": "white",
            "showbackground": true,
            "ticks": "",
            "zerolinecolor": "white"
           },
           "yaxis": {
            "backgroundcolor": "#E5ECF6",
            "gridcolor": "white",
            "gridwidth": 2,
            "linecolor": "white",
            "showbackground": true,
            "ticks": "",
            "zerolinecolor": "white"
           },
           "zaxis": {
            "backgroundcolor": "#E5ECF6",
            "gridcolor": "white",
            "gridwidth": 2,
            "linecolor": "white",
            "showbackground": true,
            "ticks": "",
            "zerolinecolor": "white"
           }
          },
          "shapedefaults": {
           "line": {
            "color": "#2a3f5f"
           }
          },
          "ternary": {
           "aaxis": {
            "gridcolor": "white",
            "linecolor": "white",
            "ticks": ""
           },
           "baxis": {
            "gridcolor": "white",
            "linecolor": "white",
            "ticks": ""
           },
           "bgcolor": "#E5ECF6",
           "caxis": {
            "gridcolor": "white",
            "linecolor": "white",
            "ticks": ""
           }
          },
          "title": {
           "x": 0.05
          },
          "xaxis": {
           "automargin": true,
           "gridcolor": "white",
           "linecolor": "white",
           "ticks": "",
           "title": {
            "standoff": 15
           },
           "zerolinecolor": "white",
           "zerolinewidth": 2
          },
          "yaxis": {
           "automargin": true,
           "gridcolor": "white",
           "linecolor": "white",
           "ticks": "",
           "title": {
            "standoff": 15
           },
           "zerolinecolor": "white",
           "zerolinewidth": 2
          }
         }
        },
        "width": 500,
        "xaxis": {
         "anchor": "y",
         "categoryarray": [
          "SSP2-BL",
          "SSP2-UA",
          "SSP2-2C-UA",
          "SSP2-UA-DLS",
          "SSP2-2C-UA-DLS"
         ],
         "categoryorder": "array",
         "domain": [
          0,
          1
         ],
         "showticklabels": true,
         "tickfont": {
          "size": 15
         },
         "title": {
          "text": ""
         }
        },
        "yaxis": {
         "anchor": "x",
         "domain": [
          0,
          1
         ],
         "dtick": 20,
         "showticklabels": true,
         "tickfont": {
          "size": 15
         },
         "title": {
          "text": "Off grid added Capacity [GW]"
         }
        }
       }
      }
     },
     "metadata": {},
     "output_type": "display_data"
    }
   ],
   "source": [
    "df2 = pd.read_csv('..\\\\output\\\\analysis\\\\capacity_pertech_scenario_world.csv')  #concatanated in excel the dls and non dls scenarios\n",
    "#df2 = df2[df2[\"region\"].isin([4,6, 8.0, 9.0,10,21,22,24,25,26, 18, 3])]\n",
    "#df2 = df2.replace({'region':  {4: 'Rest Central America', 6:'Rest South America', 8:'Western Africa', 9: 'Eastern Africa', 10: 'South Africa', 21: 'Southeastern Asia', 22: 'Indonesia +', 24:'Oceania' , 25:'Rest South Asia', 26:'Rest South Africa', 18: 'India', 3: 'Mexico'}})  #{ 8:'Western Africa', 9: 'Eastern Africa', 10: 'South Africa', 26:'Rest SSA'}}) #{6:'Rest South America', 8:'Western Africa', 9: 'Eastern Africa', 10: 'South Africa', 21: 'Southeastern Asia', 22: 'Indonesia +', 24:'Oceania' , 25:'Rest S.Asia', 26:'Rest S.Africa'}})\n",
    "df2 = df2.groupby(['scenario', 'techid']).sum().reset_index()\n",
    "#df2['capacity_GW'] = df2['capacity_MW']/1000\n",
    "\n",
    "fig = px.bar(df2,x='scenario', y='capacity_GW',  color=\"techid\",  category_orders={\"scenario\" : [ 'SSP2-BL', 'SSP2-UA', 'SSP2-2C-UA', 'SSP2-UA-DLS' , 'SSP2-2C-UA-DLS'] ,\n",
    "                              \"techid\" : [   'MG-wind', 'MG-PV','MG-hydro' ,   'MG-PV-diesel', 'MG-wind-diesel','MG-diesel', \"SA-diesel\", 'SA-PV']},\n",
    "                              color_discrete_sequence=['#00CC96',  'rgb(255,237,111)','#19D3F3',    '#FF7F0E',  '#BCBD22', '#7F7F7F', \"brown\",'#FECB52'],\n",
    "             labels = {\"techid\" : \"\" , 'capacity_GW': 'Off grid added Capacity [GW]',  'scenario' : ''},\n",
    "             facet_row_spacing=0.1, facet_col_spacing=0.06) #'already access',#category_orders={\"region\": [ 8.0, 9.0,10,26]} )\n",
    "\n",
    "fig.for_each_annotation(lambda a: a.update(text=a.text.split(\"=\")[-1]))\n",
    "#fig.for_each_yaxis(lambda yaxis: yaxis.update(showticklabels=True)) \n",
    "fig.update_layout(font = dict(size = 15), height = 470, width = 500,  paper_bgcolor = \"white\", plot_bgcolor = \"rgba(0,0,0,0)\", legend=dict(orientation=\"h\", yanchor=\"top\", xanchor=\"left\", y = -0.3 )) #, legend=dict(orientation=\"h\", yanchor=\"bottom\", xanchor=\"left\", ))1\n",
    "fig.update_xaxes( showticklabels=True, tickfont =dict(size = 15))\n",
    "fig.update_yaxes( matches=None, showticklabels=True, tickfont =dict(size = 15), dtick = 20) "
   ]
  }
 ],
 "metadata": {
  "kernelspec": {
   "display_name": "mapenv",
   "language": "python",
   "name": "python3"
  },
  "language_info": {
   "codemirror_mode": {
    "name": "ipython",
    "version": 3
   },
   "file_extension": ".py",
   "mimetype": "text/x-python",
   "name": "python",
   "nbconvert_exporter": "python",
   "pygments_lexer": "ipython3",
   "version": "3.9.15"
  },
  "orig_nbformat": 4,
  "vscode": {
   "interpreter": {
    "hash": "f20823686ca0596b345df4e2ce6b4aaa4c049a4c51a5cd6368b00f8b23f53cf9"
   }
  }
 },
 "nbformat": 4,
 "nbformat_minor": 2
}
