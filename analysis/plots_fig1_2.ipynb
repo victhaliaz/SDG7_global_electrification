{
 "cells": [
  {
   "cell_type": "code",
   "execution_count": null,
   "metadata": {},
   "outputs": [],
   "source": [
    "import pandas as pd\n",
    "import numpy as np\n",
    "import os\n",
    "import xarray as xr \n",
    "import plotly.express as px\n",
    "\n",
    "os.getcwd()\n",
    "DIR = \"X:\\\\user\\\\zapatacasv\\\\sdg7\\\\scripts\"   # Set the running directory here\n",
    "os.chdir(DIR)\n",
    "#import data_import as dat \n",
    "all = xr.open_dataset('..\\\\output\\\\gph_SSP2\\\\gph_popg_world_SSP2.nc')\n",
    "import test as gph\n",
    "gph.popg = all.tpop\n",
    "\n",
    "del all"
   ]
  },
  {
   "cell_type": "code",
   "execution_count": null,
   "metadata": {},
   "outputs": [],
   "source": [
    "#Opening least cost technology maps under all scenarios\n",
    "#list of scenarios\n",
    "scen = ['SSP2','SSP2-DLS',  'PEP-2C-AdvPE', 'PEP-2C-AdvPE-DLS']\n",
    "fn = ['techid_univ', 'techid_bl']\n",
    "path = []\n",
    "fn2 = []\n",
    "for s in scen:\n",
    "    for f in fn:\n",
    "        arr = '..\\\\output\\\\%s\\\\%s.nc' %(s, f)\n",
    "        path.append(arr)\n",
    "        arr = f + '-' + s #s #\n",
    "        fn2.append(arr)\n",
    "techid = xr.combine_by_coords([xr.open_dataarray(path[i]).to_dataset(name = fn2[i] ) for i in range(len(path))], combine_attrs = \"override\")\n"
   ]
  },
  {
   "cell_type": "code",
   "execution_count": null,
   "metadata": {},
   "outputs": [],
   "source": [
    "#for filtering and changing scenario names\n",
    "fn = fn2\n",
    "fn2 = ['techid_univ-SSP2',\n",
    " 'techid_bl-SSP2',\n",
    " 'techid_univ-SSP2-DLS',\n",
    " 'techid_univ-PEP-2C-AdvPE',\n",
    " #'techid_bl-PEP-2C-AdvPE',\n",
    " 'techid_univ-PEP-2C-AdvPE-DLS']\n",
    "\n",
    "scen = {'techid_univ-SSP2' : 'SSP2-UA',\n",
    " 'techid_bl-SSP2' :  'SSP2-BL',\n",
    " 'techid_univ-SSP2-DLS' :  'SSP2-UA-DLS',\n",
    " 'techid_univ-PEP-2C-AdvPE' :  'SSP2-2C-UA',\n",
    " #'techid_bl-PEP-2C-AdvPE' : 'SSP2-2C-BL',\n",
    " 'techid_univ-PEP-2C-AdvPE-DLS' : 'SSP2-2C-UA-DLS'}\n",
    "\n",
    "techid = techid[fn2]"
   ]
  },
  {
   "cell_type": "code",
   "execution_count": null,
   "metadata": {},
   "outputs": [],
   "source": [
    "#Plotting distribution of least cost options in the population for achieving universal access\n",
    "year = gph.popg.year.data\n",
    "\n",
    "arr = techid\n",
    "arr = xr.where(arr == 1, np.nan, arr)\n",
    "arr['pop'] = gph.popg.sel(year = 2030) \n",
    "df1 = pd.DataFrame([])\n",
    "for r in [4,6, 8.0, 9.0,10,21,22,25,26, 18, 3]: #24\n",
    "    for f in fn2:\n",
    "        df = arr.where(arr.imager == r)\n",
    "        df.coords[f] = df[f]\n",
    "        df = df.pop.groupby(f).sum().drop(['spatial_ref',  'dos', 'year', 'seis', 'tres']).to_dataframe(name = ('pop'))\n",
    "        df['region'] = r\n",
    "        df['scenario'] = scen[f]\n",
    "        df['pop_share'] = df['pop'] / df['pop'].sum()\n",
    "        df1 = pd.concat([df1,df])#df1.append(df)\n",
    "        #df1\n",
    "\n",
    "\n",
    "df2 = df1.reset_index(names = 'leastcostID_enteryear_univ')\n",
    "#df2 = df2[df2[\"region\"].isin([4, 8.0, 9.0,21,22,25,26, 18])]  #, 3, 10, 6,\n",
    "df2 = df2[df2[\"region\"].isin([4, 8.0, 9.0,21,22,25,26, 18, 3, 10, 6])]  #, 3, 10, 6,\n",
    "df2 = df2[df2[\"scenario\"].isin(scen.values())]\n",
    "df2 = df2.replace({'leastcostID_enteryear_univ': {  2:'CG-densification', 3: 'CG-extension', 4: 'MG-PV', 5: 'MG-diesel', 6: 'MG-wind', 7:'MG-hydro' , 8:'MG-PV-diesel', 9:'MG-wind-diesel', 10:'SA-PV', 11: \"SA-diesel\"}}) #1: 'already access',\n",
    "df2 = df2.replace({'region':  {4: 'Rest Central America', 6:'Rest South America', 8:'Western Africa', 9: 'Eastern Africa', 10: 'South Africa', 21: 'Southeastern Asia', 22: 'Indonesia +', 24:'Oceania' , 25:'Rest South Asia', 26:'Rest South Africa', 18: 'India', 3: 'Mexico'}})  #{ 8:'Western Africa', 9: 'Eastern Africa', 10: 'South Africa', 26:'Rest SSA'}}) #{6:'Rest South America', 8:'Western Africa', 9: 'Eastern Africa', 10: 'South Africa', 21: 'Southeastern Asia', 22: 'Indonesia +', 24:'Oceania' , 25:'Rest S.Asia', 26:'Rest S.Africa'}})\n",
    "\n",
    "\n",
    "\n"
   ]
  },
  {
   "cell_type": "code",
   "execution_count": null,
   "metadata": {},
   "outputs": [],
   "source": [
    "df2.to_csv('..\\\\output\\\\tech_shares_over_pop2.csv')"
   ]
  },
  {
   "cell_type": "code",
   "execution_count": null,
   "metadata": {},
   "outputs": [],
   "source": [
    "# #Analyzing difference in LCOE between scenarios with and without mitigation\n",
    "# df = techid.where(techid>3)\n",
    "\n",
    "# #df['techid_univ-PEP-2C-AdvPE'] = df['techid_univ-PEP-2C-AdvPE'].where((df['techid_univ-PEP-2C-AdvPE'] != 5) & (df['techid_univ-PEP-2C-AdvPE'] != 11))\n",
    "# df['techid_univ-SSP2' ] = df['techid_univ-SSP2' ].where((df['techid_univ-SSP2' ] == 5) | (df['techid_univ-SSP2' ] == 11) | (df['techid_univ-SSP2' ] == 8) | (df['techid_univ-SSP2' ] == 9))\n",
    "\n",
    "# lcoe_mit = xr.open_dataarray('..\\\\output\\\\PEP-2C-AdvPE\\\\leastcost_LCOE_enteryear_univ.nc')\n",
    "# lcoe = xr.open_dataarray('..\\\\output\\\\SSP2\\\\leastcost_LCOE_enteryear_univ.nc')\n",
    "\n",
    "# delta_LCOE = (lcoe_mit.where(df['techid_univ-SSP2' ] >0) - lcoe.where(df['techid_univ-SSP2' ] >0))*100/lcoe\n",
    "\n",
    "\n",
    "# #delta_LCOE.plot.hist(bins = 100)\n",
    "# delta_LCOE.where(delta_LCOE == 0).count()"
   ]
  },
  {
   "cell_type": "code",
   "execution_count": null,
   "metadata": {},
   "outputs": [],
   "source": [
    "\n",
    "fig = px.bar(df2,x='scenario', y='pop',  color=\"leastcostID_enteryear_univ\", facet_col='region', facet_col_wrap=4 , \n",
    "             category_orders={\"scenario\" : [ 'SSP2-BL', 'SSP2-UA', 'SSP2-2C-UA', 'SSP2-UA-DLS' , 'SSP2-2C-UA-DLS'] , \n",
    "                              \"leastcostID_enteryear_univ\" : [ 'CG-densification', 'CG-extension',   'MG-wind', 'MG-PV','MG-hydro' ,   'MG-PV-diesel', 'MG-wind-diesel','MG-diesel', \"SA-diesel\", 'SA-PV'], \n",
    "                              \"region\": [ 'Western Africa',  'Eastern Africa', 'Rest South Africa', 'Rest South Asia', 'Southeastern Asia', 'India','Indonesia +',       'Rest Central America']},  # 'Rest South America','Mexico', 'South Africa',\n",
    "                              color_discrete_sequence=['#636EFA', '#AB63FA',   '#00CC96',  'rgb(255,237,111)','#19D3F3',    '#FF7F0E',  '#BCBD22', '#7F7F7F', \"brown\",'#FECB52'],\n",
    "             labels = {\"leastcostID_enteryear_univ\" : \"Legend:\" , 'pop': 'Population', 'scenario': ' '},\n",
    "             facet_row_spacing=0.25, facet_col_spacing=0.06) #\n",
    "\n",
    "fig.for_each_annotation(lambda a: a.update(text=a.text.split(\"=\")[-1]))\n",
    "#fig.for_each_yaxis(lambda yaxis: yaxis.update(showticklabels=True)) \n",
    "fig.update_layout(font = dict(size = 15), height = 600, width = 1300,  paper_bgcolor = \"white\", plot_bgcolor = \"rgba(0,0,0,0)\", legend=dict(orientation=\"h\", yanchor=\"bottom\", xanchor=\"left\", y = -0.25, x = -0.05))\n",
    "fig.update_xaxes( showticklabels=True, tickfont =dict(size = 13))\n",
    "fig.update_yaxes( matches=None, showticklabels=True, tickfont =dict(size = 13)) #"
   ]
  },
  {
   "cell_type": "code",
   "execution_count": null,
   "metadata": {},
   "outputs": [],
   "source": [
    "df2.to_csv('..\\\\output\\\\tech_shares_over_pop.csv')"
   ]
  },
  {
   "cell_type": "code",
   "execution_count": null,
   "metadata": {},
   "outputs": [],
   "source": [
    "#Cleaning data from countries that achieved UA when running for world\n",
    "#countries with UA by 2020\n",
    "path = \"..\\\\data\\\\UA_countries_2020.csv\"\n",
    "df2 =  pd.read_csv(path,  delimiter = ',')\n",
    "#loading country  mask and removing countries that achieved UA\n",
    "df = xr.open_dataset('..\\\\data\\\\country_5min.nc')\n",
    "df = df.assign_coords(x = (\"x\", gph.popg.x.values))\n",
    "df = df.assign_coords(y = (\"y\", gph.popg.y.values)) \n",
    "gph.popg.coords['country'] = xr.where(df.country.isin(df2.id), 1000, np.nan) #to make a shade on locations that achieved UA\n",
    "gph.popg['country'] = gph.popg.country.where((gph.popg.country != 255) & (gph.popg.country != 8) & (gph.popg.country != 88) & (gph.popg.country != 214)) #remove oceans and poles for country code (8 here is not E Africa), 214 for Svalvard in north pole\n",
    "\n",
    "#gph.popg = gph.popg.where(gph.popg['country']>=0)\n"
   ]
  },
  {
   "cell_type": "code",
   "execution_count": null,
   "metadata": {},
   "outputs": [],
   "source": [
    "a = 'techid_univ-SSP2' #'techid_univ-PEP-2C-AdvPE' #'techid_univ-SSP2-DLS' #'techid_univ-PEP-2C-AdvPE' # #'techid_univ-SSP2-DLS'\n",
    "techid[a].groupby(techid[a]).count()  #'techid_univ-SSP2' 'techid_univ-PEP-2C-AdvPE-DLS' 'techid_univ-SSP2-DLS', 'techid_univ-PEP-2C-AdvPE'"
   ]
  },
  {
   "cell_type": "code",
   "execution_count": null,
   "metadata": {},
   "outputs": [],
   "source": [
    "\n",
    "#plotting least cost option for connection (central gid, mini grid, stad alone)\n",
    "system = xr.full_like(techid[a] , np.nan)  \n",
    "system = xr.where(techid[a]==1, np.nan, system) \n",
    "system = xr.where(( techid[a]==2) | (techid[a]==3), 1, system)\n",
    "system = xr.where(( techid[a]>3)&(techid[a]<10),2, system)\n",
    "system = xr.where(( techid[a]>9),3, system)\n",
    "#system = system.where(gph.popg.tpop.sel(year = 2020) > 1) #to remove locations where there is no population\n",
    "\n",
    "arr = system\n",
    "\n",
    "\n",
    "import cartopy.crs as ccrs\n",
    "import matplotlib.pyplot as plt\n",
    "import matplotlib.ticker as mticker\n",
    "from cartopy.mpl.gridliner import LONGITUDE_FORMATTER, LATITUDE_FORMATTER"
   ]
  },
  {
   "cell_type": "code",
   "execution_count": null,
   "metadata": {},
   "outputs": [],
   "source": [
    "\n",
    "\n",
    "# First we specify Coordinate Refference System for Map Projection\n",
    "# We will use Mercator, which is a cylindrical, conformal projection. \n",
    "# It has bery large distortion at high latitudes, cannot \n",
    "# fully reach the polar regions.\n",
    "projection = ccrs.PlateCarree() #ccrs.Mollweide()\n",
    "\n",
    "# Specify CRS, that will be used to tell the code, where should our data be plotted\n",
    "crs = ccrs.PlateCarree()\n",
    "\n",
    "# Now we will create axes object having specific projection \n",
    "plt.figure(dpi=150)\n",
    "ax = plt.axes(projection=projection, frameon=True)\n",
    "\n",
    "# # Draw gridlines in degrees over Mollweide map\n",
    "# gl = ax.gridlines(crs=crs, draw_labels=True,\n",
    "#                   linewidth=.6, color='gray', alpha=0.5, linestyle='-.')\n",
    "# gl.ylabels_right= False\n",
    "# gl.ylabels_left= True\n",
    "# gl.xlabels_top = False\n",
    "# gl.xlabels_bottom = True\n",
    "# #gl.xlocator = mticker.FixedLocator([-160,  0, 160])\n",
    "# gl.xformatter = LONGITUDE_FORMATTER\n",
    "# gl.yformatter = LATITUDE_FORMATTER\n",
    "# gl.xlabel_style = {\"size\" : 7}\n",
    "# gl.ylabel_style = {\"size\" : 7}\n",
    "# gl.ylocator = mticker.FixedLocator([-20, 0, 20])\n",
    "# To plot borders and coastlines, we can use cartopy feature\n",
    "import cartopy.feature as cf\n",
    "ax.coastlines(lw=0.3) #add_feature(cf.COASTLINE.with_scale(\"50m\"), lw=0.3)\n",
    "#ax.add_feature(cf.BORDERS.with_scale(\"50m\"), lw=0.3)\n",
    "\n",
    "# # Now, we will specify extent of our map in minimum/maximum longitude/latitude\n",
    "# # Note that these values are specified in degrees of longitude and degrees of latitude\n",
    "# # However, we can specify them in any crs that we want, but we need to provide appropriate\n",
    "# # crs argument in ax.set_extent\n",
    "lon_min = -179\n",
    "lon_max = 179\n",
    "lat_min = -40 #-70 #-44\n",
    "lat_max = 60# 80 #44\n",
    "ax.set_extent([lon_min, lon_max, lat_min, lat_max], crs=crs)\n",
    "\n",
    "cax = arr.plot(ax = ax,  add_colorbar=False, transform=ccrs.PlateCarree(), levels = [1,2,3,4]) #\n",
    "gph.popg['country'].plot( ax = ax,  add_colorbar=False, transform=ccrs.PlateCarree(), levels = 1000, colors = 'lightgrey')    \n",
    "plt.ylabel('latitude', fontsize=20)\n",
    "plt.title(' ', fontsize=20)\n",
    "cbar = plt.colorbar(cax, ticks=[1.5, 2.5, 3.5],  orientation='horizontal', spacing = 'uniform', shrink = 0.5) #colorbar\n",
    "cbar.ax.set_xticklabels(['Central grid extension T&D', 'Mini grid', 'Stand-alone'],   fontsize=10)\n",
    "#cbar.set_label('Map legend')\n",
    "#plt.title(f\"Temperature anomaly over Europe in {dataset.valid_time.dt.strftime('%B %Y').values}\")\n",
    "ax.spines['top'].set_visible(False)\n",
    "ax.spines['right'].set_visible(False)\n",
    "ax.spines['bottom'].set_visible(False)\n",
    "ax.spines['left'].set_visible(False)\n",
    "ax.add_feature(cf.OCEAN)\n",
    "plt.show()"
   ]
  }
 ],
 "metadata": {
  "kernelspec": {
   "display_name": "mapenv",
   "language": "python",
   "name": "python3"
  },
  "language_info": {
   "codemirror_mode": {
    "name": "ipython",
    "version": 3
   },
   "file_extension": ".py",
   "mimetype": "text/x-python",
   "name": "python",
   "nbconvert_exporter": "python",
   "pygments_lexer": "ipython3",
   "version": "3.9.15"
  },
  "orig_nbformat": 4,
  "vscode": {
   "interpreter": {
    "hash": "f20823686ca0596b345df4e2ce6b4aaa4c049a4c51a5cd6368b00f8b23f53cf9"
   }
  }
 },
 "nbformat": 4,
 "nbformat_minor": 2
}
